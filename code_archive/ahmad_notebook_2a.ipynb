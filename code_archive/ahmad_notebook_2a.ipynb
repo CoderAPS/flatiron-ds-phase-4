{
 "cells": [
  {
   "cell_type": "code",
   "execution_count": 68,
   "id": "a657128e-bfe9-4b1a-bea0-3c560f03c9ae",
   "metadata": {},
   "outputs": [],
   "source": [
    "import pandas as pd\n",
    "import numpy as np\n",
    "import string\n",
    "import re\n",
    "import time\n",
    "\n",
    "import matplotlib.pyplot as plt\n",
    "\n",
    "\n",
    "import nltk\n",
    "from nltk.tokenize import RegexpTokenizer\n",
    "from nltk.corpus import stopwords, wordnet\n",
    "from nltk import pos_tag\n",
    "from nltk.stem import WordNetLemmatizer\n",
    "\n",
    "from sklearn.model_selection import train_test_split\n",
    "from sklearn.pipeline import Pipeline\n",
    "from sklearn.model_selection import GridSearchCV\n",
    "from sklearn.feature_extraction.text import TfidfVectorizer, CountVectorizer\n",
    "from sklearn.ensemble import RandomForestClassifier\n",
    "from sklearn.naive_bayes import MultinomialNB\n",
    "from sklearn.neighbors import KNeighborsClassifier\n",
    "from sklearn.linear_model import LogisticRegression\n",
    "from sklearn.svm import SVC\n",
    "from sklearn.metrics import accuracy_score, recall_score,precision_score, confusion_matrix\n",
    "from sklearn.metrics import make_scorer\n",
    "from sklearn.metrics import plot_confusion_matrix\n",
    "from imblearn.over_sampling import SMOTE \n",
    "\n",
    "from nltk import word_tokenize\n",
    "from keras.preprocessing.sequence import pad_sequences\n",
    "from keras.layers import Input, Dense, LSTM, Embedding\n",
    "from keras.layers import Dropout, Activation, Bidirectional, GlobalMaxPool1D\n",
    "from keras.models import Sequential\n",
    "from keras import initializers, regularizers, constraints, optimizers, layers\n",
    "from keras.preprocessing import text, sequence\n",
    "from keras import metrics\n"
   ]
  },
  {
   "cell_type": "code",
   "execution_count": 3,
   "id": "25a8d602-d2fd-40c0-96b3-5ac6e15f4fbc",
   "metadata": {},
   "outputs": [],
   "source": [
    "# Read file\n",
    "filename = 'data/judge-1377884607_tweet_product_company.csv'\n",
    "\n",
    "sentiments_df = pd.read_csv(filename, encoding= 'unicode_escape') \n"
   ]
  },
  {
   "cell_type": "code",
   "execution_count": 4,
   "id": "dc74ace4-6854-49cf-a0bf-a96dd60f45ea",
   "metadata": {},
   "outputs": [
    {
     "data": {
      "text/html": [
       "<div>\n",
       "<style scoped>\n",
       "    .dataframe tbody tr th:only-of-type {\n",
       "        vertical-align: middle;\n",
       "    }\n",
       "\n",
       "    .dataframe tbody tr th {\n",
       "        vertical-align: top;\n",
       "    }\n",
       "\n",
       "    .dataframe thead th {\n",
       "        text-align: right;\n",
       "    }\n",
       "</style>\n",
       "<table border=\"1\" class=\"dataframe\">\n",
       "  <thead>\n",
       "    <tr style=\"text-align: right;\">\n",
       "      <th></th>\n",
       "      <th>tweet_text</th>\n",
       "      <th>emotion_in_tweet_is_directed_at</th>\n",
       "      <th>is_there_an_emotion_directed_at_a_brand_or_product</th>\n",
       "    </tr>\n",
       "  </thead>\n",
       "  <tbody>\n",
       "    <tr>\n",
       "      <th>0</th>\n",
       "      <td>.@wesley83 I have a 3G iPhone. After 3 hrs twe...</td>\n",
       "      <td>iPhone</td>\n",
       "      <td>Negative emotion</td>\n",
       "    </tr>\n",
       "    <tr>\n",
       "      <th>1</th>\n",
       "      <td>@jessedee Know about @fludapp ? Awesome iPad/i...</td>\n",
       "      <td>iPad or iPhone App</td>\n",
       "      <td>Positive emotion</td>\n",
       "    </tr>\n",
       "    <tr>\n",
       "      <th>2</th>\n",
       "      <td>@swonderlin Can not wait for #iPad 2 also. The...</td>\n",
       "      <td>iPad</td>\n",
       "      <td>Positive emotion</td>\n",
       "    </tr>\n",
       "    <tr>\n",
       "      <th>3</th>\n",
       "      <td>@sxsw I hope this year's festival isn't as cra...</td>\n",
       "      <td>iPad or iPhone App</td>\n",
       "      <td>Negative emotion</td>\n",
       "    </tr>\n",
       "    <tr>\n",
       "      <th>4</th>\n",
       "      <td>@sxtxstate great stuff on Fri #SXSW: Marissa M...</td>\n",
       "      <td>Google</td>\n",
       "      <td>Positive emotion</td>\n",
       "    </tr>\n",
       "  </tbody>\n",
       "</table>\n",
       "</div>"
      ],
      "text/plain": [
       "                                          tweet_text  \\\n",
       "0  .@wesley83 I have a 3G iPhone. After 3 hrs twe...   \n",
       "1  @jessedee Know about @fludapp ? Awesome iPad/i...   \n",
       "2  @swonderlin Can not wait for #iPad 2 also. The...   \n",
       "3  @sxsw I hope this year's festival isn't as cra...   \n",
       "4  @sxtxstate great stuff on Fri #SXSW: Marissa M...   \n",
       "\n",
       "  emotion_in_tweet_is_directed_at  \\\n",
       "0                          iPhone   \n",
       "1              iPad or iPhone App   \n",
       "2                            iPad   \n",
       "3              iPad or iPhone App   \n",
       "4                          Google   \n",
       "\n",
       "  is_there_an_emotion_directed_at_a_brand_or_product  \n",
       "0                                   Negative emotion  \n",
       "1                                   Positive emotion  \n",
       "2                                   Positive emotion  \n",
       "3                                   Negative emotion  \n",
       "4                                   Positive emotion  "
      ]
     },
     "execution_count": 4,
     "metadata": {},
     "output_type": "execute_result"
    }
   ],
   "source": [
    "# Data overview\n",
    "sentiments_df.head()"
   ]
  },
  {
   "cell_type": "code",
   "execution_count": 5,
   "id": "c7026901-1607-4652-8737-12902cc0b448",
   "metadata": {},
   "outputs": [
    {
     "data": {
      "text/plain": [
       "988      Confusion over Google Circles. Google claim Circles is not being released at #sxsw and is not even in development. {link}\n",
       "7248    Check it out! Great &amp; v. effective enviro app by @mention : Which Bin - {link} (iPhone 3gs+) #sxsw #sxswi #greatergood\n",
       "4354                  My #sxsw moment - walking while looking down at iPhone and nearly ran into @mention and @mention at the ACC.\n",
       "1330                                      A new app with a resourceful way to get connected: {link} #hashable #SXSW #iphone #droid\n",
       "3973                                                              32gb black at&amp;t in stock!! Yes!! #SXSW #iPad2 #Austin #apple\n",
       "7933                                     Epicurious, flipboard, CNN, wired, and MOMA as examples of good iPad design #SXSW  {link}\n",
       "Name: tweet_text, dtype: object"
      ]
     },
     "execution_count": 5,
     "metadata": {},
     "output_type": "execute_result"
    }
   ],
   "source": [
    "# Randomly check tweet text for a couple of rows\n",
    "\n",
    "pd.set_option('display.max_colwidth', None)\n",
    "indexes = np.random.randint(0,len(sentiments_df),6)\n",
    "sentiments_df['tweet_text'].loc[indexes]\n"
   ]
  },
  {
   "cell_type": "code",
   "execution_count": 6,
   "id": "41234323-fa84-49cd-b047-0df85fe7c0c0",
   "metadata": {},
   "outputs": [
    {
     "name": "stdout",
     "output_type": "stream",
     "text": [
      "<class 'pandas.core.frame.DataFrame'>\n",
      "RangeIndex: 9093 entries, 0 to 9092\n",
      "Data columns (total 3 columns):\n",
      " #   Column                                              Non-Null Count  Dtype \n",
      "---  ------                                              --------------  ----- \n",
      " 0   tweet_text                                          9092 non-null   object\n",
      " 1   emotion_in_tweet_is_directed_at                     3291 non-null   object\n",
      " 2   is_there_an_emotion_directed_at_a_brand_or_product  9093 non-null   object\n",
      "dtypes: object(3)\n",
      "memory usage: 213.2+ KB\n"
     ]
    }
   ],
   "source": [
    "# Check number of records, data types and which columns have nan\n",
    "\n",
    "sentiments_df.info()"
   ]
  },
  {
   "cell_type": "code",
   "execution_count": 7,
   "id": "53532e2e-ece8-469a-8a19-60b7afaa56f1",
   "metadata": {},
   "outputs": [
    {
     "data": {
      "text/plain": [
       "iPad                               946\n",
       "Apple                              661\n",
       "iPad or iPhone App                 470\n",
       "Google                             430\n",
       "iPhone                             297\n",
       "Other Google product or service    293\n",
       "Android App                         81\n",
       "Android                             78\n",
       "Other Apple product or service      35\n",
       "Name: emotion_in_tweet_is_directed_at, dtype: int64"
      ]
     },
     "execution_count": 7,
     "metadata": {},
     "output_type": "execute_result"
    }
   ],
   "source": [
    "# Check values for column 'emotion_in_tweet_is_directed_at'\n",
    "\n",
    "sentiments_df['emotion_in_tweet_is_directed_at'].value_counts()"
   ]
  },
  {
   "cell_type": "code",
   "execution_count": 8,
   "id": "7f9643d9-9154-449b-b4d0-904d43bc2e85",
   "metadata": {},
   "outputs": [
    {
     "data": {
      "text/plain": [
       "5802"
      ]
     },
     "execution_count": 8,
     "metadata": {},
     "output_type": "execute_result"
    }
   ],
   "source": [
    "# Confirm number of NaN in column 'emotion_in_tweet_is_directed_at'\n",
    "\n",
    "sentiments_df['emotion_in_tweet_is_directed_at'].isna().sum()"
   ]
  },
  {
   "cell_type": "code",
   "execution_count": 9,
   "id": "62bed5c8-fb42-4f15-9de1-3cfb7a71b1d0",
   "metadata": {},
   "outputs": [
    {
     "data": {
      "text/plain": [
       "No emotion toward brand or product    5389\n",
       "Positive emotion                      2978\n",
       "Negative emotion                       570\n",
       "I can't tell                           156\n",
       "Name: is_there_an_emotion_directed_at_a_brand_or_product, dtype: int64"
      ]
     },
     "execution_count": 9,
     "metadata": {},
     "output_type": "execute_result"
    }
   ],
   "source": [
    "# Check values for column 'is_there_an_emotion_directed_at_a_brand_or_product'\n",
    "\n",
    "sentiments_df['is_there_an_emotion_directed_at_a_brand_or_product'].value_counts()"
   ]
  },
  {
   "cell_type": "code",
   "execution_count": 10,
   "id": "0f4f5187-4c11-4cfc-88c5-af553b6a49dc",
   "metadata": {},
   "outputs": [],
   "source": [
    "\n",
    "def find_company_name_v2(text,emotion_at):\n",
    "    \n",
    "    '''\n",
    "    Go through text ('tweet_text' column) and determine whether it is about apple or google and\n",
    "    return either 'apple' or 'google' according to search.\n",
    "    If cannot tell company id from text, check emotion_at ('emotion_in_tweet_is_directed_at'\n",
    "    column) for comapy id. If cannot find company id return 'cannot tell'.\n",
    "    '''\n",
    "    \n",
    "    revised_emotion_at = str(emotion_at).lower()\n",
    "    \n",
    "    \n",
    "    revised_text = str(text).lower()\n",
    "    \n",
    "    apple = ['apple','iphone','ipad']\n",
    "    google = ['google','android']\n",
    "    \n",
    "    apple_count = 0\n",
    "    google_count = 0\n",
    "    \n",
    "    for a in apple:\n",
    "        apple_count += sum(1 for _ in re.finditer(r'\\b%s\\b' % re.escape(a), revised_text))\n",
    "        \n",
    "    for g in google:\n",
    "        google_count += sum(1 for _ in re.finditer(r'\\b%s\\b' % re.escape(g), revised_text))\n",
    "    \n",
    "\n",
    "    if apple_count > google_count:\n",
    "        return 'apple'\n",
    "    elif google_count > apple_count:\n",
    "        return 'google'\n",
    "    elif revised_emotion_at != 'nan' and revised_emotion_at != 'default':\n",
    "        for idx, item in enumerate(revised_emotion_at.split()):\n",
    "            if item in apple:\n",
    "                return 'apple'\n",
    "            elif item in google:\n",
    "                return 'google'\n",
    "            else:\n",
    "                if idx == len(revised_emotion_at.split()): \n",
    "                    return 'cannot tell'\n",
    "    else:\n",
    "        return 'cannot tell'"
   ]
  },
  {
   "cell_type": "code",
   "execution_count": 11,
   "id": "ff03c881-e1ed-4b13-af15-eb93e0147453",
   "metadata": {},
   "outputs": [
    {
     "data": {
      "text/plain": [
       "apple          5331\n",
       "google         2814\n",
       "cannot tell     948\n",
       "Name: company_name, dtype: int64"
      ]
     },
     "execution_count": 11,
     "metadata": {},
     "output_type": "execute_result"
    }
   ],
   "source": [
    "# Create a new column called 'company_name' and find whether the tweet is about apple,\n",
    "# google or cannot tell using function find_company_name\n",
    " \n",
    "sentiments_df['company_name'] = sentiments_df.apply(\n",
    "    lambda s: find_company_name_v2(s['tweet_text'],s['emotion_in_tweet_is_directed_at']),axis=1) \n",
    "\n",
    "sentiments_df['company_name'].value_counts()\n"
   ]
  },
  {
   "cell_type": "code",
   "execution_count": 12,
   "id": "1d085c8d-212e-411b-b2e6-d095504f0fb9",
   "metadata": {},
   "outputs": [
    {
     "data": {
      "text/plain": [
       "No emotion toward brand or product    911\n",
       "Positive emotion                       23\n",
       "I can't tell                           10\n",
       "Negative emotion                        4\n",
       "Name: is_there_an_emotion_directed_at_a_brand_or_product, dtype: int64"
      ]
     },
     "execution_count": 12,
     "metadata": {},
     "output_type": "execute_result"
    }
   ],
   "source": [
    "# Tweets for which cannot tell whether comment directed to apple or google the\n",
    "# sentiment is mostly neutral (over 95%)\n",
    "\n",
    "cannot_tell = sentiments_df[sentiments_df['company_name'] == 'cannot tell']\n",
    "cannot_tell['is_there_an_emotion_directed_at_a_brand_or_product'].value_counts()"
   ]
  },
  {
   "cell_type": "code",
   "execution_count": null,
   "id": "d1ff0707-bcb0-40f4-804f-e33848dd9e71",
   "metadata": {},
   "outputs": [],
   "source": [
    "\n"
   ]
  },
  {
   "cell_type": "code",
   "execution_count": 13,
   "id": "053ceddf-b737-421c-a1f1-50ef53850913",
   "metadata": {},
   "outputs": [
    {
     "data": {
      "text/plain": [
       "apple     5231\n",
       "google    2748\n",
       "Name: company_name, dtype: int64"
      ]
     },
     "execution_count": 13,
     "metadata": {},
     "output_type": "execute_result"
    }
   ],
   "source": [
    "# Drop any row where 'tweet_text' is nan\n",
    "sentiments_df.drop(sentiments_df[sentiments_df['tweet_text'].isna()].index,inplace=True)\n",
    "\n",
    "# Drop any row where 'is_there_an_emotion_directed_at_a_brand_or_product' says 'I can't tell'\n",
    "column_name = 'is_there_an_emotion_directed_at_a_brand_or_product'\n",
    "match = 'I can\\'t tell'\n",
    "sentiments_df.drop(sentiments_df[sentiments_df[column_name] == match].index, inplace=True)\n",
    "\n",
    "\n",
    "# Drop any rows where column 'company_name' says 'cannot tell'\n",
    "sentiments_df.drop(sentiments_df[sentiments_df['company_name'] == 'cannot tell'].index,\n",
    "                  inplace=True)\n",
    "\n",
    "# Drop any duplicated rows\n",
    "sentiments_df.drop(sentiments_df[sentiments_df.duplicated()].index,inplace=True)\n",
    "\n",
    "sentiments_df['company_name'].value_counts()"
   ]
  },
  {
   "cell_type": "code",
   "execution_count": 14,
   "id": "1c4b9cc1-923e-4b35-98d1-f7621eedeb20",
   "metadata": {},
   "outputs": [],
   "source": [
    "# Create a function that returns 0 for negative sentiment, 1 for neutral sentiment\n",
    "# and 2 for positive sentiment\n",
    "\n",
    "def convert_emotion_tonumber(emotion):\n",
    "    if emotion == 'Negative emotion':\n",
    "        return 0\n",
    "    elif emotion == 'Positive emotion':\n",
    "        return 2\n",
    "    else:\n",
    "        return 1  # for neutral emotion"
   ]
  },
  {
   "cell_type": "code",
   "execution_count": 15,
   "id": "37798231-3e5a-4a42-b571-1a43d4ddeaca",
   "metadata": {},
   "outputs": [
    {
     "data": {
      "text/plain": [
       "1    4467\n",
       "2    2947\n",
       "0     565\n",
       "Name: sentiment, dtype: int64"
      ]
     },
     "execution_count": 15,
     "metadata": {},
     "output_type": "execute_result"
    }
   ],
   "source": [
    "# Create a column called 'sentiment' and pass value from \n",
    "# 'is_there_an_emotion_directed_at_a_brand_or_product' to function convert_emotion_tonumber.\n",
    "\n",
    "sentiments_df['sentiment'] = sentiments_df[\n",
    "    'is_there_an_emotion_directed_at_a_brand_or_product'].map(\n",
    "    lambda s: convert_emotion_tonumber(s))\n",
    "\n",
    "sentiments_df['sentiment'].value_counts()"
   ]
  },
  {
   "cell_type": "code",
   "execution_count": 16,
   "id": "62c848ec-9961-4588-a184-21172b2d28ea",
   "metadata": {},
   "outputs": [
    {
     "name": "stdout",
     "output_type": "stream",
     "text": [
      "<class 'pandas.core.frame.DataFrame'>\n",
      "Int64Index: 7979 entries, 0 to 9092\n",
      "Data columns (total 5 columns):\n",
      " #   Column                                              Non-Null Count  Dtype \n",
      "---  ------                                              --------------  ----- \n",
      " 0   tweet_text                                          7979 non-null   object\n",
      " 1   emotion_in_tweet_is_directed_at                     3273 non-null   object\n",
      " 2   is_there_an_emotion_directed_at_a_brand_or_product  7979 non-null   object\n",
      " 3   company_name                                        7979 non-null   object\n",
      " 4   sentiment                                           7979 non-null   int64 \n",
      "dtypes: int64(1), object(4)\n",
      "memory usage: 374.0+ KB\n"
     ]
    }
   ],
   "source": [
    "sentiments_df.info()"
   ]
  },
  {
   "cell_type": "code",
   "execution_count": 17,
   "id": "e12cc8cb-5d71-4e06-b45e-d0c014bd2f25",
   "metadata": {},
   "outputs": [],
   "source": [
    "# Create an intermediate dataframe that only contains columns 'tweet_text','company_name'\n",
    "# sentiment\n",
    "\n",
    "sentiments2_df = sentiments_df[['tweet_text','company_name','sentiment']].copy()\n"
   ]
  },
  {
   "cell_type": "code",
   "execution_count": 18,
   "id": "37612d5d-857b-427e-9599-dd319587ad7d",
   "metadata": {},
   "outputs": [
    {
     "name": "stdout",
     "output_type": "stream",
     "text": [
      "<class 'pandas.core.frame.DataFrame'>\n",
      "Int64Index: 7979 entries, 0 to 9092\n",
      "Data columns (total 3 columns):\n",
      " #   Column        Non-Null Count  Dtype \n",
      "---  ------        --------------  ----- \n",
      " 0   tweet_text    7979 non-null   object\n",
      " 1   company_name  7979 non-null   object\n",
      " 2   sentiment     7979 non-null   int64 \n",
      "dtypes: int64(1), object(2)\n",
      "memory usage: 249.3+ KB\n"
     ]
    }
   ],
   "source": [
    "sentiments2_df.info()"
   ]
  },
  {
   "cell_type": "code",
   "execution_count": 19,
   "id": "8af1ce84-6634-42c2-81a2-0bda917cef41",
   "metadata": {},
   "outputs": [
    {
     "name": "stdout",
     "output_type": "stream",
     "text": [
      "Total number of unique words in tweet_words: 12131\n"
     ]
    }
   ],
   "source": [
    "# Determine total number of unique words in sentiments['tweet_text']\n",
    "\n",
    "tweet_words = sentiments_df['tweet_text'].map(word_tokenize).values\n",
    "total_vocabulary = set(word for tweet in tweet_words for word in tweet)\n",
    "print (f'Total number of unique words in tweet_words: {len(total_vocabulary)}')\n"
   ]
  },
  {
   "cell_type": "code",
   "execution_count": 20,
   "id": "b6814a7d-2f9c-42ee-bb71-edfd9b54ba37",
   "metadata": {},
   "outputs": [],
   "source": [
    "# Split sentiments2_df into two data frames where apple_df contains all tweets about apple\n",
    "# google_df contains all tweets about google\n",
    "\n",
    "apple_df = sentiments2_df[sentiments2_df['company_name'] == 'apple'].copy()\n",
    "google_df = sentiments2_df[sentiments2_df['company_name'] == 'google'].copy()\n"
   ]
  },
  {
   "cell_type": "code",
   "execution_count": null,
   "id": "2b0f9639-a76a-40af-a14d-e0fc2d86673d",
   "metadata": {},
   "outputs": [],
   "source": []
  },
  {
   "cell_type": "code",
   "execution_count": 21,
   "id": "06ba6655-c8c7-4803-87fd-6a5870a2778e",
   "metadata": {},
   "outputs": [],
   "source": [
    "# Split apple_df and google_df into train and test samples using train_test_split\n",
    "\n",
    "X_train_app, X_test_app, y_train_app, y_test_app = train_test_split(apple_df['tweet_text'],\n",
    "                                                apple_df['sentiment'],test_size = 0.4, \n",
    "                                                stratify = apple_df['sentiment'],\n",
    "                                                random_state = 6781)\n",
    "\n",
    "X_train_goo, X_test_goo, y_train_goo, y_test_goo = train_test_split(google_df['tweet_text'],\n",
    "                                                google_df['sentiment'],test_size = 0.4, \n",
    "                                                stratify = google_df['sentiment'],\n",
    "                                                random_state = 6782)\n"
   ]
  },
  {
   "cell_type": "code",
   "execution_count": 22,
   "id": "98ced66f-17c6-4d82-bfe3-5fc7a74e809d",
   "metadata": {},
   "outputs": [
    {
     "data": {
      "text/plain": [
       "4786"
      ]
     },
     "execution_count": 22,
     "metadata": {},
     "output_type": "execute_result"
    }
   ],
   "source": [
    "a = len(X_train_app)\n",
    "g = len(X_train_goo)\n",
    "a+g"
   ]
  },
  {
   "cell_type": "code",
   "execution_count": 23,
   "id": "30d050cc-3880-45d7-b87e-b9f4382307ab",
   "metadata": {},
   "outputs": [],
   "source": [
    "def get_wordnet_pos(tag):\n",
    "    '''\n",
    "    Translate nltk POS to wordnet tags\n",
    "    '''\n",
    "    \n",
    "    if tag.startswith('J'):\n",
    "        return wordnet.ADJ\n",
    "    elif tag.startswith('V'):\n",
    "        return wordnet.VERB\n",
    "    elif tag.startswith('N'):\n",
    "        return wordnet.NOUN\n",
    "    elif tag.startswith('R'):\n",
    "        return wordnet.ADV\n",
    "    else:\n",
    "        return wordnet.NOUN"
   ]
  },
  {
   "cell_type": "code",
   "execution_count": null,
   "id": "33c736b3-699c-4961-b3e3-911bb26eec32",
   "metadata": {},
   "outputs": [],
   "source": []
  },
  {
   "cell_type": "code",
   "execution_count": 24,
   "id": "8d93936a-bc1b-42c9-9e89-5e7e07478e93",
   "metadata": {},
   "outputs": [],
   "source": [
    "def nlp_doc_preparer(doc):\n",
    "    '''\n",
    "     - Customize nltk stop_words to include all punction marks\n",
    "     - Split text into words containing letters\n",
    "     - Make all letters lower case\n",
    "     - Use pos_tag to mark up the words for a particular part of a speech\n",
    "     - Use get_wordnet_pos to convert pos_tag to wordnet_pos\n",
    "     - Convert word to root word with WordNetLemmatizer\n",
    "     - Return processed document as a string of words\n",
    "    '''\n",
    "    \n",
    "    custom_sw = stopwords.words('english')\n",
    "    custom_punctuation = [c for c in list(string.punctuation) if(c not in ['!','?'])]\n",
    "    custom_sw.extend(custom_punctuation)\n",
    "\n",
    "    \n",
    "    regex_token = RegexpTokenizer(r\"([a-zA-Z]+(?:’[a-z]+)?)\")\n",
    "    doc = regex_token.tokenize(doc)\n",
    "    \n",
    "    doc = [word.lower() for word in doc]\n",
    "    doc = [word for word in doc if word not in custom_sw]\n",
    "    \n",
    "    doc = pos_tag(doc)\n",
    "    doc = [(word[0], get_wordnet_pos(word[1])) for word in doc]\n",
    "    \n",
    "    lemmatizer = WordNetLemmatizer() \n",
    "    doc = [lemmatizer.lemmatize(word[0], word[1]) for word in doc]\n",
    "    \n",
    "    return ' '.join(doc)\n"
   ]
  },
  {
   "cell_type": "code",
   "execution_count": 25,
   "id": "e11c515f-14e5-4535-963b-9bf8aa3f39dc",
   "metadata": {},
   "outputs": [],
   "source": [
    "# Combined X_train_app and X_train_goo into single series \n",
    "# and y_train_app and y_train_goo \n",
    "\n",
    "X_train_combined = pd.concat([X_train_app,X_train_goo])\n",
    "y_train_combined = pd.concat([y_train_app,y_train_goo])\n",
    "\n"
   ]
  },
  {
   "cell_type": "code",
   "execution_count": 26,
   "id": "1db10995-1cc0-4474-9734-a9ae3b21035e",
   "metadata": {},
   "outputs": [
    {
     "data": {
      "text/plain": [
       "True"
      ]
     },
     "execution_count": 26,
     "metadata": {},
     "output_type": "execute_result"
    }
   ],
   "source": [
    "len(X_train_combined) == len(y_train_combined)"
   ]
  },
  {
   "cell_type": "code",
   "execution_count": 27,
   "id": "de1db8f9-9250-4e7a-bd4b-7740695e8d02",
   "metadata": {},
   "outputs": [
    {
     "data": {
      "text/plain": [
       "4786"
      ]
     },
     "execution_count": 27,
     "metadata": {},
     "output_type": "execute_result"
    }
   ],
   "source": [
    "sum(X_train_combined.index == y_train_combined.index)"
   ]
  },
  {
   "cell_type": "code",
   "execution_count": 28,
   "id": "47aed5b9-10e9-46bf-a463-b61a0bb5c578",
   "metadata": {},
   "outputs": [],
   "source": [
    "# Process X_train_combined, X_test_app, X_test_goo with nlp_doc_preparer function\n",
    "\n",
    "X_train_combined_processed = [nlp_doc_preparer(tweet) for tweet in X_train_combined]\n",
    "\n",
    "X_test_app_processed = [nlp_doc_preparer(tweet) for tweet in X_test_app]\n",
    "X_test_goo_processed = [nlp_doc_preparer(tweet) for tweet in X_test_goo]\n"
   ]
  },
  {
   "cell_type": "code",
   "execution_count": null,
   "id": "6f887972-9060-4695-a51d-42e08882aae5",
   "metadata": {},
   "outputs": [],
   "source": []
  },
  {
   "cell_type": "code",
   "execution_count": 29,
   "id": "c0c80af7-1679-443e-ac04-59a068e02079",
   "metadata": {},
   "outputs": [],
   "source": [
    "\n",
    "\n",
    "def display_cross_validation_results(cross_val,model_name):\n",
    "    '''\n",
    "    Incoporate cross validation results into a pandas dataframe and display validation scores\n",
    "    '''\n",
    "    \n",
    "    cross_val_results = pd.DataFrame(cross_val)\n",
    "    \n",
    "    accuracy = cross_val_results['mean_test_accuracy'][0]\n",
    "    recall = cross_val_results['mean_test_recall'][0]\n",
    "    precision = cross_val_results['mean_test_precision'][0]\n",
    "    \n",
    "    print('Validation','='*60)\n",
    "    print(f'Validation results for {model_name}:')\n",
    "    print(f'Accuracy: {accuracy}')\n",
    "    print(f'Recall: {recall}')\n",
    "    print(f'Precision: {precision}\\n')"
   ]
  },
  {
   "cell_type": "code",
   "execution_count": 30,
   "id": "4268c408-3b55-46d2-8c29-fb388c01175e",
   "metadata": {},
   "outputs": [],
   "source": [
    "\n",
    "def display_prediction_results(prediction, actuall, company_name, model_name):\n",
    "    '''\n",
    "    Get predictions for X_test samples and display scores\n",
    "    '''\n",
    "    \n",
    "    accuracy = accuracy_score(actuall,prediction)\n",
    "    recall = recall_score(actuall, prediction, average = 'micro')\n",
    "    precision = precision_score(actuall, prediction, average = 'micro')\n",
    "\n",
    "    print('='*60)\n",
    "    print(f'Predictions for {company_name}: {model_name}')\n",
    "    print(f'Accuracy: {accuracy}')\n",
    "    print(f'Recall: {recall}')\n",
    "    print(f'Precision: {precision}\\n')\n"
   ]
  },
  {
   "cell_type": "code",
   "execution_count": 31,
   "id": "3fdef66d-3c0a-4b6b-b9cc-500b08da1e82",
   "metadata": {},
   "outputs": [],
   "source": [
    "def display_confusion_matrix(model, X, y,company_name, model_name):\n",
    "    print(f'Confusion matrix for: {company_name}')\n",
    "    print(f'Model: {model_name}')\n",
    "    plot_confusion_matrix(model,X,y)\n",
    "    print('='*80)\n",
    "    "
   ]
  },
  {
   "cell_type": "code",
   "execution_count": 51,
   "id": "387a0db1-95d4-41ee-a301-b03025e54226",
   "metadata": {},
   "outputs": [
    {
     "name": "stdout",
     "output_type": "stream",
     "text": [
      "Training time: 0.513425350189209\n"
     ]
    }
   ],
   "source": [
    "# Use pipes to countVectorize X_train_combined_processed and then train MultinomialNB\n",
    "\n",
    "start = time.time()\n",
    "\n",
    "cv_mnb_pipe = Pipeline([('countvect',CountVectorizer()), \n",
    "                 ('mnb', MultinomialNB())])\n",
    "\n",
    "grid_accuracy = make_scorer(accuracy_score)\n",
    "grid_recall_micro = make_scorer(recall_score, average = 'micro')\n",
    "grid_precision_micro = make_scorer(precision_score, average = 'micro')\n",
    "\n",
    "cv_mnb_params = {'countvect__input' : ['content'],'mnb__alpha' : [1.0]}\n",
    "\n",
    "cv_mnb_model_grid = GridSearchCV(estimator = cv_mnb_pipe, param_grid = cv_mnb_params,\n",
    "                                scoring = {'accuracy' : grid_accuracy, \n",
    "                                           'recall' : grid_recall_micro,\n",
    "                                          'precision' : grid_precision_micro},\n",
    "                                refit = 'accuracy')\n",
    "\n",
    "cv_mnb_model_grid.fit(X_train_combined_processed,y_train_combined)\n",
    "end = time.time()\n",
    "print(f'Training time: {end-start}')"
   ]
  },
  {
   "cell_type": "code",
   "execution_count": 68,
   "id": "1a5c6a8b-1808-4752-b8e6-8c3965fab986",
   "metadata": {},
   "outputs": [
    {
     "name": "stdout",
     "output_type": "stream",
     "text": [
      "Validation ============================================================\n",
      "Validation results for MultinomialNB with Count Vectorize:\n",
      "Accuracy: 0.6241176432091413\n",
      "Recall: 0.6241176432091413 <--- Not sure!\n",
      "Precision: 0.6241176432091413 <--- Not sure!\n",
      "\n",
      "============================================================\n",
      "Predictions for Apple: MultinomialNB with Count Vectorize\n",
      "Accuracy: 0.6149068322981367\n",
      "Recall: 0.6149068322981367\n",
      "Precision: 0.6149068322981367\n",
      "\n",
      "============================================================\n",
      "Predictions for Google: MultinomialNB with Count Vectorize\n",
      "Accuracy: 0.6872727272727273\n",
      "Recall: 0.6872727272727273\n",
      "Precision: 0.6872727272727273\n",
      "\n"
     ]
    }
   ],
   "source": [
    "# Display cross validation results, make prediction for X_test_app and X_test_goo\n",
    "# diplay results.  Use respective functions.\n",
    "\n",
    "model_name = 'MultinomialNB with Count Vectorize'\n",
    "\n",
    "display_cross_validation_results(cv_mnb_model_grid.cv_results_,model_name)\n",
    "\n",
    "y_test_app_hat = cv_mnb_model_grid.predict(X_test_app_processed)\n",
    "y_test_goo_hat = cv_mnb_model_grid.predict(X_test_goo_processed)\n",
    "\n",
    "display_prediction_results(y_test_app_hat, y_test_app,'Apple',model_name)\n",
    "\n",
    "display_prediction_results(y_test_goo_hat, y_test_goo, 'Google',model_name)\n"
   ]
  },
  {
   "cell_type": "code",
   "execution_count": 69,
   "id": "4795cd21-fec6-4305-81dc-4f4c4ebe3b73",
   "metadata": {},
   "outputs": [
    {
     "name": "stdout",
     "output_type": "stream",
     "text": [
      "Confusion matrix for: Apple\n",
      "Model: MultinomialNB with Count Vectorize\n",
      "================================================================================\n"
     ]
    },
    {
     "data": {
      "image/png": "[encoded data removed]",
      "text/plain": [
       "<Figure size 432x288 with 2 Axes>"
      ]
     },
     "metadata": {
      "needs_background": "light"
     },
     "output_type": "display_data"
    }
   ],
   "source": [
    "# Diplay confusion matrix for X_test_app\n",
    "\n",
    "display_confusion_matrix(cv_mnb_model_grid, X_test_app_processed,\n",
    "                         y_test_app, 'Apple',model_name)\n"
   ]
  },
  {
   "cell_type": "code",
   "execution_count": 70,
   "id": "3f0fb3bd-0780-4c7a-ab54-5dfa8c157a66",
   "metadata": {},
   "outputs": [
    {
     "name": "stdout",
     "output_type": "stream",
     "text": [
      "Confusion matrix for: Google\n",
      "Model: MultinomialNB with Count Vectorize\n",
      "================================================================================\n"
     ]
    },
    {
     "data": {
      "image/png": "[encoded data removed]",
      "text/plain": [
       "<Figure size 432x288 with 2 Axes>"
      ]
     },
     "metadata": {
      "needs_background": "light"
     },
     "output_type": "display_data"
    }
   ],
   "source": [
    "# Diplay confusion matrix for X_test_goo\n",
    "\n",
    "display_confusion_matrix(cv_mnb_model_grid,X_test_goo_processed,\n",
    "                         y_test_goo, 'Google',model_name)\n"
   ]
  },
  {
   "cell_type": "code",
   "execution_count": 71,
   "id": "519f8b94-166e-4d8c-85e4-6c1b37a4322c",
   "metadata": {},
   "outputs": [
    {
     "name": "stdout",
     "output_type": "stream",
     "text": [
      "Training time: 0.5106990337371826\n"
     ]
    }
   ],
   "source": [
    "# Use pipes to TfidfVectorize X_train_combined_processed and then train MultinomialNB()\n",
    "\n",
    "start = time.time()\n",
    "\n",
    "tf_mnb_pipe = Pipeline([('tfvect',TfidfVectorizer()), \n",
    "                 ('mnb', MultinomialNB())])\n",
    "\n",
    "tf_mnb_params = {'tfvect__input' : ['content'],'mnb__alpha' : [1.0]}\n",
    "\n",
    "tf_mnb_model_grid = GridSearchCV(estimator = tf_mnb_pipe, param_grid = tf_mnb_params,\n",
    "                                scoring = {'accuracy' : grid_accuracy, \n",
    "                                           'recall' : grid_recall_micro,\n",
    "                                          'precision' : grid_precision_micro},\n",
    "                                refit = 'accuracy')\n",
    "\n",
    "\n",
    "tf_mnb_model_grid.fit(X_train_combined_processed,y_train_combined)\n",
    "end = time.time()\n",
    "print(f'Training time: {end-start}')"
   ]
  },
  {
   "cell_type": "code",
   "execution_count": 72,
   "id": "fa2b4556-55f4-42f9-9859-e07672a514a7",
   "metadata": {},
   "outputs": [
    {
     "name": "stdout",
     "output_type": "stream",
     "text": [
      "Validation ============================================================\n",
      "Validation results for MultinomialNB with TF-IDF Vectorize:\n",
      "Accuracy: 0.6291296086631195\n",
      "Recall: 0.6291296086631195 <--- Not sure!\n",
      "Precision: 0.6291296086631195 <--- Not sure!\n",
      "\n",
      "============================================================\n",
      "Predictions for Apple: MultinomialNB with TF-IDF Vectorize\n",
      "Accuracy: 0.6072623029144768\n",
      "Recall: 0.6072623029144768\n",
      "Precision: 0.6072623029144768\n",
      "\n",
      "============================================================\n",
      "Predictions for Google: MultinomialNB with TF-IDF Vectorize\n",
      "Accuracy: 0.6881818181818182\n",
      "Recall: 0.6881818181818182\n",
      "Precision: 0.6881818181818182\n",
      "\n"
     ]
    }
   ],
   "source": [
    "# Display cross validation results, make prediction for X_test_app and X_test_goo\n",
    "# diplay results.  Use respective functions.\n",
    "\n",
    "model_name = 'MultinomialNB with TF-IDF Vectorize'\n",
    "\n",
    "display_cross_validation_results(tf_mnb_model_grid.cv_results_,model_name)\n",
    "\n",
    "y_test_app_hat = tf_mnb_model_grid.predict(X_test_app_processed)\n",
    "y_test_goo_hat = tf_mnb_model_grid.predict(X_test_goo_processed)\n",
    "\n",
    "display_prediction_results(y_test_app_hat, y_test_app,'Apple',model_name)\n",
    "\n",
    "display_prediction_results(y_test_goo_hat, y_test_goo, 'Google',model_name)\n"
   ]
  },
  {
   "cell_type": "code",
   "execution_count": 73,
   "id": "451fb5cd-7487-4167-8e6e-88deb096a695",
   "metadata": {},
   "outputs": [
    {
     "name": "stdout",
     "output_type": "stream",
     "text": [
      "Confusion matrix for: Apple\n",
      "Model: MultinomialNB with TF-IDF Vectorize\n",
      "================================================================================\n"
     ]
    },
    {
     "data": {
      "image/png": "[encoded data removed]",
      "text/plain": [
       "<Figure size 432x288 with 2 Axes>"
      ]
     },
     "metadata": {
      "needs_background": "light"
     },
     "output_type": "display_data"
    }
   ],
   "source": [
    "# Diplay confusion matrix for X_test_app\n",
    "\n",
    "display_confusion_matrix(tf_mnb_model_grid, X_test_app_processed,\n",
    "                         y_test_app, 'Apple',model_name)\n"
   ]
  },
  {
   "cell_type": "code",
   "execution_count": 74,
   "id": "6e4568c6-a6b9-44e7-a98d-5170874ee7d6",
   "metadata": {},
   "outputs": [
    {
     "name": "stdout",
     "output_type": "stream",
     "text": [
      "Confusion matrix for: Google\n",
      "Model: MultinomialNB with TF-IDF Vectorize\n",
      "================================================================================\n"
     ]
    },
    {
     "data": {
      "image/png": "[encoded data removed]",
      "text/plain": [
       "<Figure size 432x288 with 2 Axes>"
      ]
     },
     "metadata": {
      "needs_background": "light"
     },
     "output_type": "display_data"
    }
   ],
   "source": [
    "# Diplay confusion matrix for X_test_goo\n",
    "\n",
    "display_confusion_matrix(tf_mnb_model_grid,X_test_goo_processed,\n",
    "                         y_test_goo, 'Google',model_name)\n"
   ]
  },
  {
   "cell_type": "code",
   "execution_count": null,
   "id": "7e86c92b-0c68-4f8e-bd9f-48c9362b581e",
   "metadata": {},
   "outputs": [],
   "source": [
    "\n"
   ]
  },
  {
   "cell_type": "code",
   "execution_count": null,
   "id": "38875556-7061-4aec-993e-acb21480f6dd",
   "metadata": {},
   "outputs": [],
   "source": []
  },
  {
   "cell_type": "code",
   "execution_count": 75,
   "id": "950e6fcd-8c50-4adc-a67c-aa67a74c62c7",
   "metadata": {},
   "outputs": [
    {
     "name": "stdout",
     "output_type": "stream",
     "text": [
      "Training time: 1.2441809177398682\n"
     ]
    },
    {
     "data": {
      "text/plain": [
       "{'countvect__input': 'content',\n",
       " 'knn__leaf_size': 7,\n",
       " 'knn__n_neighbors': 7,\n",
       " 'knn__weights': 'distance'}"
      ]
     },
     "execution_count": 75,
     "metadata": {},
     "output_type": "execute_result"
    }
   ],
   "source": [
    "# Use pipes to CountVectorize X_train_combined_processed and then train KNeighborsClassifier\n",
    "\n",
    "start = time.time()\n",
    "\n",
    "cv_knn_pipe = Pipeline([('countvect',CountVectorizer()), \n",
    "                 ('knn', KNeighborsClassifier())])\n",
    "\n",
    "cv_knn_params = {'countvect__input' : ['content'],\n",
    "                 'knn__n_neighbors' : [7],  # tried 3,7,21\n",
    "                'knn__weights' : ['distance'], # tried 'uniform\n",
    "                'knn__leaf_size' : [7]}  #tried 3,15,30,45\n",
    "\n",
    "cv_knn_model_grid = GridSearchCV(estimator = cv_knn_pipe, param_grid = cv_knn_params,\n",
    "                                scoring = {'accuracy' : grid_accuracy, \n",
    "                                           'recall' : grid_recall_micro,\n",
    "                                          'precision' : grid_precision_micro},\n",
    "                                refit = 'accuracy')\n",
    "\n",
    "\n",
    "cv_knn_model_grid.fit(X_train_combined_processed,y_train_combined)\n",
    "end = time.time()\n",
    "print(f'Training time: {end-start}')\n",
    "cv_knn_model_grid.best_params_"
   ]
  },
  {
   "cell_type": "code",
   "execution_count": 76,
   "id": "e102e8aa-8f42-452f-9f6b-f58bce6a924f",
   "metadata": {},
   "outputs": [
    {
     "name": "stdout",
     "output_type": "stream",
     "text": [
      "Validation ============================================================\n",
      "Validation results for KNeighborsClassifier with Count Vectorize:\n",
      "Accuracy: 0.5917278028285156\n",
      "Recall: 0.5917278028285156 <--- Not sure!\n",
      "Precision: 0.5917278028285156 <--- Not sure!\n",
      "\n",
      "============================================================\n",
      "Predictions for Apple: KNeighborsClassifier with Count Vectorize\n",
      "Accuracy: 0.5690396559961778\n",
      "Recall: 0.5690396559961778\n",
      "Precision: 0.5690396559961778\n",
      "\n",
      "============================================================\n",
      "Predictions for Google: KNeighborsClassifier with Count Vectorize\n",
      "Accuracy: 0.6581818181818182\n",
      "Recall: 0.6581818181818182\n",
      "Precision: 0.6581818181818182\n",
      "\n"
     ]
    }
   ],
   "source": [
    "# Display cross validation results, make prediction for X_test_app and X_test_goo\n",
    "# diplay results.  Use respective functions.\n",
    "\n",
    "model_name = 'KNeighborsClassifier with Count Vectorize'\n",
    "\n",
    "display_cross_validation_results(cv_knn_model_grid.cv_results_,model_name)\n",
    "\n",
    "y_test_app_hat2 = cv_knn_model_grid.predict(X_test_app_processed)\n",
    "y_test_goo_hat2 = cv_knn_model_grid.predict(X_test_goo_processed)\n",
    "\n",
    "display_prediction_results(y_test_app_hat2, y_test_app,'Apple',model_name)\n",
    "\n",
    "display_prediction_results(y_test_goo_hat2, y_test_goo, 'Google',model_name)\n"
   ]
  },
  {
   "cell_type": "code",
   "execution_count": 77,
   "id": "6a94049e-20bf-41f9-b95d-4be453a4ba36",
   "metadata": {},
   "outputs": [
    {
     "name": "stdout",
     "output_type": "stream",
     "text": [
      "Confusion matrix for: Apple\n",
      "Model: KNeighborsClassifier with Count Vectorize\n",
      "================================================================================\n"
     ]
    },
    {
     "data": {
      "image/png": "[encoded data removed]",
      "text/plain": [
       "<Figure size 432x288 with 2 Axes>"
      ]
     },
     "metadata": {
      "needs_background": "light"
     },
     "output_type": "display_data"
    }
   ],
   "source": [
    "# Diplay confusion matrix for X_test_app\n",
    "\n",
    "display_confusion_matrix(cv_knn_model_grid, X_test_app_processed,\n",
    "                         y_test_app, 'Apple',model_name)"
   ]
  },
  {
   "cell_type": "code",
   "execution_count": 78,
   "id": "a37b8865-e815-498d-8d08-579994b18846",
   "metadata": {},
   "outputs": [
    {
     "name": "stdout",
     "output_type": "stream",
     "text": [
      "Confusion matrix for: Google\n",
      "Model: KNeighborsClassifier with Count Vectorize\n",
      "================================================================================\n"
     ]
    },
    {
     "data": {
      "image/png": "[encoded data removed]",
      "text/plain": [
       "<Figure size 432x288 with 2 Axes>"
      ]
     },
     "metadata": {
      "needs_background": "light"
     },
     "output_type": "display_data"
    }
   ],
   "source": [
    "# Diplay confusion matrix for X_test_goo\n",
    "\n",
    "display_confusion_matrix(cv_knn_model_grid, X_test_goo_processed,\n",
    "                         y_test_goo, 'Google',model_name)"
   ]
  },
  {
   "cell_type": "code",
   "execution_count": 79,
   "id": "5fa9f232-87de-4140-9aea-c51eb62c4b09",
   "metadata": {},
   "outputs": [
    {
     "name": "stdout",
     "output_type": "stream",
     "text": [
      "Training time: 1.2188339233398438\n"
     ]
    },
    {
     "data": {
      "text/plain": [
       "{'countvect__input': 'content',\n",
       " 'knn__leaf_size': 7,\n",
       " 'knn__n_neighbors': 7,\n",
       " 'knn__weights': 'distance'}"
      ]
     },
     "execution_count": 79,
     "metadata": {},
     "output_type": "execute_result"
    }
   ],
   "source": [
    "# Use pipes to TfidfVectorize X_train_combined_processed and then train KNeighborsClassifier\n",
    "\n",
    "start = time.time()\n",
    "\n",
    "tf_knn_pipe = Pipeline([('tfvect',TfidfVectorizer()), \n",
    "                 ('knn', KNeighborsClassifier())])\n",
    "\n",
    "tf_knn_params = {'tfvect__input' : ['content'],\n",
    "                 'knn__n_neighbors' : [7],  # tried 3,7,21\n",
    "                'knn__weights' : ['distance'], # tried 'uniform\n",
    "                'knn__leaf_size' : [3]}  #tried 30,45\n",
    "\n",
    "tf_knn_model_grid = GridSearchCV(estimator = cv_knn_pipe, param_grid = cv_knn_params,\n",
    "                                scoring = {'accuracy' : grid_accuracy, \n",
    "                                           'recall' : grid_recall_micro,\n",
    "                                          'precision' : grid_precision_micro},\n",
    "                                refit = 'accuracy')\n",
    "\n",
    "\n",
    "tf_knn_model_grid.fit(X_train_combined_processed,y_train_combined)\n",
    "end = time.time()\n",
    "print(f'Training time: {end-start}')\n",
    "tf_knn_model_grid.best_params_"
   ]
  },
  {
   "cell_type": "code",
   "execution_count": 80,
   "id": "ae3e2549-d58e-440c-9109-49f223036ed0",
   "metadata": {},
   "outputs": [
    {
     "name": "stdout",
     "output_type": "stream",
     "text": [
      "Validation ============================================================\n",
      "Validation results for KNeighborsClassifier with TF-IDF Vectorize:\n",
      "Accuracy: 0.5917278028285156\n",
      "Recall: 0.5917278028285156 <--- Not sure!\n",
      "Precision: 0.5917278028285156 <--- Not sure!\n",
      "\n",
      "============================================================\n",
      "Predictions for Apple: KNeighborsClassifier with TF-IDF Vectorize\n",
      "Accuracy: 0.5480172001911132\n",
      "Recall: 0.5480172001911132\n",
      "Precision: 0.5480172001911132\n",
      "\n",
      "============================================================\n",
      "Predictions for Google: KNeighborsClassifier with TF-IDF Vectorize\n",
      "Accuracy: 0.6236363636363637\n",
      "Recall: 0.6236363636363637\n",
      "Precision: 0.6236363636363637\n",
      "\n"
     ]
    }
   ],
   "source": [
    "# Display cross validation results, make prediction for X_test_app and X_test_goo\n",
    "# diplay results.  Use respective functions.\n",
    "\n",
    "model_name = 'KNeighborsClassifier with TF-IDF Vectorize'\n",
    "\n",
    "display_cross_validation_results(tf_knn_model_grid.cv_results_,model_name)\n",
    "\n",
    "y_test_app_hat3 = tf_knn_model_grid.predict(X_test_app)\n",
    "y_test_goo_hat3 = tf_knn_model_grid.predict(X_test_goo)\n",
    "\n",
    "display_prediction_results(y_test_app_hat3, y_test_app,'Apple',model_name)\n",
    "\n",
    "display_prediction_results(y_test_goo_hat3, y_test_goo, 'Google',model_name)\n"
   ]
  },
  {
   "cell_type": "code",
   "execution_count": 81,
   "id": "8cc83011-98f6-4a7f-a7fb-2e78d7db1e23",
   "metadata": {},
   "outputs": [
    {
     "name": "stdout",
     "output_type": "stream",
     "text": [
      "Confusion matrix for: Apple\n",
      "Model: KNeighborsClassifier with TF-IDF Vectorize\n",
      "================================================================================\n"
     ]
    },
    {
     "data": {
      "image/png": "[encoded data removed]",
      "text/plain": [
       "<Figure size 432x288 with 2 Axes>"
      ]
     },
     "metadata": {
      "needs_background": "light"
     },
     "output_type": "display_data"
    }
   ],
   "source": [
    "# Diplay confusion matrix for X_test_app\n",
    "\n",
    "display_confusion_matrix(tf_knn_model_grid, X_test_app_processed,\n",
    "                         y_test_app, 'Apple',model_name)"
   ]
  },
  {
   "cell_type": "code",
   "execution_count": 82,
   "id": "9f771eb3-d4c9-4a3e-8147-2786fbd0eeb4",
   "metadata": {},
   "outputs": [
    {
     "name": "stdout",
     "output_type": "stream",
     "text": [
      "Confusion matrix for: Google\n",
      "Model: KNeighborsClassifier with TF-IDF Vectorize\n",
      "================================================================================\n"
     ]
    },
    {
     "data": {
      "image/png": "[encoded data removed]",
      "text/plain": [
       "<Figure size 432x288 with 2 Axes>"
      ]
     },
     "metadata": {
      "needs_background": "light"
     },
     "output_type": "display_data"
    }
   ],
   "source": [
    "# Diplay confusion matrix for X_test_app\n",
    "\n",
    "display_confusion_matrix(tf_knn_model_grid, X_test_goo_processed,\n",
    "                         y_test_goo, 'Google',model_name)"
   ]
  },
  {
   "cell_type": "code",
   "execution_count": null,
   "id": "1ac71bee-d05b-4468-9969-a1fe7ea15ca5",
   "metadata": {},
   "outputs": [],
   "source": []
  },
  {
   "cell_type": "code",
   "execution_count": 54,
   "id": "01261a2b-6be1-49f1-9cdc-71163023893a",
   "metadata": {},
   "outputs": [
    {
     "name": "stdout",
     "output_type": "stream",
     "text": [
      "Training time: 109.85222101211548\n"
     ]
    },
    {
     "data": {
      "text/plain": [
       "{'countvect__input': 'content',\n",
       " 'rf__criterion': 'gini',\n",
       " 'rf__max_depth': 87,\n",
       " 'rf__max_features': None,\n",
       " 'rf__random_state': 42}"
      ]
     },
     "execution_count": 54,
     "metadata": {},
     "output_type": "execute_result"
    }
   ],
   "source": [
    "# RandomForestClassifier\n",
    "# Use pipes to CountVectorize X_train_combined_processed and then train RandomForestClassifier\n",
    "\n",
    "start = time.time()\n",
    "\n",
    "cv_rf_pipe = Pipeline([('countvect',CountVectorizer()), \n",
    "                 ('rf', RandomForestClassifier())])\n",
    "\n",
    "cv_rf_params = {'countvect__input' : ['content'],\n",
    "                'rf__random_state' : [42],\n",
    "                'rf__max_depth' : [87],  # tried 3,11,57,121\n",
    "                'rf__criterion' : ['gini'],  #log_loss gives warning\n",
    "                'rf__max_features' : [None]} # tried 'sqrt' and 'log2'\n",
    "\n",
    "cv_rf_model_grid = GridSearchCV(estimator = cv_rf_pipe, param_grid = cv_rf_params,\n",
    "                                scoring = {'accuracy' : grid_accuracy, \n",
    "                                           'recall' : grid_recall_micro,\n",
    "                                          'precision' : grid_precision_micro},\n",
    "                                refit = 'accuracy')\n",
    "\n",
    "\n",
    "cv_rf_model_grid.fit(X_train_combined_processed,y_train_combined)\n",
    "end = time.time()\n",
    "print(f'Training time: {end-start}')\n",
    "cv_rf_model_grid.best_params_\n"
   ]
  },
  {
   "cell_type": "code",
   "execution_count": 55,
   "id": "0eb2e42a-31fc-4c52-b5fb-e78f6ea41ac2",
   "metadata": {},
   "outputs": [
    {
     "name": "stdout",
     "output_type": "stream",
     "text": [
      "Validation ============================================================\n",
      "Validation results for RandomForestClassifier with Count Vectorize:\n",
      "Accuracy: 0.6360268148332363\n",
      "Recall: 0.6360268148332363\n",
      "Precision: 0.6360268148332363\n",
      "\n",
      "============================================================\n",
      "Predictions for Apple: RandomForestClassifier with Count Vectorize\n",
      "Accuracy: 0.6144290492116579\n",
      "Recall: 0.6144290492116579\n",
      "Precision: 0.6144290492116579\n",
      "\n",
      "============================================================\n",
      "Predictions for Google: RandomForestClassifier with Count Vectorize\n",
      "Accuracy: 0.7036363636363636\n",
      "Recall: 0.7036363636363636\n",
      "Precision: 0.7036363636363636\n",
      "\n"
     ]
    }
   ],
   "source": [
    "# Display cross validation results, make prediction for X_test_app and X_test_goo\n",
    "# diplay results.  Use respective functions.\n",
    "\n",
    "model_name = 'RandomForestClassifier with Count Vectorize'\n",
    "\n",
    "display_cross_validation_results(cv_rf_model_grid.cv_results_,model_name)\n",
    "\n",
    "y_test_app_hat3 = cv_rf_model_grid.predict(X_test_app_processed)\n",
    "y_test_goo_hat3 = cv_rf_model_grid.predict(X_test_goo_processed)\n",
    "\n",
    "display_prediction_results(y_test_app_hat3, y_test_app,'Apple',model_name)\n",
    "\n",
    "display_prediction_results(y_test_goo_hat3, y_test_goo, 'Google',model_name)\n"
   ]
  },
  {
   "cell_type": "code",
   "execution_count": 57,
   "id": "70eb6a5f-40e8-4bb5-8d93-1172c81cb546",
   "metadata": {},
   "outputs": [
    {
     "name": "stdout",
     "output_type": "stream",
     "text": [
      "Confusion matrix for: Apple\n",
      "Model: RandomForestClassifier with Count Vectorize\n",
      "================================================================================\n"
     ]
    },
    {
     "data": {
      "image/png": "[encoded data removed]",
      "text/plain": [
       "<Figure size 432x288 with 2 Axes>"
      ]
     },
     "metadata": {
      "needs_background": "light"
     },
     "output_type": "display_data"
    }
   ],
   "source": [
    "# Diplay confusion matrix for X_test_app\n",
    "\n",
    "display_confusion_matrix(cv_rf_model_grid, X_test_app_processed,\n",
    "                         y_test_app, 'Apple',model_name)"
   ]
  },
  {
   "cell_type": "code",
   "execution_count": 58,
   "id": "609973d0-6a72-4c22-9655-32056b6d8b32",
   "metadata": {},
   "outputs": [
    {
     "name": "stdout",
     "output_type": "stream",
     "text": [
      "Confusion matrix for: Google\n",
      "Model: RandomForestClassifier with Count Vectorize\n",
      "================================================================================\n"
     ]
    },
    {
     "data": {
      "image/png": "[encoded data removed]",
      "text/plain": [
       "<Figure size 432x288 with 2 Axes>"
      ]
     },
     "metadata": {
      "needs_background": "light"
     },
     "output_type": "display_data"
    }
   ],
   "source": [
    "# Diplay confusion matrix for X_test_app\n",
    "\n",
    "display_confusion_matrix(cv_rf_model_grid, X_test_goo_processed,\n",
    "                         y_test_goo, 'Google',model_name)"
   ]
  },
  {
   "cell_type": "code",
   "execution_count": null,
   "id": "18e2d15b-d69a-4355-8517-852e30c00fe6",
   "metadata": {},
   "outputs": [],
   "source": []
  },
  {
   "cell_type": "code",
   "execution_count": 64,
   "id": "bdb935c8-6fcc-42e6-bd24-662312e0dfd6",
   "metadata": {},
   "outputs": [
    {
     "name": "stderr",
     "output_type": "stream",
     "text": [
      "/Users/ahmadsamiee/opt/anaconda3/envs/learn-env/lib/python3.8/site-packages/sklearn/linear_model/_sag.py:329: ConvergenceWarning: The max_iter was reached which means the coef_ did not converge\n",
      "  warnings.warn(\"The max_iter was reached which means \"\n",
      "/Users/ahmadsamiee/opt/anaconda3/envs/learn-env/lib/python3.8/site-packages/sklearn/linear_model/_sag.py:329: ConvergenceWarning: The max_iter was reached which means the coef_ did not converge\n",
      "  warnings.warn(\"The max_iter was reached which means \"\n",
      "/Users/ahmadsamiee/opt/anaconda3/envs/learn-env/lib/python3.8/site-packages/sklearn/linear_model/_sag.py:329: ConvergenceWarning: The max_iter was reached which means the coef_ did not converge\n",
      "  warnings.warn(\"The max_iter was reached which means \"\n",
      "/Users/ahmadsamiee/opt/anaconda3/envs/learn-env/lib/python3.8/site-packages/sklearn/linear_model/_sag.py:329: ConvergenceWarning: The max_iter was reached which means the coef_ did not converge\n",
      "  warnings.warn(\"The max_iter was reached which means \"\n",
      "/Users/ahmadsamiee/opt/anaconda3/envs/learn-env/lib/python3.8/site-packages/sklearn/linear_model/_sag.py:329: ConvergenceWarning: The max_iter was reached which means the coef_ did not converge\n",
      "  warnings.warn(\"The max_iter was reached which means \"\n",
      "/Users/ahmadsamiee/opt/anaconda3/envs/learn-env/lib/python3.8/site-packages/sklearn/linear_model/_sag.py:329: ConvergenceWarning: The max_iter was reached which means the coef_ did not converge\n",
      "  warnings.warn(\"The max_iter was reached which means \"\n",
      "/Users/ahmadsamiee/opt/anaconda3/envs/learn-env/lib/python3.8/site-packages/sklearn/linear_model/_sag.py:329: ConvergenceWarning: The max_iter was reached which means the coef_ did not converge\n",
      "  warnings.warn(\"The max_iter was reached which means \"\n",
      "/Users/ahmadsamiee/opt/anaconda3/envs/learn-env/lib/python3.8/site-packages/sklearn/linear_model/_sag.py:329: ConvergenceWarning: The max_iter was reached which means the coef_ did not converge\n",
      "  warnings.warn(\"The max_iter was reached which means \"\n",
      "/Users/ahmadsamiee/opt/anaconda3/envs/learn-env/lib/python3.8/site-packages/sklearn/linear_model/_sag.py:329: ConvergenceWarning: The max_iter was reached which means the coef_ did not converge\n",
      "  warnings.warn(\"The max_iter was reached which means \"\n",
      "/Users/ahmadsamiee/opt/anaconda3/envs/learn-env/lib/python3.8/site-packages/sklearn/linear_model/_sag.py:329: ConvergenceWarning: The max_iter was reached which means the coef_ did not converge\n",
      "  warnings.warn(\"The max_iter was reached which means \"\n",
      "/Users/ahmadsamiee/opt/anaconda3/envs/learn-env/lib/python3.8/site-packages/sklearn/linear_model/_sag.py:329: ConvergenceWarning: The max_iter was reached which means the coef_ did not converge\n",
      "  warnings.warn(\"The max_iter was reached which means \"\n",
      "/Users/ahmadsamiee/opt/anaconda3/envs/learn-env/lib/python3.8/site-packages/sklearn/linear_model/_sag.py:329: ConvergenceWarning: The max_iter was reached which means the coef_ did not converge\n",
      "  warnings.warn(\"The max_iter was reached which means \"\n",
      "/Users/ahmadsamiee/opt/anaconda3/envs/learn-env/lib/python3.8/site-packages/sklearn/linear_model/_sag.py:329: ConvergenceWarning: The max_iter was reached which means the coef_ did not converge\n",
      "  warnings.warn(\"The max_iter was reached which means \"\n",
      "/Users/ahmadsamiee/opt/anaconda3/envs/learn-env/lib/python3.8/site-packages/sklearn/linear_model/_sag.py:329: ConvergenceWarning: The max_iter was reached which means the coef_ did not converge\n",
      "  warnings.warn(\"The max_iter was reached which means \"\n",
      "/Users/ahmadsamiee/opt/anaconda3/envs/learn-env/lib/python3.8/site-packages/sklearn/linear_model/_sag.py:329: ConvergenceWarning: The max_iter was reached which means the coef_ did not converge\n",
      "  warnings.warn(\"The max_iter was reached which means \"\n",
      "/Users/ahmadsamiee/opt/anaconda3/envs/learn-env/lib/python3.8/site-packages/sklearn/linear_model/_sag.py:329: ConvergenceWarning: The max_iter was reached which means the coef_ did not converge\n",
      "  warnings.warn(\"The max_iter was reached which means \"\n",
      "/Users/ahmadsamiee/opt/anaconda3/envs/learn-env/lib/python3.8/site-packages/sklearn/linear_model/_sag.py:329: ConvergenceWarning: The max_iter was reached which means the coef_ did not converge\n",
      "  warnings.warn(\"The max_iter was reached which means \"\n",
      "/Users/ahmadsamiee/opt/anaconda3/envs/learn-env/lib/python3.8/site-packages/sklearn/linear_model/_sag.py:329: ConvergenceWarning: The max_iter was reached which means the coef_ did not converge\n",
      "  warnings.warn(\"The max_iter was reached which means \"\n",
      "/Users/ahmadsamiee/opt/anaconda3/envs/learn-env/lib/python3.8/site-packages/sklearn/linear_model/_sag.py:329: ConvergenceWarning: The max_iter was reached which means the coef_ did not converge\n",
      "  warnings.warn(\"The max_iter was reached which means \"\n",
      "/Users/ahmadsamiee/opt/anaconda3/envs/learn-env/lib/python3.8/site-packages/sklearn/linear_model/_sag.py:329: ConvergenceWarning: The max_iter was reached which means the coef_ did not converge\n",
      "  warnings.warn(\"The max_iter was reached which means \"\n",
      "/Users/ahmadsamiee/opt/anaconda3/envs/learn-env/lib/python3.8/site-packages/sklearn/linear_model/_sag.py:329: ConvergenceWarning: The max_iter was reached which means the coef_ did not converge\n",
      "  warnings.warn(\"The max_iter was reached which means \"\n",
      "/Users/ahmadsamiee/opt/anaconda3/envs/learn-env/lib/python3.8/site-packages/sklearn/linear_model/_sag.py:329: ConvergenceWarning: The max_iter was reached which means the coef_ did not converge\n",
      "  warnings.warn(\"The max_iter was reached which means \"\n",
      "/Users/ahmadsamiee/opt/anaconda3/envs/learn-env/lib/python3.8/site-packages/sklearn/linear_model/_sag.py:329: ConvergenceWarning: The max_iter was reached which means the coef_ did not converge\n",
      "  warnings.warn(\"The max_iter was reached which means \"\n",
      "/Users/ahmadsamiee/opt/anaconda3/envs/learn-env/lib/python3.8/site-packages/sklearn/linear_model/_sag.py:329: ConvergenceWarning: The max_iter was reached which means the coef_ did not converge\n",
      "  warnings.warn(\"The max_iter was reached which means \"\n",
      "/Users/ahmadsamiee/opt/anaconda3/envs/learn-env/lib/python3.8/site-packages/sklearn/linear_model/_sag.py:329: ConvergenceWarning: The max_iter was reached which means the coef_ did not converge\n",
      "  warnings.warn(\"The max_iter was reached which means \"\n",
      "/Users/ahmadsamiee/opt/anaconda3/envs/learn-env/lib/python3.8/site-packages/sklearn/linear_model/_logistic.py:762: ConvergenceWarning: lbfgs failed to converge (status=1):\n",
      "STOP: TOTAL NO. of ITERATIONS REACHED LIMIT.\n",
      "\n",
      "Increase the number of iterations (max_iter) or scale the data as shown in:\n",
      "    https://scikit-learn.org/stable/modules/preprocessing.html\n",
      "Please also refer to the documentation for alternative solver options:\n",
      "    https://scikit-learn.org/stable/modules/linear_model.html#logistic-regression\n",
      "  n_iter_i = _check_optimize_result(\n",
      "/Users/ahmadsamiee/opt/anaconda3/envs/learn-env/lib/python3.8/site-packages/sklearn/linear_model/_logistic.py:762: ConvergenceWarning: lbfgs failed to converge (status=1):\n",
      "STOP: TOTAL NO. of ITERATIONS REACHED LIMIT.\n",
      "\n",
      "Increase the number of iterations (max_iter) or scale the data as shown in:\n",
      "    https://scikit-learn.org/stable/modules/preprocessing.html\n",
      "Please also refer to the documentation for alternative solver options:\n",
      "    https://scikit-learn.org/stable/modules/linear_model.html#logistic-regression\n",
      "  n_iter_i = _check_optimize_result(\n",
      "/Users/ahmadsamiee/opt/anaconda3/envs/learn-env/lib/python3.8/site-packages/sklearn/linear_model/_logistic.py:762: ConvergenceWarning: lbfgs failed to converge (status=1):\n",
      "STOP: TOTAL NO. of ITERATIONS REACHED LIMIT.\n",
      "\n",
      "Increase the number of iterations (max_iter) or scale the data as shown in:\n",
      "    https://scikit-learn.org/stable/modules/preprocessing.html\n",
      "Please also refer to the documentation for alternative solver options:\n",
      "    https://scikit-learn.org/stable/modules/linear_model.html#logistic-regression\n",
      "  n_iter_i = _check_optimize_result(\n",
      "/Users/ahmadsamiee/opt/anaconda3/envs/learn-env/lib/python3.8/site-packages/sklearn/linear_model/_logistic.py:762: ConvergenceWarning: lbfgs failed to converge (status=1):\n",
      "STOP: TOTAL NO. of ITERATIONS REACHED LIMIT.\n",
      "\n",
      "Increase the number of iterations (max_iter) or scale the data as shown in:\n",
      "    https://scikit-learn.org/stable/modules/preprocessing.html\n",
      "Please also refer to the documentation for alternative solver options:\n",
      "    https://scikit-learn.org/stable/modules/linear_model.html#logistic-regression\n",
      "  n_iter_i = _check_optimize_result(\n",
      "/Users/ahmadsamiee/opt/anaconda3/envs/learn-env/lib/python3.8/site-packages/sklearn/linear_model/_logistic.py:762: ConvergenceWarning: lbfgs failed to converge (status=1):\n",
      "STOP: TOTAL NO. of ITERATIONS REACHED LIMIT.\n",
      "\n",
      "Increase the number of iterations (max_iter) or scale the data as shown in:\n",
      "    https://scikit-learn.org/stable/modules/preprocessing.html\n",
      "Please also refer to the documentation for alternative solver options:\n",
      "    https://scikit-learn.org/stable/modules/linear_model.html#logistic-regression\n",
      "  n_iter_i = _check_optimize_result(\n",
      "/Users/ahmadsamiee/opt/anaconda3/envs/learn-env/lib/python3.8/site-packages/sklearn/linear_model/_sag.py:329: ConvergenceWarning: The max_iter was reached which means the coef_ did not converge\n",
      "  warnings.warn(\"The max_iter was reached which means \"\n",
      "/Users/ahmadsamiee/opt/anaconda3/envs/learn-env/lib/python3.8/site-packages/sklearn/linear_model/_sag.py:329: ConvergenceWarning: The max_iter was reached which means the coef_ did not converge\n",
      "  warnings.warn(\"The max_iter was reached which means \"\n",
      "/Users/ahmadsamiee/opt/anaconda3/envs/learn-env/lib/python3.8/site-packages/sklearn/linear_model/_sag.py:329: ConvergenceWarning: The max_iter was reached which means the coef_ did not converge\n",
      "  warnings.warn(\"The max_iter was reached which means \"\n",
      "/Users/ahmadsamiee/opt/anaconda3/envs/learn-env/lib/python3.8/site-packages/sklearn/linear_model/_sag.py:329: ConvergenceWarning: The max_iter was reached which means the coef_ did not converge\n",
      "  warnings.warn(\"The max_iter was reached which means \"\n",
      "/Users/ahmadsamiee/opt/anaconda3/envs/learn-env/lib/python3.8/site-packages/sklearn/linear_model/_sag.py:329: ConvergenceWarning: The max_iter was reached which means the coef_ did not converge\n",
      "  warnings.warn(\"The max_iter was reached which means \"\n",
      "/Users/ahmadsamiee/opt/anaconda3/envs/learn-env/lib/python3.8/site-packages/sklearn/linear_model/_sag.py:329: ConvergenceWarning: The max_iter was reached which means the coef_ did not converge\n",
      "  warnings.warn(\"The max_iter was reached which means \"\n",
      "/Users/ahmadsamiee/opt/anaconda3/envs/learn-env/lib/python3.8/site-packages/sklearn/linear_model/_sag.py:329: ConvergenceWarning: The max_iter was reached which means the coef_ did not converge\n",
      "  warnings.warn(\"The max_iter was reached which means \"\n",
      "/Users/ahmadsamiee/opt/anaconda3/envs/learn-env/lib/python3.8/site-packages/sklearn/linear_model/_sag.py:329: ConvergenceWarning: The max_iter was reached which means the coef_ did not converge\n",
      "  warnings.warn(\"The max_iter was reached which means \"\n",
      "/Users/ahmadsamiee/opt/anaconda3/envs/learn-env/lib/python3.8/site-packages/sklearn/linear_model/_sag.py:329: ConvergenceWarning: The max_iter was reached which means the coef_ did not converge\n",
      "  warnings.warn(\"The max_iter was reached which means \"\n",
      "/Users/ahmadsamiee/opt/anaconda3/envs/learn-env/lib/python3.8/site-packages/sklearn/linear_model/_sag.py:329: ConvergenceWarning: The max_iter was reached which means the coef_ did not converge\n",
      "  warnings.warn(\"The max_iter was reached which means \"\n",
      "/Users/ahmadsamiee/opt/anaconda3/envs/learn-env/lib/python3.8/site-packages/sklearn/linear_model/_logistic.py:762: ConvergenceWarning: lbfgs failed to converge (status=1):\n",
      "STOP: TOTAL NO. of ITERATIONS REACHED LIMIT.\n",
      "\n",
      "Increase the number of iterations (max_iter) or scale the data as shown in:\n",
      "    https://scikit-learn.org/stable/modules/preprocessing.html\n",
      "Please also refer to the documentation for alternative solver options:\n",
      "    https://scikit-learn.org/stable/modules/linear_model.html#logistic-regression\n",
      "  n_iter_i = _check_optimize_result(\n",
      "/Users/ahmadsamiee/opt/anaconda3/envs/learn-env/lib/python3.8/site-packages/sklearn/linear_model/_logistic.py:762: ConvergenceWarning: lbfgs failed to converge (status=1):\n",
      "STOP: TOTAL NO. of ITERATIONS REACHED LIMIT.\n",
      "\n",
      "Increase the number of iterations (max_iter) or scale the data as shown in:\n",
      "    https://scikit-learn.org/stable/modules/preprocessing.html\n",
      "Please also refer to the documentation for alternative solver options:\n",
      "    https://scikit-learn.org/stable/modules/linear_model.html#logistic-regression\n",
      "  n_iter_i = _check_optimize_result(\n",
      "/Users/ahmadsamiee/opt/anaconda3/envs/learn-env/lib/python3.8/site-packages/sklearn/linear_model/_logistic.py:762: ConvergenceWarning: lbfgs failed to converge (status=1):\n",
      "STOP: TOTAL NO. of ITERATIONS REACHED LIMIT.\n",
      "\n",
      "Increase the number of iterations (max_iter) or scale the data as shown in:\n",
      "    https://scikit-learn.org/stable/modules/preprocessing.html\n",
      "Please also refer to the documentation for alternative solver options:\n",
      "    https://scikit-learn.org/stable/modules/linear_model.html#logistic-regression\n",
      "  n_iter_i = _check_optimize_result(\n",
      "/Users/ahmadsamiee/opt/anaconda3/envs/learn-env/lib/python3.8/site-packages/sklearn/linear_model/_logistic.py:762: ConvergenceWarning: lbfgs failed to converge (status=1):\n",
      "STOP: TOTAL NO. of ITERATIONS REACHED LIMIT.\n",
      "\n",
      "Increase the number of iterations (max_iter) or scale the data as shown in:\n",
      "    https://scikit-learn.org/stable/modules/preprocessing.html\n",
      "Please also refer to the documentation for alternative solver options:\n",
      "    https://scikit-learn.org/stable/modules/linear_model.html#logistic-regression\n",
      "  n_iter_i = _check_optimize_result(\n",
      "/Users/ahmadsamiee/opt/anaconda3/envs/learn-env/lib/python3.8/site-packages/sklearn/linear_model/_logistic.py:762: ConvergenceWarning: lbfgs failed to converge (status=1):\n",
      "STOP: TOTAL NO. of ITERATIONS REACHED LIMIT.\n",
      "\n",
      "Increase the number of iterations (max_iter) or scale the data as shown in:\n",
      "    https://scikit-learn.org/stable/modules/preprocessing.html\n",
      "Please also refer to the documentation for alternative solver options:\n",
      "    https://scikit-learn.org/stable/modules/linear_model.html#logistic-regression\n",
      "  n_iter_i = _check_optimize_result(\n",
      "/Users/ahmadsamiee/opt/anaconda3/envs/learn-env/lib/python3.8/site-packages/sklearn/linear_model/_sag.py:329: ConvergenceWarning: The max_iter was reached which means the coef_ did not converge\n",
      "  warnings.warn(\"The max_iter was reached which means \"\n",
      "/Users/ahmadsamiee/opt/anaconda3/envs/learn-env/lib/python3.8/site-packages/sklearn/linear_model/_sag.py:329: ConvergenceWarning: The max_iter was reached which means the coef_ did not converge\n",
      "  warnings.warn(\"The max_iter was reached which means \"\n",
      "/Users/ahmadsamiee/opt/anaconda3/envs/learn-env/lib/python3.8/site-packages/sklearn/linear_model/_sag.py:329: ConvergenceWarning: The max_iter was reached which means the coef_ did not converge\n",
      "  warnings.warn(\"The max_iter was reached which means \"\n",
      "/Users/ahmadsamiee/opt/anaconda3/envs/learn-env/lib/python3.8/site-packages/sklearn/linear_model/_sag.py:329: ConvergenceWarning: The max_iter was reached which means the coef_ did not converge\n",
      "  warnings.warn(\"The max_iter was reached which means \"\n",
      "/Users/ahmadsamiee/opt/anaconda3/envs/learn-env/lib/python3.8/site-packages/sklearn/linear_model/_sag.py:329: ConvergenceWarning: The max_iter was reached which means the coef_ did not converge\n",
      "  warnings.warn(\"The max_iter was reached which means \"\n",
      "/Users/ahmadsamiee/opt/anaconda3/envs/learn-env/lib/python3.8/site-packages/sklearn/linear_model/_sag.py:329: ConvergenceWarning: The max_iter was reached which means the coef_ did not converge\n",
      "  warnings.warn(\"The max_iter was reached which means \"\n",
      "/Users/ahmadsamiee/opt/anaconda3/envs/learn-env/lib/python3.8/site-packages/sklearn/linear_model/_sag.py:329: ConvergenceWarning: The max_iter was reached which means the coef_ did not converge\n",
      "  warnings.warn(\"The max_iter was reached which means \"\n",
      "/Users/ahmadsamiee/opt/anaconda3/envs/learn-env/lib/python3.8/site-packages/sklearn/linear_model/_sag.py:329: ConvergenceWarning: The max_iter was reached which means the coef_ did not converge\n",
      "  warnings.warn(\"The max_iter was reached which means \"\n",
      "/Users/ahmadsamiee/opt/anaconda3/envs/learn-env/lib/python3.8/site-packages/sklearn/linear_model/_sag.py:329: ConvergenceWarning: The max_iter was reached which means the coef_ did not converge\n",
      "  warnings.warn(\"The max_iter was reached which means \"\n",
      "/Users/ahmadsamiee/opt/anaconda3/envs/learn-env/lib/python3.8/site-packages/sklearn/linear_model/_sag.py:329: ConvergenceWarning: The max_iter was reached which means the coef_ did not converge\n",
      "  warnings.warn(\"The max_iter was reached which means \"\n",
      "/Users/ahmadsamiee/opt/anaconda3/envs/learn-env/lib/python3.8/site-packages/sklearn/linear_model/_sag.py:329: ConvergenceWarning: The max_iter was reached which means the coef_ did not converge\n",
      "  warnings.warn(\"The max_iter was reached which means \"\n",
      "/Users/ahmadsamiee/opt/anaconda3/envs/learn-env/lib/python3.8/site-packages/sklearn/linear_model/_sag.py:329: ConvergenceWarning: The max_iter was reached which means the coef_ did not converge\n",
      "  warnings.warn(\"The max_iter was reached which means \"\n",
      "/Users/ahmadsamiee/opt/anaconda3/envs/learn-env/lib/python3.8/site-packages/sklearn/linear_model/_sag.py:329: ConvergenceWarning: The max_iter was reached which means the coef_ did not converge\n",
      "  warnings.warn(\"The max_iter was reached which means \"\n",
      "/Users/ahmadsamiee/opt/anaconda3/envs/learn-env/lib/python3.8/site-packages/sklearn/linear_model/_sag.py:329: ConvergenceWarning: The max_iter was reached which means the coef_ did not converge\n",
      "  warnings.warn(\"The max_iter was reached which means \"\n",
      "/Users/ahmadsamiee/opt/anaconda3/envs/learn-env/lib/python3.8/site-packages/sklearn/linear_model/_sag.py:329: ConvergenceWarning: The max_iter was reached which means the coef_ did not converge\n",
      "  warnings.warn(\"The max_iter was reached which means \"\n",
      "/Users/ahmadsamiee/opt/anaconda3/envs/learn-env/lib/python3.8/site-packages/sklearn/linear_model/_sag.py:329: ConvergenceWarning: The max_iter was reached which means the coef_ did not converge\n",
      "  warnings.warn(\"The max_iter was reached which means \"\n",
      "/Users/ahmadsamiee/opt/anaconda3/envs/learn-env/lib/python3.8/site-packages/sklearn/linear_model/_sag.py:329: ConvergenceWarning: The max_iter was reached which means the coef_ did not converge\n",
      "  warnings.warn(\"The max_iter was reached which means \"\n"
     ]
    },
    {
     "name": "stdout",
     "output_type": "stream",
     "text": [
      "Training time: 749.9014799594879\n"
     ]
    },
    {
     "name": "stderr",
     "output_type": "stream",
     "text": [
      "/Users/ahmadsamiee/opt/anaconda3/envs/learn-env/lib/python3.8/site-packages/sklearn/linear_model/_sag.py:329: ConvergenceWarning: The max_iter was reached which means the coef_ did not converge\n",
      "  warnings.warn(\"The max_iter was reached which means \"\n"
     ]
    },
    {
     "data": {
      "text/plain": [
       "{'countvect__input': 'content',\n",
       " 'lr__C': 1.0,\n",
       " 'lr__class_weight': None,\n",
       " 'lr__max_iter': 1000,\n",
       " 'lr__penalty': 'l2',\n",
       " 'lr__solver': 'liblinear'}"
      ]
     },
     "execution_count": 64,
     "metadata": {},
     "output_type": "execute_result"
    }
   ],
   "source": [
    "# LogisticRegression\n",
    "# Use pipes to CountVectorize X_train_combined_processed and then train LogisticRegression\n",
    "\n",
    "start = time.time()\n",
    "\n",
    "cv_lr_pipe = Pipeline([('countvect',CountVectorizer()), \n",
    "                 ('lr', LogisticRegression())])\n",
    "\n",
    "cv_lr_params = {'countvect__input' : ['content'],\n",
    "                'lr__random_state' : [321],\n",
    "                'lr__penalty' : ['l2'],\n",
    "                'lr__C' : [1.0,1000.0],  \n",
    "                'lr__class_weight' : [None,'balanced'],\n",
    "                'lr__solver' : ['newton-cg', 'lbfgs', 'liblinear', 'sag', 'saga'],\n",
    "                'lr__max_iter' : [1000,10000]}\n",
    "\n",
    "cv_lr_model_grid = GridSearchCV(estimator = cv_lr_pipe, param_grid = cv_lr_params,\n",
    "                                scoring = {'accuracy' : grid_accuracy, \n",
    "                                           'recall' : grid_recall_micro,\n",
    "                                          'precision' : grid_precision_micro},\n",
    "                                refit = 'accuracy')\n",
    "\n",
    "\n",
    "cv_lr_model_grid.fit(X_train_combined_processed,y_train_combined)\n",
    "end = time.time()\n",
    "print(f'Training time: {end-start}')\n",
    "cv_lr_model_grid.best_params_\n",
    "\n"
   ]
  },
  {
   "cell_type": "code",
   "execution_count": 65,
   "id": "e52ae73b-b204-49dc-ab85-9cabc5f3a87b",
   "metadata": {},
   "outputs": [
    {
     "name": "stdout",
     "output_type": "stream",
     "text": [
      "Validation ============================================================\n",
      "Validation results for LogisticRegression with Count Vectorize:\n",
      "Accuracy: 0.6493995458144907\n",
      "Recall: 0.6493995458144907\n",
      "Precision: 0.6493995458144907\n",
      "\n",
      "============================================================\n",
      "Predictions for Apple: LogisticRegression with Count Vectorize\n",
      "Accuracy: 0.6311514572384138\n",
      "Recall: 0.6311514572384138\n",
      "Precision: 0.6311514572384138\n",
      "\n",
      "============================================================\n",
      "Predictions for Google: LogisticRegression with Count Vectorize\n",
      "Accuracy: 0.7027272727272728\n",
      "Recall: 0.7027272727272728\n",
      "Precision: 0.7027272727272728\n",
      "\n"
     ]
    }
   ],
   "source": [
    "# Display cross validation results, make prediction for X_test_app and X_test_goo\n",
    "# diplay results.  Use respective functions.\n",
    "\n",
    "model_name = 'LogisticRegression with Count Vectorize'\n",
    "\n",
    "display_cross_validation_results(cv_lr_model_grid.cv_results_,model_name)\n",
    "\n",
    "y_test_app_hat4 = cv_lr_model_grid.predict(X_test_app_processed)\n",
    "y_test_goo_hat4 = cv_lr_model_grid.predict(X_test_goo_processed)\n",
    "\n",
    "display_prediction_results(y_test_app_hat4, y_test_app,'Apple',model_name)\n",
    "\n",
    "display_prediction_results(y_test_goo_hat4, y_test_goo, 'Google',model_name)\n"
   ]
  },
  {
   "cell_type": "code",
   "execution_count": 66,
   "id": "6fa9b903-50f0-49f7-a03b-d677e854d6e3",
   "metadata": {},
   "outputs": [
    {
     "name": "stdout",
     "output_type": "stream",
     "text": [
      "Confusion matrix for: Apple\n",
      "Model: LogisticRegression with Count Vectorize\n",
      "================================================================================\n"
     ]
    },
    {
     "data": {
      "image/png": "[encoded data removed]",
      "text/plain": [
       "<Figure size 432x288 with 2 Axes>"
      ]
     },
     "metadata": {
      "needs_background": "light"
     },
     "output_type": "display_data"
    }
   ],
   "source": [
    "# Diplay confusion matrix for X_test_app\n",
    "\n",
    "display_confusion_matrix(cv_lr_model_grid, X_test_app_processed,\n",
    "                         y_test_app, 'Apple',model_name)"
   ]
  },
  {
   "cell_type": "code",
   "execution_count": 67,
   "id": "1bb8e8de-0cf4-47a3-b900-49479b71989c",
   "metadata": {},
   "outputs": [
    {
     "name": "stdout",
     "output_type": "stream",
     "text": [
      "Confusion matrix for: Google\n",
      "Model: LogisticRegression with Count Vectorize\n",
      "================================================================================\n"
     ]
    },
    {
     "data": {
      "image/png": "[encoded data removed]",
      "text/plain": [
       "<Figure size 432x288 with 2 Axes>"
      ]
     },
     "metadata": {
      "needs_background": "light"
     },
     "output_type": "display_data"
    }
   ],
   "source": [
    "# Diplay confusion matrix for X_test_app\n",
    "\n",
    "display_confusion_matrix(cv_lr_model_grid, X_test_goo_processed,\n",
    "                         y_test_goo, 'Google',model_name)"
   ]
  },
  {
   "cell_type": "code",
   "execution_count": null,
   "id": "da4766df-21b2-48da-bd04-1c9ca43e8a02",
   "metadata": {},
   "outputs": [],
   "source": []
  },
  {
   "cell_type": "code",
   "execution_count": 76,
   "id": "0acd6b8f-e823-45a0-b23d-9171273c7051",
   "metadata": {},
   "outputs": [
    {
     "name": "stdout",
     "output_type": "stream",
     "text": [
      "Training time: 496.1309440135956\n"
     ]
    },
    {
     "data": {
      "text/plain": [
       "{'countvect__input': 'content',\n",
       " 'svc__C': 1.0,\n",
       " 'svc__class_weight': None,\n",
       " 'svc__degree': 3,\n",
       " 'svc__kernel': 'rbf',\n",
       " 'svc__random_state': 234}"
      ]
     },
     "execution_count": 76,
     "metadata": {},
     "output_type": "execute_result"
    }
   ],
   "source": [
    "# SVC\n",
    "# Use pipes to CountVectorize X_train_combined_processed and then train SVC\n",
    "\n",
    "start = time.time()\n",
    "\n",
    "cv_svc_pipe = Pipeline([('countvect',CountVectorizer()), \n",
    "                 ('svc', SVC())])\n",
    "\n",
    "cv_svc_params = {'countvect__input' : ['content'],\n",
    "                'svc__random_state': [234],\n",
    "                'svc__kernel' : ['poly','rbf', 'sigmoid'],\n",
    "                'svc__degree' : [3,4,5], \n",
    "                'svc__C' : [1.0,1000.0],  \n",
    "                'svc__class_weight' : [None,'balanced']}\n",
    "\n",
    "cv_svc_model_grid = GridSearchCV(estimator = cv_svc_pipe, param_grid = cv_svc_params,\n",
    "                                scoring = {'accuracy' : grid_accuracy, \n",
    "                                           'recall' : grid_recall_micro,\n",
    "                                          'precision' : grid_precision_micro},\n",
    "                                refit = 'accuracy')\n",
    "\n",
    "\n",
    "cv_svc_model_grid.fit(X_train_combined_processed,y_train_combined)\n",
    "end = time.time()\n",
    "print(f'Training time: {end-start}')\n",
    "cv_svc_model_grid.best_params_\n",
    "\n"
   ]
  },
  {
   "cell_type": "code",
   "execution_count": 77,
   "id": "f5317723-edcc-4459-b770-86b41e0a46a5",
   "metadata": {},
   "outputs": [
    {
     "name": "stdout",
     "output_type": "stream",
     "text": [
      "Validation ============================================================\n",
      "Validation results for SVC with Count Vectorize:\n",
      "Accuracy: 0.6017534789257487\n",
      "Recall: 0.6017534789257487\n",
      "Precision: 0.6017534789257487\n",
      "\n",
      "============================================================\n",
      "Predictions for Apple: SVC with Count Vectorize\n",
      "Accuracy: 0.6335403726708074\n",
      "Recall: 0.6335403726708074\n",
      "Precision: 0.6335403726708074\n",
      "\n",
      "============================================================\n",
      "Predictions for Google: SVC with Count Vectorize\n",
      "Accuracy: 0.7127272727272728\n",
      "Recall: 0.7127272727272728\n",
      "Precision: 0.7127272727272728\n",
      "\n"
     ]
    }
   ],
   "source": [
    "# Display cross validation results, make prediction for X_test_app and X_test_goo\n",
    "# diplay results.  Use respective functions.\n",
    "\n",
    "model_name = 'SVC with Count Vectorize'\n",
    "\n",
    "display_cross_validation_results(cv_svc_model_grid.cv_results_,model_name)\n",
    "\n",
    "y_test_app_hat5 = cv_svc_model_grid.predict(X_test_app_processed)\n",
    "y_test_goo_hat5 = cv_svc_model_grid.predict(X_test_goo_processed)\n",
    "\n",
    "display_prediction_results(y_test_app_hat5, y_test_app,'Apple',model_name)\n",
    "\n",
    "display_prediction_results(y_test_goo_hat5, y_test_goo, 'Google',model_name)\n"
   ]
  },
  {
   "cell_type": "code",
   "execution_count": 78,
   "id": "5008468e-3d91-47d0-b923-e6801e550334",
   "metadata": {},
   "outputs": [
    {
     "name": "stdout",
     "output_type": "stream",
     "text": [
      "Confusion matrix for: Apple\n",
      "Model: SVC with Count Vectorize\n",
      "================================================================================\n"
     ]
    },
    {
     "data": {
      "image/png": "[encoded data removed]",
      "text/plain": [
       "<Figure size 432x288 with 2 Axes>"
      ]
     },
     "metadata": {
      "needs_background": "light"
     },
     "output_type": "display_data"
    }
   ],
   "source": [
    "# Diplay confusion matrix for X_test_app\n",
    "\n",
    "display_confusion_matrix(cv_svc_model_grid, X_test_app_processed,\n",
    "                         y_test_app, 'Apple',model_name)"
   ]
  },
  {
   "cell_type": "code",
   "execution_count": 79,
   "id": "0394fb64-0b79-4130-8b73-ef8779706925",
   "metadata": {},
   "outputs": [
    {
     "name": "stdout",
     "output_type": "stream",
     "text": [
      "Confusion matrix for: Google\n",
      "Model: SVC with Count Vectorize\n",
      "================================================================================\n"
     ]
    },
    {
     "data": {
      "image/png": "[encoded data removed]",
      "text/plain": [
       "<Figure size 432x288 with 2 Axes>"
      ]
     },
     "metadata": {
      "needs_background": "light"
     },
     "output_type": "display_data"
    }
   ],
   "source": [
    "# Diplay confusion matrix for X_test_app\n",
    "\n",
    "display_confusion_matrix(cv_svc_model_grid, X_test_goo_processed,\n",
    "                         y_test_goo, 'Google',model_name)"
   ]
  },
  {
   "cell_type": "code",
   "execution_count": null,
   "id": "7f6a2c92-92e6-4c3f-bf74-8c9f6a2a2e81",
   "metadata": {},
   "outputs": [],
   "source": []
  },
  {
   "cell_type": "code",
   "execution_count": 113,
   "id": "57be3094-30c8-4150-a449-5f97e314db21",
   "metadata": {},
   "outputs": [],
   "source": [
    "# Balance classification ration with SMOTE\n",
    "\n",
    "cvect = CountVectorizer()\n",
    "X_train_combined_vected = cvect.fit_transform(X_train_combined_processed)\n",
    "\n",
    "sm = SMOTE(random_state=3211)\n",
    "X_train_combined_vec_sm, y_train_combined_sm = sm.fit_resample(\n",
    "    X_train_combined_vected,y_train_combined)"
   ]
  },
  {
   "cell_type": "code",
   "execution_count": 114,
   "id": "5f13b68f-d1de-4aef-9c9b-43b3348f242e",
   "metadata": {},
   "outputs": [
    {
     "data": {
      "text/plain": [
       "1    2680\n",
       "2    1767\n",
       "0     339\n",
       "Name: sentiment, dtype: int64"
      ]
     },
     "execution_count": 114,
     "metadata": {},
     "output_type": "execute_result"
    }
   ],
   "source": [
    "# Classification ratio without SMOTE\n",
    "\n",
    "y_train_combined.value_counts()"
   ]
  },
  {
   "cell_type": "code",
   "execution_count": 118,
   "id": "a4186f8e-35ab-495d-8cd6-326faffd52d7",
   "metadata": {},
   "outputs": [
    {
     "data": {
      "text/plain": [
       "2    2680\n",
       "1    2680\n",
       "0    2680\n",
       "Name: sentiment, dtype: int64"
      ]
     },
     "execution_count": 118,
     "metadata": {},
     "output_type": "execute_result"
    }
   ],
   "source": [
    "# Classification ration with SMOTE\n",
    "\n",
    "y_train_combined_sm.value_counts()"
   ]
  },
  {
   "cell_type": "code",
   "execution_count": 116,
   "id": "0b456409-c461-47db-9f53-4a8c87fa1c1e",
   "metadata": {},
   "outputs": [
    {
     "name": "stdout",
     "output_type": "stream",
     "text": [
      "Training time: 7.654088973999023\n"
     ]
    },
    {
     "data": {
      "text/plain": [
       "{'max_iter': 1000, 'random_state': 4321}"
      ]
     },
     "execution_count": 116,
     "metadata": {},
     "output_type": "execute_result"
    }
   ],
   "source": [
    "# Train LogisticRegression model with SMOTED data\n",
    "\n",
    "start = time.time()\n",
    "\n",
    "sm_lr = LogisticRegression()\n",
    "\n",
    "sm_lr_params = {'random_state' : [4321],\n",
    "                'max_iter': [1000]}\n",
    "\n",
    "sm_lr_model_grid = GridSearchCV(estimator = sm_lr, param_grid = sm_lr_params,\n",
    "                                scoring = {'accuracy' : grid_accuracy, \n",
    "                                           'recall' : grid_recall_micro,\n",
    "                                          'precision' : grid_precision_micro},\n",
    "                                refit = 'accuracy')\n",
    "\n",
    "\n",
    "sm_lr_model_grid.fit(X_train_combined_vec_sm,y_train_combined_sm)\n",
    "end = time.time()\n",
    "print(f'Training time: {end-start}')\n",
    "sm_lr_model_grid.best_params_\n"
   ]
  },
  {
   "cell_type": "code",
   "execution_count": 117,
   "id": "481a7d02-1981-46c7-aec9-49ac658107c2",
   "metadata": {},
   "outputs": [
    {
     "name": "stdout",
     "output_type": "stream",
     "text": [
      "Validation ============================================================\n",
      "Validation results for LogisticRegression with SMOTE:\n",
      "Accuracy: 0.6471393034825871\n",
      "Recall: 0.6471393034825871\n",
      "Precision: 0.6471393034825871\n",
      "\n",
      "============================================================\n",
      "Predictions for Apple: LogisticRegression with SMOTE\n",
      "Accuracy: 0.5805064500716675\n",
      "Recall: 0.5805064500716675\n",
      "Precision: 0.5805064500716675\n",
      "\n",
      "============================================================\n",
      "Predictions for Google: LogisticRegression with SMOTE\n",
      "Accuracy: 0.6436363636363637\n",
      "Recall: 0.6436363636363637\n",
      "Precision: 0.6436363636363637\n",
      "\n"
     ]
    }
   ],
   "source": [
    "# Display cross validation results, make prediction for X_test_app and X_test_goo\n",
    "# diplay results.  Use respective functions.\n",
    "\n",
    "model_name = 'LogisticRegression with SMOTE'\n",
    "\n",
    "X_test_app_vec = cvect.transform(X_test_app_processed)\n",
    "X_test_goo_vec = cvect.transform(X_test_goo_processed)\n",
    "\n",
    "display_cross_validation_results(sm_lr_model_grid.cv_results_,model_name)\n",
    "\n",
    "y_test_app_hat6 = sm_lr_model_grid.predict(X_test_app_vec)\n",
    "y_test_goo_hat6 = sm_lr_model_grid.predict(X_test_goo_vec)\n",
    "\n",
    "display_prediction_results(y_test_app_hat6, y_test_app,'Apple',model_name)\n",
    "\n",
    "display_prediction_results(y_test_goo_hat6, y_test_goo, 'Google',model_name)\n"
   ]
  },
  {
   "cell_type": "code",
   "execution_count": 120,
   "id": "745bd050-0516-426b-92a2-a2274121e8bb",
   "metadata": {},
   "outputs": [
    {
     "name": "stdout",
     "output_type": "stream",
     "text": [
      "Confusion matrix for: Apple\n",
      "Model: LogisticRegression with SMOTE\n",
      "================================================================================\n"
     ]
    },
    {
     "data": {
      "image/png": "[encoded data removed]",
      "text/plain": [
       "<Figure size 432x288 with 2 Axes>"
      ]
     },
     "metadata": {
      "needs_background": "light"
     },
     "output_type": "display_data"
    }
   ],
   "source": [
    "# Diplay confusion matrix for X_test_app\n",
    "\n",
    "display_confusion_matrix(sm_lr_model_grid, X_test_app_vec,\n",
    "                         y_test_app, 'Apple',model_name)"
   ]
  },
  {
   "cell_type": "code",
   "execution_count": 121,
   "id": "a1d37929-9a76-4c5e-adef-1d429d30f2b9",
   "metadata": {},
   "outputs": [
    {
     "name": "stdout",
     "output_type": "stream",
     "text": [
      "Confusion matrix for: Google\n",
      "Model: LogisticRegression with SMOTE\n",
      "================================================================================\n"
     ]
    },
    {
     "data": {
      "image/png": "[encoded data removed]",
      "text/plain": [
       "<Figure size 432x288 with 2 Axes>"
      ]
     },
     "metadata": {
      "needs_background": "light"
     },
     "output_type": "display_data"
    }
   ],
   "source": [
    "# Diplay confusion matrix for X_test_app\n",
    "\n",
    "display_confusion_matrix(sm_lr_model_grid, X_test_goo_vec,\n",
    "                         y_test_goo, 'Google',model_name)"
   ]
  },
  {
   "cell_type": "code",
   "execution_count": null,
   "id": "4a12f467-c1d6-42d2-be0a-e982a8348d6d",
   "metadata": {},
   "outputs": [],
   "source": []
  },
  {
   "cell_type": "code",
   "execution_count": 38,
   "id": "c895097c-2b4d-4144-9e71-0949aaa1765a",
   "metadata": {},
   "outputs": [],
   "source": [
    "# Prpcess target variable into one-hot encoded using pandas get_dummies \n",
    "# function for Kras / TensorFlow\n",
    "\n",
    "y_train_comb_dum = pd.get_dummies(y_train_combined).values\n",
    "\n",
    "y_test_app_dum = pd.get_dummies(y_test_app).values\n",
    "y_test_goo_dum = pd.get_dummies(y_test_goo).values"
   ]
  },
  {
   "cell_type": "code",
   "execution_count": 80,
   "id": "1d8fabc8-ebfe-4533-856c-99e730dace2f",
   "metadata": {},
   "outputs": [],
   "source": [
    "# Tokenize and format X_train_combined and X_test_app & X_test_goo features\n",
    "# for Kras / TensorFlow modeling\n",
    "\n",
    "tokenizer = text.Tokenizer(num_words=10000)\n",
    "tokenizer.fit_on_texts(list(X_train_combined))\n",
    "\n",
    "X_train_comb_tokens = tokenizer.texts_to_sequences(X_train_combined)\n",
    "X_train_comb_tok = sequence.pad_sequences(X_train_comb_tokens, maxlen=200)\n",
    "\n",
    "X_test_app_tokens = tokenizer.texts_to_sequences(X_test_app)\n",
    "X_test_app_tok = sequence.pad_sequences(X_test_app_tokens)\n",
    "\n",
    "X_test_goo_tokens = tokenizer.texts_to_sequences(X_test_goo)\n",
    "X_test_goo_tok = sequence.pad_sequences(X_test_goo_tokens)"
   ]
  },
  {
   "cell_type": "code",
   "execution_count": 81,
   "id": "f7c5ce5b-6928-4dcf-8c2d-f12adebe4a8f",
   "metadata": {},
   "outputs": [],
   "source": [
    "# Instaniate Sequential model and add layers\n",
    "\n",
    "sq_model = Sequential()\n",
    "embedding_size = 6\n",
    "sq_model.add(Embedding(10000, embedding_size))\n",
    "sq_model.add(LSTM(25, return_sequences=True))\n",
    "sq_model.add(GlobalMaxPool1D())\n",
    "sq_model.add(Dropout(0.6))\n",
    "sq_model.add(Dense(50, activation='relu'))\n",
    "sq_model.add(Dropout(0.6))\n",
    "sq_model.add(Dense(3, activation='softmax'))"
   ]
  },
  {
   "cell_type": "code",
   "execution_count": 82,
   "id": "4c763e76-3e1b-41fb-891e-4d6135076e0e",
   "metadata": {},
   "outputs": [],
   "source": [
    "# Specify compiler parameters\n",
    "\n",
    "sq_model.compile(loss='categorical_crossentropy', \n",
    "              optimizer='adam', \n",
    "              metrics=['accuracy','Recall','Precision'])"
   ]
  },
  {
   "cell_type": "code",
   "execution_count": 83,
   "id": "9fc898e7-d2eb-4117-be90-9547a57b5bea",
   "metadata": {},
   "outputs": [
    {
     "name": "stdout",
     "output_type": "stream",
     "text": [
      "Model: \"sequential_1\"\n",
      "_________________________________________________________________\n",
      "Layer (type)                 Output Shape              Param #   \n",
      "=================================================================\n",
      "embedding_1 (Embedding)      (None, None, 6)           60000     \n",
      "_________________________________________________________________\n",
      "lstm_1 (LSTM)                (None, None, 25)          3200      \n",
      "_________________________________________________________________\n",
      "global_max_pooling1d_1 (Glob (None, 25)                0         \n",
      "_________________________________________________________________\n",
      "dropout_2 (Dropout)          (None, 25)                0         \n",
      "_________________________________________________________________\n",
      "dense_2 (Dense)              (None, 50)                1300      \n",
      "_________________________________________________________________\n",
      "dropout_3 (Dropout)          (None, 50)                0         \n",
      "_________________________________________________________________\n",
      "dense_3 (Dense)              (None, 3)                 153       \n",
      "=================================================================\n",
      "Total params: 64,653\n",
      "Trainable params: 64,653\n",
      "Non-trainable params: 0\n",
      "_________________________________________________________________\n"
     ]
    }
   ],
   "source": [
    "sq_model.summary()"
   ]
  },
  {
   "cell_type": "code",
   "execution_count": 84,
   "id": "f6d51181-5784-41c2-b759-4b9de5038d7e",
   "metadata": {},
   "outputs": [
    {
     "name": "stdout",
     "output_type": "stream",
     "text": [
      "Epoch 1/3\n",
      "539/539 [==============================] - 41s 76ms/step - loss: 0.9300 - accuracy: 0.5275 - recall: 0.2744 - precision: 0.5500 - val_loss: 0.7765 - val_accuracy: 0.6660 - val_recall: 0.6660 - val_precision: 0.6660\n",
      "Epoch 2/3\n",
      "539/539 [==============================] - 39s 73ms/step - loss: 0.9010 - accuracy: 0.5470 - recall: 0.4274 - precision: 0.5535 - val_loss: 0.8063 - val_accuracy: 0.6660 - val_recall: 0.6660 - val_precision: 0.6660\n",
      "Epoch 3/3\n",
      "539/539 [==============================] - 40s 74ms/step - loss: 0.8791 - accuracy: 0.5470 - recall: 0.4089 - precision: 0.5734 - val_loss: 0.7309 - val_accuracy: 0.6660 - val_recall: 0.5825 - val_precision: 0.7172\n"
     ]
    },
    {
     "data": {
      "text/plain": [
       "<tensorflow.python.keras.callbacks.History at 0x7fc98d220130>"
      ]
     },
     "execution_count": 84,
     "metadata": {},
     "output_type": "execute_result"
    }
   ],
   "source": [
    "# Train model with X_train_comb and y_train_comb_dum\n",
    "\n",
    "sq_model.fit(X_train_comb_tok, y_train_comb_dum, epochs=3,\n",
    "          batch_size=8, validation_split=0.1)"
   ]
  },
  {
   "cell_type": "code",
   "execution_count": 85,
   "id": "81e471be-4c9d-479c-b12b-2dc7057498d7",
   "metadata": {},
   "outputs": [],
   "source": [
    "# Obtain model predictions for X_test_app and X_test_goo\n",
    "\n",
    "y_test_app_pp = sq_model.predict(X_test_app_tok)\n",
    "y_test_goo_pp = sq_model.predict(X_test_goo_tok)\n",
    "\n"
   ]
  },
  {
   "cell_type": "code",
   "execution_count": 86,
   "id": "fd7e1903-147b-4c84-a5a1-5f98aa13f20e",
   "metadata": {},
   "outputs": [],
   "source": [
    "# Convert probabilites to predicted sample target value \n",
    "\n",
    "y_test_app_hat10 = np.argmax(y_test_app_pp, axis=-1)\n",
    "y_test_goo_hat10 = np.argmax(y_test_goo_pp, axis=-1)"
   ]
  },
  {
   "cell_type": "code",
   "execution_count": 87,
   "id": "e9c47fc8-6d41-4e5f-b4ae-41e95a9cfccf",
   "metadata": {},
   "outputs": [
    {
     "name": "stdout",
     "output_type": "stream",
     "text": [
      "============================================================\n",
      "Predictions for Apple: Sequential\n",
      "Accuracy: 0.5164835164835165\n",
      "Recall: 0.5164835164835165\n",
      "Precision: 0.5164835164835165\n",
      "\n",
      "============================================================\n",
      "Predictions for Google: Sequential\n",
      "Accuracy: 0.6418181818181818\n",
      "Recall: 0.6418181818181818\n",
      "Precision: 0.6418181818181818\n",
      "\n"
     ]
    }
   ],
   "source": [
    "# Display prediction results for X_test_app and X_test_goo\n",
    "\n",
    "display_prediction_results(y_test_app_hat10, y_test_app,'Apple','Sequential')\n",
    "\n",
    "display_prediction_results(y_test_goo_hat10, y_test_goo, 'Google','Sequential')"
   ]
  },
  {
   "cell_type": "code",
   "execution_count": null,
   "id": "204d927e-39da-4e9f-ba90-02015a60c9f5",
   "metadata": {},
   "outputs": [],
   "source": []
  }
 ],
 "metadata": {
  "kernelspec": {
   "display_name": "Python (learn-env)",
   "language": "python",
   "name": "learn-env"
  },
  "language_info": {
   "codemirror_mode": {
    "name": "ipython",
    "version": 3
   },
   "file_extension": ".py",
   "mimetype": "text/x-python",
   "name": "python",
   "nbconvert_exporter": "python",
   "pygments_lexer": "ipython3",
   "version": "3.8.5"
  }
 },
 "nbformat": 4,
 "nbformat_minor": 5
}
