{
 "cells": [
  {
   "cell_type": "code",
   "execution_count": 1,
   "metadata": {},
   "outputs": [],
   "source": [
    "import pandas as pd\n",
    "import numpy as np\n",
    "import string\n",
    "import re\n",
    "import time\n",
    "\n",
    "import matplotlib.pyplot as plt\n",
    "\n",
    "\n",
    "import nltk\n",
    "from nltk.tokenize import RegexpTokenizer\n",
    "from nltk.corpus import stopwords, wordnet\n",
    "from nltk import pos_tag\n",
    "from nltk.stem import WordNetLemmatizer\n",
    "\n",
    "from sklearn.model_selection import train_test_split\n",
    "from sklearn.pipeline import Pipeline\n",
    "from sklearn.model_selection import GridSearchCV\n",
    "from sklearn.feature_extraction.text import TfidfVectorizer, CountVectorizer\n",
    "from sklearn.ensemble import RandomForestClassifier\n",
    "from sklearn.naive_bayes import MultinomialNB\n",
    "from sklearn.neighbors import KNeighborsClassifier\n",
    "from sklearn.metrics import accuracy_score, recall_score,precision_score, confusion_matrix\n",
    "from sklearn.metrics import make_scorer\n",
    "from sklearn.metrics import plot_confusion_matrix\n",
    "from imblearn.over_sampling import SMOTE \n",
    "\n"
   ]
  },
  {
   "cell_type": "code",
   "execution_count": 2,
   "metadata": {},
   "outputs": [],
   "source": [
    "# Read file\n",
    "filename = '../data/judge-1377884607_tweet_product_company.csv'\n",
    "\n",
    "sentiments_df = pd.read_csv(\"Data/tweets.csv\", encoding = 'iso-8859-1')\n"
   ]
  },
  {
   "cell_type": "code",
   "execution_count": 3,
   "metadata": {},
   "outputs": [
    {
     "data": {
      "text/html": [
       "<div>\n",
       "<style scoped>\n",
       "    .dataframe tbody tr th:only-of-type {\n",
       "        vertical-align: middle;\n",
       "    }\n",
       "\n",
       "    .dataframe tbody tr th {\n",
       "        vertical-align: top;\n",
       "    }\n",
       "\n",
       "    .dataframe thead th {\n",
       "        text-align: right;\n",
       "    }\n",
       "</style>\n",
       "<table border=\"1\" class=\"dataframe\">\n",
       "  <thead>\n",
       "    <tr style=\"text-align: right;\">\n",
       "      <th></th>\n",
       "      <th>tweet_text</th>\n",
       "      <th>emotion_in_tweet_is_directed_at</th>\n",
       "      <th>is_there_an_emotion_directed_at_a_brand_or_product</th>\n",
       "    </tr>\n",
       "  </thead>\n",
       "  <tbody>\n",
       "    <tr>\n",
       "      <th>0</th>\n",
       "      <td>.@wesley83 I have a 3G iPhone. After 3 hrs twe...</td>\n",
       "      <td>iPhone</td>\n",
       "      <td>Negative emotion</td>\n",
       "    </tr>\n",
       "    <tr>\n",
       "      <th>1</th>\n",
       "      <td>@jessedee Know about @fludapp ? Awesome iPad/i...</td>\n",
       "      <td>iPad or iPhone App</td>\n",
       "      <td>Positive emotion</td>\n",
       "    </tr>\n",
       "    <tr>\n",
       "      <th>2</th>\n",
       "      <td>@swonderlin Can not wait for #iPad 2 also. The...</td>\n",
       "      <td>iPad</td>\n",
       "      <td>Positive emotion</td>\n",
       "    </tr>\n",
       "    <tr>\n",
       "      <th>3</th>\n",
       "      <td>@sxsw I hope this year's festival isn't as cra...</td>\n",
       "      <td>iPad or iPhone App</td>\n",
       "      <td>Negative emotion</td>\n",
       "    </tr>\n",
       "    <tr>\n",
       "      <th>4</th>\n",
       "      <td>@sxtxstate great stuff on Fri #SXSW: Marissa M...</td>\n",
       "      <td>Google</td>\n",
       "      <td>Positive emotion</td>\n",
       "    </tr>\n",
       "  </tbody>\n",
       "</table>\n",
       "</div>"
      ],
      "text/plain": [
       "                                          tweet_text  \\\n",
       "0  .@wesley83 I have a 3G iPhone. After 3 hrs twe...   \n",
       "1  @jessedee Know about @fludapp ? Awesome iPad/i...   \n",
       "2  @swonderlin Can not wait for #iPad 2 also. The...   \n",
       "3  @sxsw I hope this year's festival isn't as cra...   \n",
       "4  @sxtxstate great stuff on Fri #SXSW: Marissa M...   \n",
       "\n",
       "  emotion_in_tweet_is_directed_at  \\\n",
       "0                          iPhone   \n",
       "1              iPad or iPhone App   \n",
       "2                            iPad   \n",
       "3              iPad or iPhone App   \n",
       "4                          Google   \n",
       "\n",
       "  is_there_an_emotion_directed_at_a_brand_or_product  \n",
       "0                                   Negative emotion  \n",
       "1                                   Positive emotion  \n",
       "2                                   Positive emotion  \n",
       "3                                   Negative emotion  \n",
       "4                                   Positive emotion  "
      ]
     },
     "execution_count": 3,
     "metadata": {},
     "output_type": "execute_result"
    }
   ],
   "source": [
    "# Data overview\n",
    "sentiments_df.head()"
   ]
  },
  {
   "cell_type": "code",
   "execution_count": 4,
   "metadata": {},
   "outputs": [
    {
     "data": {
      "text/plain": [
       "759                                                                  Google to Launch Major New Social Network Called Circles {link} #sxsw\n",
       "1440            Good Work! ÛÏ@mention @mention Check the latest stream at Apple's store at #SXSW {link} . ipad2 here I come. #PLAYSXSWÛ\n",
       "3418           @mention has evolved from novelty game to essential utility. What now @mention @mention {link} via @mention @IndySaha #sxsw\n",
       "6858                                                     RT @mention w00t! @mention wrote about our #hollergram iPad app for #sxsw! {link}\n",
       "2809    Help me decide which panel to go to next: Future of Social Photography or Google Doodles: Burning Man to Pac-Man and Beyond. #sxsw\n",
       "4511                         Google finding new ways to help small business say more on their Place Page #sxsw [Here's our overview {link}\n",
       "Name: tweet_text, dtype: object"
      ]
     },
     "execution_count": 4,
     "metadata": {},
     "output_type": "execute_result"
    }
   ],
   "source": [
    "# Randomly check tweet text for a couple of rows\n",
    "\n",
    "pd.set_option('display.max_colwidth', None)\n",
    "indexes = np.random.randint(0,len(sentiments_df),6)\n",
    "sentiments_df['tweet_text'].loc[indexes]\n"
   ]
  },
  {
   "cell_type": "code",
   "execution_count": 5,
   "metadata": {},
   "outputs": [
    {
     "name": "stdout",
     "output_type": "stream",
     "text": [
      "<class 'pandas.core.frame.DataFrame'>\n",
      "RangeIndex: 9093 entries, 0 to 9092\n",
      "Data columns (total 3 columns):\n",
      " #   Column                                              Non-Null Count  Dtype \n",
      "---  ------                                              --------------  ----- \n",
      " 0   tweet_text                                          9092 non-null   object\n",
      " 1   emotion_in_tweet_is_directed_at                     3291 non-null   object\n",
      " 2   is_there_an_emotion_directed_at_a_brand_or_product  9093 non-null   object\n",
      "dtypes: object(3)\n",
      "memory usage: 213.2+ KB\n"
     ]
    }
   ],
   "source": [
    "# Check number of records, data types and which columns have nan\n",
    "\n",
    "sentiments_df.info()"
   ]
  },
  {
   "cell_type": "code",
   "execution_count": 6,
   "metadata": {},
   "outputs": [
    {
     "data": {
      "text/plain": [
       "iPad                               946\n",
       "Apple                              661\n",
       "iPad or iPhone App                 470\n",
       "Google                             430\n",
       "iPhone                             297\n",
       "Other Google product or service    293\n",
       "Android App                         81\n",
       "Android                             78\n",
       "Other Apple product or service      35\n",
       "Name: emotion_in_tweet_is_directed_at, dtype: int64"
      ]
     },
     "execution_count": 6,
     "metadata": {},
     "output_type": "execute_result"
    }
   ],
   "source": [
    "# Check values for column 'emotion_in_tweet_is_directed_at'\n",
    "\n",
    "sentiments_df['emotion_in_tweet_is_directed_at'].value_counts()"
   ]
  },
  {
   "cell_type": "code",
   "execution_count": 7,
   "metadata": {},
   "outputs": [
    {
     "data": {
      "text/plain": [
       "5802"
      ]
     },
     "execution_count": 7,
     "metadata": {},
     "output_type": "execute_result"
    }
   ],
   "source": [
    "# Confirm number of NaN in column 'emotion_in_tweet_is_directed_at'\n",
    "\n",
    "sentiments_df['emotion_in_tweet_is_directed_at'].isna().sum()"
   ]
  },
  {
   "cell_type": "code",
   "execution_count": 8,
   "metadata": {},
   "outputs": [
    {
     "data": {
      "text/plain": [
       "No emotion toward brand or product    5389\n",
       "Positive emotion                      2978\n",
       "Negative emotion                       570\n",
       "I can't tell                           156\n",
       "Name: is_there_an_emotion_directed_at_a_brand_or_product, dtype: int64"
      ]
     },
     "execution_count": 8,
     "metadata": {},
     "output_type": "execute_result"
    }
   ],
   "source": [
    "# Check values for column 'is_there_an_emotion_directed_at_a_brand_or_product'\n",
    "\n",
    "sentiments_df['is_there_an_emotion_directed_at_a_brand_or_product'].value_counts()"
   ]
  },
  {
   "cell_type": "code",
   "execution_count": 9,
   "metadata": {},
   "outputs": [],
   "source": [
    "sentiments_df['tweet_text'] = sentiments_df['tweet_text'].astype('str') "
   ]
  },
  {
   "cell_type": "code",
   "execution_count": 10,
   "metadata": {},
   "outputs": [],
   "source": [
    "# Capital letter column function\n",
    "def capital_letter_ratio(tweet):\n",
    "    #Initialize count \n",
    "    capital_count = 0\n",
    "    \n",
    "    # Iterate through tweets for caps\n",
    "    for c in tweet:\n",
    "        if c.isupper():\n",
    "            capital_count += 1\n",
    "    return capital_count / len(tweet)\n",
    "\n",
    "#Adds capital letter ratio column\n",
    "sentiments_df['caps_ratio'] = sentiments_df['tweet_text'].apply(capital_letter_ratio)"
   ]
  },
  {
   "cell_type": "code",
   "execution_count": 11,
   "metadata": {},
   "outputs": [],
   "source": [
    "# Exclamation column function\n",
    "def exc_count(tweet):\n",
    "    \n",
    "    punctuation = '!'\n",
    "    # Initialize count\n",
    "    count = 0\n",
    "    \n",
    "    # Find punctuation\n",
    "    for punc in punctuation:\n",
    "        count += tweet.count(punc)\n",
    "    return count\n",
    "\n",
    "#Adds count column to the tweets\n",
    "sentiments_df['!_count'] = sentiments_df['tweet_text'].apply(exc_count)"
   ]
  },
  {
   "cell_type": "code",
   "execution_count": 12,
   "metadata": {},
   "outputs": [],
   "source": [
    "# Question mark column function\n",
    "def que_count(tweet):\n",
    "    \n",
    "    punctuation = '?'\n",
    "    # Initialize count\n",
    "    count = 0\n",
    "    \n",
    "    # Find punctuation\n",
    "    for punc in punctuation:\n",
    "        count += tweet.count(punc)\n",
    "    return count\n",
    "\n",
    "#Adds count column to the tweets\n",
    "sentiments_df['?_count'] = sentiments_df['tweet_text'].apply(que_count)"
   ]
  },
  {
   "cell_type": "code",
   "execution_count": 13,
   "metadata": {},
   "outputs": [
    {
     "data": {
      "text/html": [
       "<div>\n",
       "<style scoped>\n",
       "    .dataframe tbody tr th:only-of-type {\n",
       "        vertical-align: middle;\n",
       "    }\n",
       "\n",
       "    .dataframe tbody tr th {\n",
       "        vertical-align: top;\n",
       "    }\n",
       "\n",
       "    .dataframe thead th {\n",
       "        text-align: right;\n",
       "    }\n",
       "</style>\n",
       "<table border=\"1\" class=\"dataframe\">\n",
       "  <thead>\n",
       "    <tr style=\"text-align: right;\">\n",
       "      <th></th>\n",
       "      <th>tweet_text</th>\n",
       "      <th>emotion_in_tweet_is_directed_at</th>\n",
       "      <th>is_there_an_emotion_directed_at_a_brand_or_product</th>\n",
       "      <th>caps_ratio</th>\n",
       "      <th>!_count</th>\n",
       "      <th>?_count</th>\n",
       "    </tr>\n",
       "  </thead>\n",
       "  <tbody>\n",
       "    <tr>\n",
       "      <th>0</th>\n",
       "      <td>.@wesley83 I have a 3G iPhone. After 3 hrs tweeting at #RISE_Austin, it was dead!  I need to upgrade. Plugin stations at #SXSW.</td>\n",
       "      <td>iPhone</td>\n",
       "      <td>Negative emotion</td>\n",
       "      <td>0.118110</td>\n",
       "      <td>1</td>\n",
       "      <td>0</td>\n",
       "    </tr>\n",
       "    <tr>\n",
       "      <th>1</th>\n",
       "      <td>@jessedee Know about @fludapp ? Awesome iPad/iPhone app that you'll likely appreciate for its design. Also, they're giving free Ts at #SXSW</td>\n",
       "      <td>iPad or iPhone App</td>\n",
       "      <td>Positive emotion</td>\n",
       "      <td>0.071942</td>\n",
       "      <td>0</td>\n",
       "      <td>1</td>\n",
       "    </tr>\n",
       "    <tr>\n",
       "      <th>2</th>\n",
       "      <td>@swonderlin Can not wait for #iPad 2 also. They should sale them down at #SXSW.</td>\n",
       "      <td>iPad</td>\n",
       "      <td>Positive emotion</td>\n",
       "      <td>0.088608</td>\n",
       "      <td>0</td>\n",
       "      <td>0</td>\n",
       "    </tr>\n",
       "    <tr>\n",
       "      <th>3</th>\n",
       "      <td>@sxsw I hope this year's festival isn't as crashy as this year's iPhone app. #sxsw</td>\n",
       "      <td>iPad or iPhone App</td>\n",
       "      <td>Negative emotion</td>\n",
       "      <td>0.024390</td>\n",
       "      <td>0</td>\n",
       "      <td>0</td>\n",
       "    </tr>\n",
       "    <tr>\n",
       "      <th>4</th>\n",
       "      <td>@sxtxstate great stuff on Fri #SXSW: Marissa Mayer (Google), Tim O'Reilly (tech books/conferences) &amp;amp; Matt Mullenweg (Wordpress)</td>\n",
       "      <td>Google</td>\n",
       "      <td>Positive emotion</td>\n",
       "      <td>0.106870</td>\n",
       "      <td>0</td>\n",
       "      <td>0</td>\n",
       "    </tr>\n",
       "  </tbody>\n",
       "</table>\n",
       "</div>"
      ],
      "text/plain": [
       "                                                                                                                                    tweet_text  \\\n",
       "0              .@wesley83 I have a 3G iPhone. After 3 hrs tweeting at #RISE_Austin, it was dead!  I need to upgrade. Plugin stations at #SXSW.   \n",
       "1  @jessedee Know about @fludapp ? Awesome iPad/iPhone app that you'll likely appreciate for its design. Also, they're giving free Ts at #SXSW   \n",
       "2                                                              @swonderlin Can not wait for #iPad 2 also. They should sale them down at #SXSW.   \n",
       "3                                                           @sxsw I hope this year's festival isn't as crashy as this year's iPhone app. #sxsw   \n",
       "4          @sxtxstate great stuff on Fri #SXSW: Marissa Mayer (Google), Tim O'Reilly (tech books/conferences) &amp; Matt Mullenweg (Wordpress)   \n",
       "\n",
       "  emotion_in_tweet_is_directed_at  \\\n",
       "0                          iPhone   \n",
       "1              iPad or iPhone App   \n",
       "2                            iPad   \n",
       "3              iPad or iPhone App   \n",
       "4                          Google   \n",
       "\n",
       "  is_there_an_emotion_directed_at_a_brand_or_product  caps_ratio  !_count  \\\n",
       "0                                   Negative emotion    0.118110        1   \n",
       "1                                   Positive emotion    0.071942        0   \n",
       "2                                   Positive emotion    0.088608        0   \n",
       "3                                   Negative emotion    0.024390        0   \n",
       "4                                   Positive emotion    0.106870        0   \n",
       "\n",
       "   ?_count  \n",
       "0        0  \n",
       "1        1  \n",
       "2        0  \n",
       "3        0  \n",
       "4        0  "
      ]
     },
     "execution_count": 13,
     "metadata": {},
     "output_type": "execute_result"
    }
   ],
   "source": [
    "sentiments_df.head()"
   ]
  },
  {
   "cell_type": "code",
   "execution_count": 14,
   "metadata": {},
   "outputs": [],
   "source": [
    "\n",
    "def find_company_name_v2(text,emotion_at):\n",
    "    \n",
    "    '''\n",
    "    Go through text ('tweet_text' column) and determine whether it is about apple or google and\n",
    "    return either 'apple' or 'google' according to search.\n",
    "    If cannot tell company id from text, check emotion_at ('emotion_in_tweet_is_directed_at'\n",
    "    column) for comapy id. If cannot find company id return 'cannot tell'.\n",
    "    '''\n",
    "    \n",
    "    revised_emotion_at = str(emotion_at).lower()\n",
    "    \n",
    "    \n",
    "    revised_text = str(text).lower()\n",
    "    \n",
    "    apple = ['apple','iphone','ipad']\n",
    "    google = ['google','android']\n",
    "    \n",
    "    apple_count = 0\n",
    "    google_count = 0\n",
    "    \n",
    "    for a in apple:\n",
    "        apple_count += sum(1 for _ in re.finditer(r'\\b%s\\b' % re.escape(a), revised_text))\n",
    "        \n",
    "    for g in google:\n",
    "        google_count += sum(1 for _ in re.finditer(r'\\b%s\\b' % re.escape(g), revised_text))\n",
    "    \n",
    "\n",
    "    if apple_count > google_count:\n",
    "        return 'apple'\n",
    "    elif google_count > apple_count:\n",
    "        return 'google'\n",
    "    elif revised_emotion_at != 'nan' and revised_emotion_at != 'default':\n",
    "        for idx, item in enumerate(revised_emotion_at.split()):\n",
    "            if item in apple:\n",
    "                return 'apple'\n",
    "            elif item in google:\n",
    "                return 'google'\n",
    "            else:\n",
    "                if idx == len(revised_emotion_at.split()): \n",
    "                    return 'cannot tell'\n",
    "    else:\n",
    "        return 'cannot tell'"
   ]
  },
  {
   "cell_type": "code",
   "execution_count": 15,
   "metadata": {},
   "outputs": [
    {
     "data": {
      "text/plain": [
       "apple          5331\n",
       "google         2814\n",
       "cannot tell     948\n",
       "Name: company_name, dtype: int64"
      ]
     },
     "execution_count": 15,
     "metadata": {},
     "output_type": "execute_result"
    }
   ],
   "source": [
    "# Create a new column called 'company_name' and find whether the tweet is about apple,\n",
    "# google or cannot tell using function find_company_name\n",
    " \n",
    "sentiments_df['company_name'] = sentiments_df.apply(\n",
    "    lambda s: find_company_name_v2(s['tweet_text'],s['emotion_in_tweet_is_directed_at']),axis=1) \n",
    "\n",
    "sentiments_df['company_name'].value_counts()\n"
   ]
  },
  {
   "cell_type": "code",
   "execution_count": 16,
   "metadata": {},
   "outputs": [
    {
     "data": {
      "text/plain": [
       "No emotion toward brand or product    911\n",
       "Positive emotion                       23\n",
       "I can't tell                           10\n",
       "Negative emotion                        4\n",
       "Name: is_there_an_emotion_directed_at_a_brand_or_product, dtype: int64"
      ]
     },
     "execution_count": 16,
     "metadata": {},
     "output_type": "execute_result"
    }
   ],
   "source": [
    "# Tweets for which cannot tell whether comment directed to apple or google the\n",
    "# sentiment is mostly neutral (over 95%)\n",
    "\n",
    "cannot_tell = sentiments_df[sentiments_df['company_name'] == 'cannot tell']\n",
    "cannot_tell['is_there_an_emotion_directed_at_a_brand_or_product'].value_counts()"
   ]
  },
  {
   "cell_type": "code",
   "execution_count": 17,
   "metadata": {},
   "outputs": [
    {
     "data": {
      "text/plain": [
       "apple     5236\n",
       "google    2763\n",
       "Name: company_name, dtype: int64"
      ]
     },
     "execution_count": 17,
     "metadata": {},
     "output_type": "execute_result"
    }
   ],
   "source": [
    "# Drop any row where 'tweet_text' is nan\n",
    "sentiments_df.drop(sentiments_df[sentiments_df['tweet_text'].isna()].index,inplace=True)\n",
    "\n",
    "# Drop any row where 'is_there_an_emotion_directed_at_a_brand_or_product' says 'I can't tell'\n",
    "column_name = 'is_there_an_emotion_directed_at_a_brand_or_product'\n",
    "match = 'I can\\'t tell'\n",
    "sentiments_df.drop(sentiments_df[sentiments_df[column_name] == match].index, inplace=True)\n",
    "\n",
    "\n",
    "# Drop any rows where column 'company_name' says 'cannot tell'\n",
    "sentiments_df.drop(sentiments_df[sentiments_df['company_name'] == 'cannot tell'].index,\n",
    "                  inplace=True)\n",
    "\n",
    "sentiments_df['company_name'].value_counts()"
   ]
  },
  {
   "cell_type": "code",
   "execution_count": 18,
   "metadata": {},
   "outputs": [],
   "source": [
    "# Create a function that returns 0 for negative sentiment, 1 for neutral sentiment\n",
    "# and 2 for positive sentiment\n",
    "\n",
    "def convert_emotion_tonumber(emotion):\n",
    "    if emotion == 'Negative emotion':\n",
    "        return 0\n",
    "    elif emotion == 'Positive emotion':\n",
    "        return 2\n",
    "    else:\n",
    "        return 1  # for neutral emotion"
   ]
  },
  {
   "cell_type": "code",
   "execution_count": 19,
   "metadata": {},
   "outputs": [
    {
     "data": {
      "text/plain": [
       "1    4478\n",
       "2    2955\n",
       "0     566\n",
       "Name: sentiment, dtype: int64"
      ]
     },
     "execution_count": 19,
     "metadata": {},
     "output_type": "execute_result"
    }
   ],
   "source": [
    "# Create a column called 'sentiment' and pass value from \n",
    "# 'is_there_an_emotion_directed_at_a_brand_or_product' to function convert_emotion_tonumber.\n",
    "\n",
    "sentiments_df['sentiment'] = sentiments_df[\n",
    "    'is_there_an_emotion_directed_at_a_brand_or_product'].map(\n",
    "    lambda s: convert_emotion_tonumber(s))\n",
    "\n",
    "sentiments_df['sentiment'].value_counts()"
   ]
  },
  {
   "cell_type": "code",
   "execution_count": 20,
   "metadata": {},
   "outputs": [
    {
     "name": "stdout",
     "output_type": "stream",
     "text": [
      "<class 'pandas.core.frame.DataFrame'>\n",
      "Int64Index: 7999 entries, 0 to 9092\n",
      "Data columns (total 8 columns):\n",
      " #   Column                                              Non-Null Count  Dtype  \n",
      "---  ------                                              --------------  -----  \n",
      " 0   tweet_text                                          7999 non-null   object \n",
      " 1   emotion_in_tweet_is_directed_at                     3282 non-null   object \n",
      " 2   is_there_an_emotion_directed_at_a_brand_or_product  7999 non-null   object \n",
      " 3   caps_ratio                                          7999 non-null   float64\n",
      " 4   !_count                                             7999 non-null   int64  \n",
      " 5   ?_count                                             7999 non-null   int64  \n",
      " 6   company_name                                        7999 non-null   object \n",
      " 7   sentiment                                           7999 non-null   int64  \n",
      "dtypes: float64(1), int64(3), object(4)\n",
      "memory usage: 562.4+ KB\n"
     ]
    }
   ],
   "source": [
    "sentiments_df.info()"
   ]
  },
  {
   "cell_type": "code",
   "execution_count": 21,
   "metadata": {},
   "outputs": [],
   "source": [
    "# Create an intermediate dataframe that only contains columns 'tweet_text','company_name'\n",
    "# sentiment\n",
    "\n",
    "sentiments2_df = sentiments_df[['tweet_text','company_name','sentiment', 'caps_ratio', '!_count', '?_count']].copy()\n"
   ]
  },
  {
   "cell_type": "code",
   "execution_count": 22,
   "metadata": {},
   "outputs": [
    {
     "name": "stdout",
     "output_type": "stream",
     "text": [
      "<class 'pandas.core.frame.DataFrame'>\n",
      "Int64Index: 7999 entries, 0 to 9092\n",
      "Data columns (total 6 columns):\n",
      " #   Column        Non-Null Count  Dtype  \n",
      "---  ------        --------------  -----  \n",
      " 0   tweet_text    7999 non-null   object \n",
      " 1   company_name  7999 non-null   object \n",
      " 2   sentiment     7999 non-null   int64  \n",
      " 3   caps_ratio    7999 non-null   float64\n",
      " 4   !_count       7999 non-null   int64  \n",
      " 5   ?_count       7999 non-null   int64  \n",
      "dtypes: float64(1), int64(3), object(2)\n",
      "memory usage: 437.4+ KB\n"
     ]
    }
   ],
   "source": [
    "sentiments2_df.info()"
   ]
  },
  {
   "cell_type": "code",
   "execution_count": 23,
   "metadata": {},
   "outputs": [],
   "source": [
    "# Split sentiments2_df into two data frames where apple_df contains all tweets about apple\n",
    "# google_df contains all tweets about google\n",
    "\n",
    "apple_df = sentiments2_df[sentiments2_df['company_name'] == 'apple'].copy()\n",
    "google_df = sentiments2_df[sentiments2_df['company_name'] == 'google'].copy()\n"
   ]
  },
  {
   "cell_type": "code",
   "execution_count": 54,
   "metadata": {},
   "outputs": [],
   "source": [
    "apple_X = apple_df[['tweet_text', 'caps_ratio', '!_count', '?_count']]\n",
    "google_X = google_df[['tweet_text', 'caps_ratio', '!_count', '?_count']]"
   ]
  },
  {
   "cell_type": "code",
   "execution_count": 55,
   "metadata": {},
   "outputs": [],
   "source": [
    "# Split apple_df and google_df into train and test samples using train_test_split\n",
    "\n",
    "X_train_app, X_test_app, y_train_app, y_test_app = train_test_split(apple_X,\n",
    "                                                apple_df['sentiment'],test_size = 0.4, \n",
    "                                                stratify = apple_df['sentiment'],\n",
    "                                                random_state = 6781)\n",
    "\n",
    "X_train_goo, X_test_goo, y_train_goo, y_test_goo = train_test_split(google_X,\n",
    "                                                google_df['sentiment'],test_size = 0.4, \n",
    "                                                stratify = google_df['sentiment'],\n",
    "                                                random_state = 6782)\n"
   ]
  },
  {
   "cell_type": "code",
   "execution_count": 56,
   "metadata": {},
   "outputs": [
    {
     "data": {
      "text/plain": [
       "4798"
      ]
     },
     "execution_count": 56,
     "metadata": {},
     "output_type": "execute_result"
    }
   ],
   "source": [
    "a = len(X_train_app)\n",
    "g = len(X_train_goo)\n",
    "a+g"
   ]
  },
  {
   "cell_type": "code",
   "execution_count": 57,
   "metadata": {},
   "outputs": [],
   "source": [
    "def get_wordnet_pos(tag):\n",
    "    '''\n",
    "    Translate nltk POS to wordnet tags\n",
    "    '''\n",
    "    \n",
    "    if tag.startswith('J'):\n",
    "        return wordnet.ADJ\n",
    "    elif tag.startswith('V'):\n",
    "        return wordnet.VERB\n",
    "    elif tag.startswith('N'):\n",
    "        return wordnet.NOUN\n",
    "    elif tag.startswith('R'):\n",
    "        return wordnet.ADV\n",
    "    else:\n",
    "        return wordnet.NOUN"
   ]
  },
  {
   "cell_type": "code",
   "execution_count": 58,
   "metadata": {},
   "outputs": [],
   "source": [
    "def nlp_doc_preparer(doc):\n",
    "    '''\n",
    "     - Customize nltk stop_words to include all punction marks\n",
    "     - Split text into words containing letters\n",
    "     - Make all letters lower case\n",
    "     - Use pos_tag to mark up the words for a particular part of a speech\n",
    "     - Use get_wordnet_pos to convert pos_tag to wordnet_pos\n",
    "     - Convert word to root word with WordNetLemmatizer\n",
    "     - Return processed document as a string of words\n",
    "    '''\n",
    "    \n",
    "    custom_sw = stopwords.words('english')\n",
    "    custom_sw.extend(list(string.punctuation))\n",
    "\n",
    "    \n",
    "    regex_token = RegexpTokenizer(r\"([a-zA-Z]+(?:’[a-z]+)?)\")\n",
    "    doc = regex_token.tokenize(doc)\n",
    "    \n",
    "    doc = [word.lower() for word in doc]\n",
    "    doc = [word for word in doc if word not in custom_sw]\n",
    "    \n",
    "    doc = pos_tag(doc)\n",
    "    doc = [(word[0], get_wordnet_pos(word[1])) for word in doc]\n",
    "    \n",
    "    lemmatizer = WordNetLemmatizer() \n",
    "    doc = [lemmatizer.lemmatize(word[0], word[1]) for word in doc]\n",
    "    \n",
    "    return ' '.join(doc)\n"
   ]
  },
  {
   "cell_type": "code",
   "execution_count": 59,
   "metadata": {},
   "outputs": [],
   "source": [
    "# Combined X_train_app and X_train_goo into single series \n",
    "# and y_train_app and y_train_goo \n",
    "\n",
    "X_train_combined = pd.concat([X_train_app,X_train_goo])\n",
    "y_train_combined = pd.concat([y_train_app,y_train_goo])\n",
    "\n"
   ]
  },
  {
   "cell_type": "code",
   "execution_count": 64,
   "metadata": {},
   "outputs": [
    {
     "data": {
      "text/html": [
       "<div>\n",
       "<style scoped>\n",
       "    .dataframe tbody tr th:only-of-type {\n",
       "        vertical-align: middle;\n",
       "    }\n",
       "\n",
       "    .dataframe tbody tr th {\n",
       "        vertical-align: top;\n",
       "    }\n",
       "\n",
       "    .dataframe thead th {\n",
       "        text-align: right;\n",
       "    }\n",
       "</style>\n",
       "<table border=\"1\" class=\"dataframe\">\n",
       "  <thead>\n",
       "    <tr style=\"text-align: right;\">\n",
       "      <th></th>\n",
       "      <th>tweet_text</th>\n",
       "      <th>caps_ratio</th>\n",
       "      <th>!_count</th>\n",
       "      <th>?_count</th>\n",
       "    </tr>\n",
       "  </thead>\n",
       "  <tbody>\n",
       "    <tr>\n",
       "      <th>1653</th>\n",
       "      <td>Uh oh. :-\\ RT @mention I left my WHITE iPhone 4 in a cab in Austin at #SXSW  Internet, please help.</td>\n",
       "      <td>0.161616</td>\n",
       "      <td>0</td>\n",
       "      <td>0</td>\n",
       "    </tr>\n",
       "    <tr>\n",
       "      <th>4357</th>\n",
       "      <td>The only more fitting than @mention having his birthday during #SXSW is if Apple released a new product today too. Happy Birthday!</td>\n",
       "      <td>0.061538</td>\n",
       "      <td>1</td>\n",
       "      <td>0</td>\n",
       "    </tr>\n",
       "    <tr>\n",
       "      <th>8127</th>\n",
       "      <td>iPad2 #sxsw (@mention Apple POP UP Store) {link}</td>\n",
       "      <td>0.166667</td>\n",
       "      <td>0</td>\n",
       "      <td>0</td>\n",
       "    </tr>\n",
       "    <tr>\n",
       "      <th>244</th>\n",
       "      <td>picked up an ipad 2 at the #sxsw pop up  apple store! only 15 minute wait!</td>\n",
       "      <td>0.000000</td>\n",
       "      <td>2</td>\n",
       "      <td>0</td>\n",
       "    </tr>\n",
       "    <tr>\n",
       "      <th>3565</th>\n",
       "      <td>@mention I think it's also that if I can't find an iPhone charger at #sxsw, I'm doing something very, very wrong.</td>\n",
       "      <td>0.035398</td>\n",
       "      <td>0</td>\n",
       "      <td>0</td>\n",
       "    </tr>\n",
       "  </tbody>\n",
       "</table>\n",
       "</div>"
      ],
      "text/plain": [
       "                                                                                                                              tweet_text  \\\n",
       "1653                                 Uh oh. :-\\ RT @mention I left my WHITE iPhone 4 in a cab in Austin at #SXSW  Internet, please help.   \n",
       "4357  The only more fitting than @mention having his birthday during #SXSW is if Apple released a new product today too. Happy Birthday!   \n",
       "8127                                                                                    iPad2 #sxsw (@mention Apple POP UP Store) {link}   \n",
       "244                                                           picked up an ipad 2 at the #sxsw pop up  apple store! only 15 minute wait!   \n",
       "3565                   @mention I think it's also that if I can't find an iPhone charger at #sxsw, I'm doing something very, very wrong.   \n",
       "\n",
       "      caps_ratio  !_count  ?_count  \n",
       "1653    0.161616        0        0  \n",
       "4357    0.061538        1        0  \n",
       "8127    0.166667        0        0  \n",
       "244     0.000000        2        0  \n",
       "3565    0.035398        0        0  "
      ]
     },
     "execution_count": 64,
     "metadata": {},
     "output_type": "execute_result"
    }
   ],
   "source": [
    "X_train_combined.head()"
   ]
  },
  {
   "cell_type": "code",
   "execution_count": 61,
   "metadata": {},
   "outputs": [
    {
     "data": {
      "text/plain": [
       "True"
      ]
     },
     "execution_count": 61,
     "metadata": {},
     "output_type": "execute_result"
    }
   ],
   "source": [
    "len(X_train_combined) == len(y_train_combined)"
   ]
  },
  {
   "cell_type": "code",
   "execution_count": 62,
   "metadata": {},
   "outputs": [
    {
     "data": {
      "text/plain": [
       "4798"
      ]
     },
     "execution_count": 62,
     "metadata": {},
     "output_type": "execute_result"
    }
   ],
   "source": [
    "sum(X_train_combined.index == y_train_combined.index)"
   ]
  },
  {
   "cell_type": "code",
   "execution_count": null,
   "metadata": {},
   "outputs": [],
   "source": []
  },
  {
   "cell_type": "code",
   "execution_count": null,
   "metadata": {},
   "outputs": [],
   "source": []
  },
  {
   "cell_type": "code",
   "execution_count": null,
   "metadata": {},
   "outputs": [],
   "source": []
  },
  {
   "cell_type": "code",
   "execution_count": null,
   "metadata": {},
   "outputs": [],
   "source": []
  },
  {
   "cell_type": "code",
   "execution_count": null,
   "metadata": {},
   "outputs": [],
   "source": []
  },
  {
   "cell_type": "code",
   "execution_count": null,
   "metadata": {},
   "outputs": [],
   "source": []
  },
  {
   "cell_type": "markdown",
   "metadata": {},
   "source": [
    "# Need to apply to only tweet_text column and integrate into pipeline"
   ]
  },
  {
   "cell_type": "code",
   "execution_count": 65,
   "metadata": {},
   "outputs": [
    {
     "data": {
      "text/plain": [
       "['uh oh rt mention leave white iphone cab austin sxsw internet please help',\n",
       " 'fit mention birthday sxsw apple release new product today happy birthday',\n",
       " 'ipad sxsw mention apple pop store link',\n",
       " 'pick ipad sxsw pop apple store minute wait']"
      ]
     },
     "execution_count": 65,
     "metadata": {},
     "output_type": "execute_result"
    }
   ],
   "source": [
    "# Process tweets with nlp_doc_preparer function\n",
    "\n",
    "X_train_combined_processed = [nlp_doc_preparer(tweet) for tweet in X_train_combined['tweet_text']]\n",
    "\n",
    "X_train_combined_processed[:4]"
   ]
  },
  {
   "cell_type": "code",
   "execution_count": 32,
   "metadata": {},
   "outputs": [],
   "source": [
    "\n",
    "\n",
    "def display_cross_validation_results(cross_val,model_name):\n",
    "    '''\n",
    "    Incoporate cross validation results into a pandas dataframe and display validation scores\n",
    "    '''\n",
    "    \n",
    "    cross_val_results = pd.DataFrame(cross_val)\n",
    "    \n",
    "    accuracy = cross_val_results['mean_test_accuracy'][0]\n",
    "    recall = cross_val_results['mean_test_recall'][0]\n",
    "    precision = cross_val_results['mean_test_precision'][0]\n",
    "    \n",
    "    print('Validation','='*60)\n",
    "    print(f'Validation results for {model_name}:')\n",
    "    print(f'Accuracy: {accuracy}')\n",
    "    print(f'Recall: {recall} <--- Not sure!')\n",
    "    print(f'Precision: {precision} <--- Not sure!\\n')"
   ]
  },
  {
   "cell_type": "code",
   "execution_count": 33,
   "metadata": {},
   "outputs": [],
   "source": [
    "\n",
    "def display_prediction_results(prediction, actuall, company_name, model_name):\n",
    "    '''\n",
    "    Get predictions for X_test samples and display scores\n",
    "    '''\n",
    "    \n",
    "    accuracy = accuracy_score(prediction, actuall)\n",
    "    recall = recall_score(prediction, actuall, average = 'micro')\n",
    "    precision = precision_score(prediction, actuall, average = 'micro')\n",
    "\n",
    "    print('='*60)\n",
    "    print(f'Predictions for {company_name}: {model_name}')\n",
    "    print(f'Accuracy: {accuracy}')\n",
    "    print(f'Recall: {recall}')\n",
    "    print(f'Precision: {precision}\\n')\n"
   ]
  },
  {
   "cell_type": "code",
   "execution_count": 34,
   "metadata": {},
   "outputs": [],
   "source": [
    "def display_confusion_matrix(model, X, y,company_name, model_name):\n",
    "    print(f'Confusion matrix for: {company_name}')\n",
    "    print(f'Model: {model_name}')\n",
    "    plot_confusion_matrix(model,X,y)\n",
    "    print('='*80)"
   ]
  },
  {
   "cell_type": "code",
   "execution_count": 35,
   "metadata": {},
   "outputs": [
    {
     "name": "stdout",
     "output_type": "stream",
     "text": [
      "Training time: 0.3784475326538086\n"
     ]
    }
   ],
   "source": [
    "# Use pipes to countVectorize X_train_combined_processed and then train MultinomialNB\n",
    "\n",
    "start = time.time()\n",
    "\n",
    "cv_mnb_pipe = Pipeline([('countvect',CountVectorizer()), \n",
    "                 ('mnb', MultinomialNB())])\n",
    "\n",
    "grid_accuracy = make_scorer(accuracy_score)\n",
    "grid_recall_micro = make_scorer(recall_score, average = 'micro')\n",
    "grid_precision_micro = make_scorer(precision_score, average = 'micro')\n",
    "\n",
    "cv_mnb_params = {'countvect__input' : ['content'],'mnb__alpha' : [1.0]}\n",
    "\n",
    "cv_mnb_model_grid = GridSearchCV(estimator = cv_mnb_pipe, param_grid = cv_mnb_params,\n",
    "                                scoring = {'accuracy' : grid_accuracy, \n",
    "                                           'recall' : grid_recall_micro,\n",
    "                                          'precision' : grid_precision_micro},\n",
    "                                refit = 'accuracy')\n",
    "\n",
    "cv_mnb_model_grid.fit(X_train_combined_processed,y_train_combined)\n",
    "end = time.time()\n",
    "print(f'Training time: {end-start}')"
   ]
  },
  {
   "cell_type": "code",
   "execution_count": 36,
   "metadata": {},
   "outputs": [
    {
     "name": "stdout",
     "output_type": "stream",
     "text": [
      "Validation ============================================================\n",
      "Validation results for MultinomialNB with Count Vectorize:\n",
      "Accuracy: 0.6181801790059089\n",
      "Recall: 0.6181801790059089 <--- Not sure!\n",
      "Precision: 0.6181801790059089 <--- Not sure!\n",
      "\n",
      "============================================================\n",
      "Predictions for Apple: MultinomialNB with Count Vectorize\n",
      "Accuracy: 0.605727923627685\n",
      "Recall: 0.605727923627685\n",
      "Precision: 0.605727923627685\n",
      "\n",
      "============================================================\n",
      "Predictions for Google: MultinomialNB with Count Vectorize\n",
      "Accuracy: 0.689873417721519\n",
      "Recall: 0.689873417721519\n",
      "Precision: 0.689873417721519\n",
      "\n"
     ]
    }
   ],
   "source": [
    "# Display recoss validation results, make prediction for X_test_app and X_test_goo\n",
    "# diplay results.  Use respective functions.\n",
    "\n",
    "model_name = 'MultinomialNB with Count Vectorize'\n",
    "\n",
    "display_cross_validation_results(cv_mnb_model_grid.cv_results_,model_name)\n",
    "\n",
    "y_test_app_hat = cv_mnb_model_grid.predict(X_test_app)\n",
    "y_test_goo_hat = cv_mnb_model_grid.predict(X_test_goo)\n",
    "\n",
    "display_prediction_results(y_test_app_hat, y_test_app,'Apple',model_name)\n",
    "\n",
    "display_prediction_results(y_test_goo_hat, y_test_goo, 'Google',model_name)\n"
   ]
  },
  {
   "cell_type": "code",
   "execution_count": 37,
   "metadata": {},
   "outputs": [
    {
     "name": "stdout",
     "output_type": "stream",
     "text": [
      "Confusion matrix for: Apple\n",
      "Model: MultinomialNB with Count Vectorize\n",
      "================================================================================\n"
     ]
    },
    {
     "data": {
      "image/png": "[encoded data removed]",
      "text/plain": [
       "<Figure size 432x288 with 2 Axes>"
      ]
     },
     "metadata": {
      "needs_background": "light"
     },
     "output_type": "display_data"
    }
   ],
   "source": [
    "# Diplay confusion matrix for X_test_app\n",
    "\n",
    "display_confusion_matrix(cv_mnb_model_grid, X_test_app, y_test_app, 'Apple',model_name)\n"
   ]
  },
  {
   "cell_type": "code",
   "execution_count": 38,
   "metadata": {},
   "outputs": [
    {
     "name": "stdout",
     "output_type": "stream",
     "text": [
      "Confusion matrix for: Google\n",
      "Model: MultinomialNB with Count Vectorize\n",
      "================================================================================\n"
     ]
    },
    {
     "data": {
      "image/png": "[encoded data removed]",
      "text/plain": [
       "<Figure size 432x288 with 2 Axes>"
      ]
     },
     "metadata": {
      "needs_background": "light"
     },
     "output_type": "display_data"
    }
   ],
   "source": [
    "# Diplay confusion matrix for X_test_goo\n",
    "\n",
    "display_confusion_matrix(cv_mnb_model_grid,X_test_goo,y_test_goo, 'Google',model_name)\n"
   ]
  },
  {
   "cell_type": "code",
   "execution_count": 39,
   "metadata": {},
   "outputs": [
    {
     "name": "stdout",
     "output_type": "stream",
     "text": [
      "Training time: 0.3635385036468506\n"
     ]
    }
   ],
   "source": [
    "# Use pipes to TfidfVectorize X_train_combined_processed and then train MultinomialNB()\n",
    "\n",
    "start = time.time()\n",
    "\n",
    "tf_mnb_pipe = Pipeline([('tfvect',TfidfVectorizer()), \n",
    "                 ('mnb', MultinomialNB())])\n",
    "\n",
    "tf_mnb_params = {'tfvect__input' : ['content'],'mnb__alpha' : [1.0]}\n",
    "\n",
    "tf_mnb_model_grid = GridSearchCV(estimator = tf_mnb_pipe, param_grid = tf_mnb_params,\n",
    "                                scoring = {'accuracy' : grid_accuracy, \n",
    "                                           'recall' : grid_recall_micro,\n",
    "                                          'precision' : grid_precision_micro},\n",
    "                                refit = 'accuracy')\n",
    "\n",
    "\n",
    "tf_mnb_model_grid.fit(X_train_combined_processed,y_train_combined)\n",
    "end = time.time()\n",
    "print(f'Training time: {end-start}')"
   ]
  },
  {
   "cell_type": "code",
   "execution_count": 40,
   "metadata": {},
   "outputs": [
    {
     "name": "stdout",
     "output_type": "stream",
     "text": [
      "Validation ============================================================\n",
      "Validation results for MultinomialNB with TF-IDF Vectorize:\n",
      "Accuracy: 0.621502650330205\n",
      "Recall: 0.621502650330205 <--- Not sure!\n",
      "Precision: 0.621502650330205 <--- Not sure!\n",
      "\n",
      "============================================================\n",
      "Predictions for Apple: MultinomialNB with TF-IDF Vectorize\n",
      "Accuracy: 0.5937947494033413\n",
      "Recall: 0.5937947494033413\n",
      "Precision: 0.5937947494033413\n",
      "\n",
      "============================================================\n",
      "Predictions for Google: MultinomialNB with TF-IDF Vectorize\n",
      "Accuracy: 0.6998191681735986\n",
      "Recall: 0.6998191681735986\n",
      "Precision: 0.6998191681735986\n",
      "\n"
     ]
    }
   ],
   "source": [
    "# Display cross validation results, make prediction for X_test_app and X_test_goo\n",
    "# diplay results.  Use respective functions.\n",
    "\n",
    "model_name = 'MultinomialNB with TF-IDF Vectorize'\n",
    "\n",
    "display_cross_validation_results(tf_mnb_model_grid.cv_results_,model_name)\n",
    "\n",
    "y_test_app_hat = tf_mnb_model_grid.predict(X_test_app)\n",
    "y_test_goo_hat = tf_mnb_model_grid.predict(X_test_goo)\n",
    "\n",
    "display_prediction_results(y_test_app_hat, y_test_app,'Apple',model_name)\n",
    "\n",
    "display_prediction_results(y_test_goo_hat, y_test_goo, 'Google',model_name)\n"
   ]
  },
  {
   "cell_type": "code",
   "execution_count": 41,
   "metadata": {},
   "outputs": [
    {
     "name": "stdout",
     "output_type": "stream",
     "text": [
      "Confusion matrix for: Apple\n",
      "Model: MultinomialNB with TF-IDF Vectorize\n",
      "================================================================================\n"
     ]
    },
    {
     "data": {
      "image/png": "[encoded data removed]",
      "text/plain": [
       "<Figure size 432x288 with 2 Axes>"
      ]
     },
     "metadata": {
      "needs_background": "light"
     },
     "output_type": "display_data"
    }
   ],
   "source": [
    "# Diplay confusion matrix for X_test_app\n",
    "\n",
    "display_confusion_matrix(tf_mnb_model_grid, X_test_app, y_test_app, 'Apple',model_name)\n"
   ]
  },
  {
   "cell_type": "code",
   "execution_count": 42,
   "metadata": {},
   "outputs": [
    {
     "name": "stdout",
     "output_type": "stream",
     "text": [
      "Confusion matrix for: Google\n",
      "Model: MultinomialNB with TF-IDF Vectorize\n",
      "================================================================================\n"
     ]
    },
    {
     "data": {
      "image/png": "[encoded data removed]",
      "text/plain": [
       "<Figure size 432x288 with 2 Axes>"
      ]
     },
     "metadata": {
      "needs_background": "light"
     },
     "output_type": "display_data"
    }
   ],
   "source": [
    "# Diplay confusion matrix for X_test_goo\n",
    "\n",
    "display_confusion_matrix(tf_mnb_model_grid,X_test_goo,y_test_goo, 'Google',model_name)\n"
   ]
  },
  {
   "cell_type": "code",
   "execution_count": null,
   "metadata": {},
   "outputs": [],
   "source": [
    "\n"
   ]
  },
  {
   "cell_type": "code",
   "execution_count": null,
   "metadata": {},
   "outputs": [],
   "source": []
  },
  {
   "cell_type": "code",
   "execution_count": 43,
   "metadata": {},
   "outputs": [
    {
     "name": "stdout",
     "output_type": "stream",
     "text": [
      "Training time: 16.800080060958862\n"
     ]
    },
    {
     "data": {
      "text/plain": [
       "{'countvect__input': 'content',\n",
       " 'knn__leaf_size': 3,\n",
       " 'knn__n_neighbors': 7,\n",
       " 'knn__weights': 'distance'}"
      ]
     },
     "execution_count": 43,
     "metadata": {},
     "output_type": "execute_result"
    }
   ],
   "source": [
    "# Use pipes to CountVectorize X_train_combined_processed and then train KNeighborsClassifier\n",
    "\n",
    "start = time.time()\n",
    "\n",
    "cv_knn_pipe = Pipeline([('countvect',CountVectorizer()), \n",
    "                 ('knn', KNeighborsClassifier())])\n",
    "\n",
    "cv_knn_params = {'countvect__input' : ['content'],\n",
    "                 'knn__n_neighbors' : [5,7,21],  # tried 3,7,21\n",
    "                'knn__weights' : ['distance','uniform'], # tried 'uniform\n",
    "                'knn__leaf_size' : [3,7,15]}  #tried 30,45\n",
    "\n",
    "cv_knn_model_grid = GridSearchCV(estimator = cv_knn_pipe, param_grid = cv_knn_params,\n",
    "                                scoring = {'accuracy' : grid_accuracy, \n",
    "                                           'recall' : grid_recall_micro,\n",
    "                                          'precision' : grid_precision_micro},\n",
    "                                refit = 'accuracy')\n",
    "\n",
    "\n",
    "cv_knn_model_grid.fit(X_train_combined_processed,y_train_combined)\n",
    "end = time.time()\n",
    "print(f'Training time: {end-start}')\n",
    "cv_knn_model_grid.best_params_"
   ]
  },
  {
   "cell_type": "code",
   "execution_count": 44,
   "metadata": {},
   "outputs": [
    {
     "name": "stdout",
     "output_type": "stream",
     "text": [
      "Validation ============================================================\n",
      "Validation results for KNeighborsClassifier with Count Vectorize:\n",
      "Accuracy: 0.5837912756343414\n",
      "Recall: 0.5837912756343414 <--- Not sure!\n",
      "Precision: 0.5837912756343414 <--- Not sure!\n",
      "\n",
      "============================================================\n",
      "Predictions for Apple: KNeighborsClassifier with Count Vectorize\n",
      "Accuracy: 0.5608591885441527\n",
      "Recall: 0.5608591885441527\n",
      "Precision: 0.5608591885441527\n",
      "\n",
      "============================================================\n",
      "Predictions for Google: KNeighborsClassifier with Count Vectorize\n",
      "Accuracy: 0.6500904159132007\n",
      "Recall: 0.6500904159132007\n",
      "Precision: 0.6500904159132007\n",
      "\n"
     ]
    }
   ],
   "source": [
    "# Display cross validation results, make prediction for X_test_app and X_test_goo\n",
    "# diplay results.  Use respective functions.\n",
    "\n",
    "model_name = 'KNeighborsClassifier with Count Vectorize'\n",
    "\n",
    "display_cross_validation_results(cv_knn_model_grid.cv_results_,model_name)\n",
    "\n",
    "y_test_app_hat2 = cv_knn_model_grid.predict(X_test_app)\n",
    "y_test_goo_hat2 = cv_knn_model_grid.predict(X_test_goo)\n",
    "\n",
    "display_prediction_results(y_test_app_hat2, y_test_app,'Apple',model_name)\n",
    "\n",
    "display_prediction_results(y_test_goo_hat2, y_test_goo, 'Google',model_name)\n"
   ]
  },
  {
   "cell_type": "code",
   "execution_count": 45,
   "metadata": {},
   "outputs": [
    {
     "name": "stdout",
     "output_type": "stream",
     "text": [
      "Confusion matrix for: Apple\n",
      "Model: KNeighborsClassifier with Count Vectorize\n",
      "================================================================================\n"
     ]
    },
    {
     "data": {
      "image/png": "[encoded data removed]",
      "text/plain": [
       "<Figure size 432x288 with 2 Axes>"
      ]
     },
     "metadata": {
      "needs_background": "light"
     },
     "output_type": "display_data"
    }
   ],
   "source": [
    "# Diplay confusion matrix for X_test_app\n",
    "\n",
    "display_confusion_matrix(cv_knn_model_grid, X_test_app, y_test_app, 'Apple',model_name)"
   ]
  },
  {
   "cell_type": "code",
   "execution_count": 46,
   "metadata": {},
   "outputs": [
    {
     "name": "stdout",
     "output_type": "stream",
     "text": [
      "Confusion matrix for: Google\n",
      "Model: KNeighborsClassifier with Count Vectorize\n",
      "================================================================================\n"
     ]
    },
    {
     "data": {
      "image/png": "[encoded data removed]",
      "text/plain": [
       "<Figure size 432x288 with 2 Axes>"
      ]
     },
     "metadata": {
      "needs_background": "light"
     },
     "output_type": "display_data"
    }
   ],
   "source": [
    "# Diplay confusion matrix for X_test_goo\n",
    "\n",
    "display_confusion_matrix(cv_knn_model_grid, X_test_goo, y_test_goo, 'Google',model_name)"
   ]
  },
  {
   "cell_type": "code",
   "execution_count": 47,
   "metadata": {},
   "outputs": [
    {
     "name": "stdout",
     "output_type": "stream",
     "text": [
      "Training time: 16.458751678466797\n"
     ]
    },
    {
     "data": {
      "text/plain": [
       "{'countvect__input': 'content',\n",
       " 'knn__leaf_size': 3,\n",
       " 'knn__n_neighbors': 7,\n",
       " 'knn__weights': 'distance'}"
      ]
     },
     "execution_count": 47,
     "metadata": {},
     "output_type": "execute_result"
    }
   ],
   "source": [
    "# Use pipes to TfidfVectorize X_train_combined_processed and then train KNeighborsClassifier\n",
    "\n",
    "start = time.time()\n",
    "\n",
    "tf_knn_pipe = Pipeline([('tfvect',TfidfVectorizer()), \n",
    "                 ('knn', KNeighborsClassifier())])\n",
    "\n",
    "tf_knn_params = {'tfvect__input' : ['content'],\n",
    "                 'knn__n_neighbors' : [5,7,21],  # tried 3,7,21\n",
    "                'knn__weights' : ['distance','uniform'], # tried 'uniform\n",
    "                'knn__leaf_size' : [3,7,15]}  #tried 30,45\n",
    "\n",
    "tf_knn_model_grid = GridSearchCV(estimator = cv_knn_pipe, param_grid = cv_knn_params,\n",
    "                                scoring = {'accuracy' : grid_accuracy, \n",
    "                                           'recall' : grid_recall_micro,\n",
    "                                          'precision' : grid_precision_micro},\n",
    "                                refit = 'accuracy')\n",
    "\n",
    "\n",
    "tf_knn_model_grid.fit(X_train_combined_processed,y_train_combined)\n",
    "end = time.time()\n",
    "print(f'Training time: {end-start}')\n",
    "tf_knn_model_grid.best_params_"
   ]
  },
  {
   "cell_type": "code",
   "execution_count": 48,
   "metadata": {},
   "outputs": [
    {
     "name": "stdout",
     "output_type": "stream",
     "text": [
      "Validation ============================================================\n",
      "Validation results for KNeighborsClassifier with TF-IDF Vectorize:\n",
      "Accuracy: 0.5837912756343414\n",
      "Recall: 0.5837912756343414 <--- Not sure!\n",
      "Precision: 0.5837912756343414 <--- Not sure!\n",
      "\n",
      "============================================================\n",
      "Predictions for Apple: KNeighborsClassifier with TF-IDF Vectorize\n",
      "Accuracy: 0.5608591885441527\n",
      "Recall: 0.5608591885441527\n",
      "Precision: 0.5608591885441527\n",
      "\n",
      "============================================================\n",
      "Predictions for Google: KNeighborsClassifier with TF-IDF Vectorize\n",
      "Accuracy: 0.6500904159132007\n",
      "Recall: 0.6500904159132007\n",
      "Precision: 0.6500904159132007\n",
      "\n"
     ]
    }
   ],
   "source": [
    "# Display cross validation results, make prediction for X_test_app and X_test_goo\n",
    "# diplay results.  Use respective functions.\n",
    "\n",
    "model_name = 'KNeighborsClassifier with TF-IDF Vectorize'\n",
    "\n",
    "display_cross_validation_results(tf_knn_model_grid.cv_results_,model_name)\n",
    "\n",
    "y_test_app_hat3 = tf_knn_model_grid.predict(X_test_app)\n",
    "y_test_goo_hat3 = tf_knn_model_grid.predict(X_test_goo)\n",
    "\n",
    "display_prediction_results(y_test_app_hat3, y_test_app,'Apple',model_name)\n",
    "\n",
    "display_prediction_results(y_test_goo_hat3, y_test_goo, 'Google',model_name)\n"
   ]
  },
  {
   "cell_type": "code",
   "execution_count": 49,
   "metadata": {},
   "outputs": [
    {
     "name": "stdout",
     "output_type": "stream",
     "text": [
      "Confusion matrix for: Apple\n",
      "Model: KNeighborsClassifier with TF-IDF Vectorize\n",
      "================================================================================\n"
     ]
    },
    {
     "data": {
      "image/png": "[encoded data removed]",
      "text/plain": [
       "<Figure size 432x288 with 2 Axes>"
      ]
     },
     "metadata": {
      "needs_background": "light"
     },
     "output_type": "display_data"
    }
   ],
   "source": [
    "# Diplay confusion matrix for X_test_app\n",
    "\n",
    "display_confusion_matrix(tf_knn_model_grid, X_test_app, y_test_app, 'Apple',model_name)"
   ]
  },
  {
   "cell_type": "code",
   "execution_count": 50,
   "metadata": {},
   "outputs": [
    {
     "name": "stdout",
     "output_type": "stream",
     "text": [
      "Confusion matrix for: Google\n",
      "Model: KNeighborsClassifier with TF-IDF Vectorize\n",
      "================================================================================\n"
     ]
    },
    {
     "data": {
      "image/png": "[encoded data removed]",
      "text/plain": [
       "<Figure size 432x288 with 2 Axes>"
      ]
     },
     "metadata": {
      "needs_background": "light"
     },
     "output_type": "display_data"
    }
   ],
   "source": [
    "# Diplay confusion matrix for X_test_app\n",
    "\n",
    "display_confusion_matrix(tf_knn_model_grid, X_test_goo, y_test_goo, 'Google',model_name)"
   ]
  },
  {
   "cell_type": "code",
   "execution_count": null,
   "metadata": {},
   "outputs": [],
   "source": []
  },
  {
   "cell_type": "code",
   "execution_count": null,
   "metadata": {},
   "outputs": [],
   "source": [
    "# RandomForestClassifier\n",
    "# Use pipes to CountVectorize X_train_combined_processed and then train RandomForestClassifier\n",
    "\n",
    "start = time.time()\n",
    "\n",
    "cv_rf_pipe = Pipeline([('countvect',CountVectorizer()), \n",
    "                 ('rf', RandomForestClassifier())])\n",
    "\n",
    "cv_rf_params = {'countvect__input' : ['content'],\n",
    "                'rf__random_state' : [42],\n",
    "                'rf__max_depth' : [57,87,121],  # tried 3,11\n",
    "                'rf__criterion' : ['gini', 'entropy'],  #log_loss gives warning\n",
    "                'rf__max_features' : ['sqrt', 'log2', None]}\n",
    "\n",
    "cv_rf_model_grid = GridSearchCV(estimator = cv_rf_pipe, param_grid = cv_rf_params,\n",
    "                                scoring = {'accuracy' : grid_accuracy, \n",
    "                                           'recall' : grid_recall_micro,\n",
    "                                          'precision' : grid_precision_micro},\n",
    "                                refit = 'accuracy')\n",
    "\n",
    "\n",
    "cv_rf_model_grid.fit(X_train_combined_processed,y_train_combined)\n",
    "end = time.time()\n",
    "print(f'Training time: {end-start}')\n",
    "cv_rf_model_grid.best_params_\n"
   ]
  },
  {
   "cell_type": "code",
   "execution_count": null,
   "metadata": {},
   "outputs": [],
   "source": [
    "# Display cross validation results, make prediction for X_test_app and X_test_goo\n",
    "# diplay results.  Use respective functions.\n",
    "\n",
    "model_name = 'RandomForestClassifier with Count Vectorize'\n",
    "\n",
    "display_cross_validation_results(cv_rf_model_grid.cv_results_,model_name)\n",
    "\n",
    "y_test_app_hat3 = tf_knn_model_grid.predict(X_test_app)\n",
    "y_test_goo_hat3 = tf_knn_model_grid.predict(X_test_goo)\n",
    "\n",
    "display_prediction_results(y_test_app_hat3, y_test_app,'Apple',model_name)\n",
    "\n",
    "display_prediction_results(y_test_goo_hat3, y_test_goo, 'Google',model_name)\n"
   ]
  },
  {
   "cell_type": "code",
   "execution_count": null,
   "metadata": {},
   "outputs": [],
   "source": [
    "# Diplay confusion matrix for X_test_app\n",
    "\n",
    "display_confusion_matrix(cv_rf_model_grid, X_test_app, y_test_app, 'Apple',model_name)"
   ]
  },
  {
   "cell_type": "code",
   "execution_count": null,
   "metadata": {},
   "outputs": [],
   "source": [
    "# Diplay confusion matrix for X_test_app\n",
    "\n",
    "display_confusion_matrix(cv_rf_model_grid, X_test_goo, y_test_goo, 'Google',model_name)"
   ]
  },
  {
   "cell_type": "code",
   "execution_count": null,
   "metadata": {},
   "outputs": [],
   "source": []
  }
 ],
 "metadata": {
  "kernelspec": {
   "display_name": "Python (learn-env)",
   "language": "python",
   "name": "learn-env"
  },
  "language_info": {
   "codemirror_mode": {
    "name": "ipython",
    "version": 3
   },
   "file_extension": ".py",
   "mimetype": "text/x-python",
   "name": "python",
   "nbconvert_exporter": "python",
   "pygments_lexer": "ipython3",
   "version": "3.8.5"
  }
 },
 "nbformat": 4,
 "nbformat_minor": 5
}
