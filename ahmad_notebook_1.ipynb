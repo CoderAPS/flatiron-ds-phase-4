{
 "cells": [
  {
   "cell_type": "code",
   "execution_count": 135,
   "id": "a657128e-bfe9-4b1a-bea0-3c560f03c9ae",
   "metadata": {},
   "outputs": [],
   "source": [
    "import pandas as pd\n",
    "import numpy as np\n",
    "import string\n",
    "import re\n",
    "import time\n",
    "\n",
    "import matplotlib.pyplot as plt\n",
    "\n",
    "\n",
    "import nltk\n",
    "from nltk.tokenize import RegexpTokenizer\n",
    "from nltk.corpus import stopwords, wordnet\n",
    "from nltk import pos_tag\n",
    "from nltk.stem import WordNetLemmatizer\n",
    "\n",
    "from sklearn.model_selection import train_test_split\n",
    "from sklearn.pipeline import Pipeline\n",
    "from sklearn.model_selection import GridSearchCV\n",
    "from sklearn.feature_extraction.text import TfidfVectorizer, CountVectorizer\n",
    "from sklearn.ensemble import RandomForestClassifier\n",
    "from sklearn.naive_bayes import MultinomialNB\n",
    "from sklearn.neighbors import KNeighborsClassifier\n",
    "from sklearn.metrics import accuracy_score, recall_score,precision_score, confusion_matrix\n",
    "from sklearn.metrics import make_scorer\n",
    "from sklearn.metrics import plot_confusion_matrix\n",
    "from imblearn.over_sampling import SMOTE \n",
    "\n"
   ]
  },
  {
   "cell_type": "code",
   "execution_count": 33,
   "id": "25a8d602-d2fd-40c0-96b3-5ac6e15f4fbc",
   "metadata": {},
   "outputs": [],
   "source": [
    "# Read file\n",
    "filename = '../data/judge-1377884607_tweet_product_company.csv'\n",
    "\n",
    "sentiments_df = pd.read_csv(filename, encoding= 'unicode_escape') \n"
   ]
  },
  {
   "cell_type": "code",
   "execution_count": 34,
   "id": "dc74ace4-6854-49cf-a0bf-a96dd60f45ea",
   "metadata": {},
   "outputs": [
    {
     "data": {
      "text/html": [
       "<div>\n",
       "<style scoped>\n",
       "    .dataframe tbody tr th:only-of-type {\n",
       "        vertical-align: middle;\n",
       "    }\n",
       "\n",
       "    .dataframe tbody tr th {\n",
       "        vertical-align: top;\n",
       "    }\n",
       "\n",
       "    .dataframe thead th {\n",
       "        text-align: right;\n",
       "    }\n",
       "</style>\n",
       "<table border=\"1\" class=\"dataframe\">\n",
       "  <thead>\n",
       "    <tr style=\"text-align: right;\">\n",
       "      <th></th>\n",
       "      <th>tweet_text</th>\n",
       "      <th>emotion_in_tweet_is_directed_at</th>\n",
       "      <th>is_there_an_emotion_directed_at_a_brand_or_product</th>\n",
       "    </tr>\n",
       "  </thead>\n",
       "  <tbody>\n",
       "    <tr>\n",
       "      <th>0</th>\n",
       "      <td>.@wesley83 I have a 3G iPhone. After 3 hrs tweeting at #RISE_Austin, it was dead!  I need to upgrade. Plugin stations at #SXSW.</td>\n",
       "      <td>iPhone</td>\n",
       "      <td>Negative emotion</td>\n",
       "    </tr>\n",
       "    <tr>\n",
       "      <th>1</th>\n",
       "      <td>@jessedee Know about @fludapp ? Awesome iPad/iPhone app that you'll likely appreciate for its design. Also, they're giving free Ts at #SXSW</td>\n",
       "      <td>iPad or iPhone App</td>\n",
       "      <td>Positive emotion</td>\n",
       "    </tr>\n",
       "    <tr>\n",
       "      <th>2</th>\n",
       "      <td>@swonderlin Can not wait for #iPad 2 also. They should sale them down at #SXSW.</td>\n",
       "      <td>iPad</td>\n",
       "      <td>Positive emotion</td>\n",
       "    </tr>\n",
       "    <tr>\n",
       "      <th>3</th>\n",
       "      <td>@sxsw I hope this year's festival isn't as crashy as this year's iPhone app. #sxsw</td>\n",
       "      <td>iPad or iPhone App</td>\n",
       "      <td>Negative emotion</td>\n",
       "    </tr>\n",
       "    <tr>\n",
       "      <th>4</th>\n",
       "      <td>@sxtxstate great stuff on Fri #SXSW: Marissa Mayer (Google), Tim O'Reilly (tech books/conferences) &amp;amp; Matt Mullenweg (Wordpress)</td>\n",
       "      <td>Google</td>\n",
       "      <td>Positive emotion</td>\n",
       "    </tr>\n",
       "  </tbody>\n",
       "</table>\n",
       "</div>"
      ],
      "text/plain": [
       "                                                                                                                                    tweet_text  \\\n",
       "0              .@wesley83 I have a 3G iPhone. After 3 hrs tweeting at #RISE_Austin, it was dead!  I need to upgrade. Plugin stations at #SXSW.   \n",
       "1  @jessedee Know about @fludapp ? Awesome iPad/iPhone app that you'll likely appreciate for its design. Also, they're giving free Ts at #SXSW   \n",
       "2                                                              @swonderlin Can not wait for #iPad 2 also. They should sale them down at #SXSW.   \n",
       "3                                                           @sxsw I hope this year's festival isn't as crashy as this year's iPhone app. #sxsw   \n",
       "4          @sxtxstate great stuff on Fri #SXSW: Marissa Mayer (Google), Tim O'Reilly (tech books/conferences) &amp; Matt Mullenweg (Wordpress)   \n",
       "\n",
       "  emotion_in_tweet_is_directed_at  \\\n",
       "0                          iPhone   \n",
       "1              iPad or iPhone App   \n",
       "2                            iPad   \n",
       "3              iPad or iPhone App   \n",
       "4                          Google   \n",
       "\n",
       "  is_there_an_emotion_directed_at_a_brand_or_product  \n",
       "0                                   Negative emotion  \n",
       "1                                   Positive emotion  \n",
       "2                                   Positive emotion  \n",
       "3                                   Negative emotion  \n",
       "4                                   Positive emotion  "
      ]
     },
     "execution_count": 34,
     "metadata": {},
     "output_type": "execute_result"
    }
   ],
   "source": [
    "# Data overview\n",
    "sentiments_df.head()"
   ]
  },
  {
   "cell_type": "code",
   "execution_count": 35,
   "id": "c7026901-1607-4652-8737-12902cc0b448",
   "metadata": {},
   "outputs": [
    {
     "data": {
      "text/plain": [
       "1644                                                     #SXSW RT @mention WOW, Apple does the right thing in Japan, a must read: {link}\n",
       "8000                                                         Great  museum naive presentation Google Art Project . Funny but cool. #sxsw\n",
       "6871                                                                                        RT @mention Watch this @mention #sxsw {link}\n",
       "3980    LaunchRock is launching iPods iPad in the sky for grabs @mention #SXSW! Join me 2 find the location! #launch {link} via @mention\n",
       "7660                                                                              Lots o' free music from #SXSW bands: {link} and {link}\n",
       "2898                         Wonder when Google's #impactdashboard (being demoed now) will become part of Google Analytics #bavcid #SXSW\n",
       "Name: tweet_text, dtype: object"
      ]
     },
     "execution_count": 35,
     "metadata": {},
     "output_type": "execute_result"
    }
   ],
   "source": [
    "# Randomly check tweet text for a couple of rows\n",
    "\n",
    "pd.set_option('display.max_colwidth', None)\n",
    "indexes = np.random.randint(0,len(sentiments_df),6)\n",
    "sentiments_df['tweet_text'].loc[indexes]\n"
   ]
  },
  {
   "cell_type": "code",
   "execution_count": 36,
   "id": "41234323-fa84-49cd-b047-0df85fe7c0c0",
   "metadata": {},
   "outputs": [
    {
     "name": "stdout",
     "output_type": "stream",
     "text": [
      "<class 'pandas.core.frame.DataFrame'>\n",
      "RangeIndex: 9093 entries, 0 to 9092\n",
      "Data columns (total 3 columns):\n",
      " #   Column                                              Non-Null Count  Dtype \n",
      "---  ------                                              --------------  ----- \n",
      " 0   tweet_text                                          9092 non-null   object\n",
      " 1   emotion_in_tweet_is_directed_at                     3291 non-null   object\n",
      " 2   is_there_an_emotion_directed_at_a_brand_or_product  9093 non-null   object\n",
      "dtypes: object(3)\n",
      "memory usage: 213.2+ KB\n"
     ]
    }
   ],
   "source": [
    "# Check number of records, data types and which columns have nan\n",
    "\n",
    "sentiments_df.info()"
   ]
  },
  {
   "cell_type": "code",
   "execution_count": 37,
   "id": "53532e2e-ece8-469a-8a19-60b7afaa56f1",
   "metadata": {},
   "outputs": [
    {
     "data": {
      "text/plain": [
       "iPad                               946\n",
       "Apple                              661\n",
       "iPad or iPhone App                 470\n",
       "Google                             430\n",
       "iPhone                             297\n",
       "Other Google product or service    293\n",
       "Android App                         81\n",
       "Android                             78\n",
       "Other Apple product or service      35\n",
       "Name: emotion_in_tweet_is_directed_at, dtype: int64"
      ]
     },
     "execution_count": 37,
     "metadata": {},
     "output_type": "execute_result"
    }
   ],
   "source": [
    "# Check values for column 'emotion_in_tweet_is_directed_at'\n",
    "\n",
    "sentiments_df['emotion_in_tweet_is_directed_at'].value_counts()"
   ]
  },
  {
   "cell_type": "code",
   "execution_count": 38,
   "id": "7f9643d9-9154-449b-b4d0-904d43bc2e85",
   "metadata": {},
   "outputs": [
    {
     "data": {
      "text/plain": [
       "5802"
      ]
     },
     "execution_count": 38,
     "metadata": {},
     "output_type": "execute_result"
    }
   ],
   "source": [
    "# Confirm number of NaN in column 'emotion_in_tweet_is_directed_at'\n",
    "\n",
    "sentiments_df['emotion_in_tweet_is_directed_at'].isna().sum()"
   ]
  },
  {
   "cell_type": "code",
   "execution_count": 39,
   "id": "62bed5c8-fb42-4f15-9de1-3cfb7a71b1d0",
   "metadata": {},
   "outputs": [
    {
     "data": {
      "text/plain": [
       "No emotion toward brand or product    5389\n",
       "Positive emotion                      2978\n",
       "Negative emotion                       570\n",
       "I can't tell                           156\n",
       "Name: is_there_an_emotion_directed_at_a_brand_or_product, dtype: int64"
      ]
     },
     "execution_count": 39,
     "metadata": {},
     "output_type": "execute_result"
    }
   ],
   "source": [
    "# Check values for column 'is_there_an_emotion_directed_at_a_brand_or_product'\n",
    "\n",
    "sentiments_df['is_there_an_emotion_directed_at_a_brand_or_product'].value_counts()"
   ]
  },
  {
   "cell_type": "code",
   "execution_count": 40,
   "id": "0f4f5187-4c11-4cfc-88c5-af553b6a49dc",
   "metadata": {},
   "outputs": [],
   "source": [
    "\n",
    "def find_company_name_v2(text,emotion_at):\n",
    "    \n",
    "    '''\n",
    "    Go through text ('tweet_text' column) and determine whether it is about apple or google and\n",
    "    return either 'apple' or 'google' according to search.\n",
    "    If cannot tell company id from text, check emotion_at ('emotion_in_tweet_is_directed_at'\n",
    "    column) for comapy id. If cannot find company id return 'cannot tell'.\n",
    "    '''\n",
    "    \n",
    "    revised_emotion_at = str(emotion_at).lower()\n",
    "    \n",
    "    \n",
    "    revised_text = str(text).lower()\n",
    "    \n",
    "    apple = ['apple','iphone','ipad']\n",
    "    google = ['google','android']\n",
    "    \n",
    "    apple_count = 0\n",
    "    google_count = 0\n",
    "    \n",
    "    for a in apple:\n",
    "        apple_count += sum(1 for _ in re.finditer(r'\\b%s\\b' % re.escape(a), revised_text))\n",
    "        \n",
    "    for g in google:\n",
    "        google_count += sum(1 for _ in re.finditer(r'\\b%s\\b' % re.escape(g), revised_text))\n",
    "    \n",
    "\n",
    "    if apple_count > google_count:\n",
    "        return 'apple'\n",
    "    elif google_count > apple_count:\n",
    "        return 'google'\n",
    "    elif revised_emotion_at != 'nan' and revised_emotion_at != 'default':\n",
    "        for idx, item in enumerate(revised_emotion_at.split()):\n",
    "            if item in apple:\n",
    "                return 'apple'\n",
    "            elif item in google:\n",
    "                return 'google'\n",
    "            else:\n",
    "                if idx == len(revised_emotion_at.split()): \n",
    "                    return 'cannot tell'\n",
    "    else:\n",
    "        return 'cannot tell'"
   ]
  },
  {
   "cell_type": "code",
   "execution_count": 41,
   "id": "ff03c881-e1ed-4b13-af15-eb93e0147453",
   "metadata": {},
   "outputs": [
    {
     "data": {
      "text/plain": [
       "apple          5331\n",
       "google         2814\n",
       "cannot tell     948\n",
       "Name: company_name, dtype: int64"
      ]
     },
     "execution_count": 41,
     "metadata": {},
     "output_type": "execute_result"
    }
   ],
   "source": [
    "# Create a new column called 'company_name' and find whether the tweet is about apple,\n",
    "# google or cannot tell using function find_company_name\n",
    " \n",
    "sentiments_df['company_name'] = sentiments_df.apply(\n",
    "    lambda s: find_company_name_v2(s['tweet_text'],s['emotion_in_tweet_is_directed_at']),axis=1) \n",
    "\n",
    "sentiments_df['company_name'].value_counts()\n"
   ]
  },
  {
   "cell_type": "code",
   "execution_count": 42,
   "id": "1d085c8d-212e-411b-b2e6-d095504f0fb9",
   "metadata": {},
   "outputs": [
    {
     "data": {
      "text/plain": [
       "No emotion toward brand or product    911\n",
       "Positive emotion                       23\n",
       "I can't tell                           10\n",
       "Negative emotion                        4\n",
       "Name: is_there_an_emotion_directed_at_a_brand_or_product, dtype: int64"
      ]
     },
     "execution_count": 42,
     "metadata": {},
     "output_type": "execute_result"
    }
   ],
   "source": [
    "# Tweets for which cannot tell whether comment directed to apple or google the\n",
    "# sentiment is mostly neutral (over 95%)\n",
    "\n",
    "cannot_tell = sentiments_df[sentiments_df['company_name'] == 'cannot tell']\n",
    "cannot_tell['is_there_an_emotion_directed_at_a_brand_or_product'].value_counts()"
   ]
  },
  {
   "cell_type": "code",
   "execution_count": 44,
   "id": "053ceddf-b737-421c-a1f1-50ef53850913",
   "metadata": {},
   "outputs": [
    {
     "data": {
      "text/plain": [
       "apple     5236\n",
       "google    2763\n",
       "Name: company_name, dtype: int64"
      ]
     },
     "execution_count": 44,
     "metadata": {},
     "output_type": "execute_result"
    }
   ],
   "source": [
    "# Drop any row where 'tweet_text' is nan\n",
    "sentiments_df.drop(sentiments_df[sentiments_df['tweet_text'].isna()].index,inplace=True)\n",
    "\n",
    "# Drop any row where 'is_there_an_emotion_directed_at_a_brand_or_product' says 'I can't tell'\n",
    "column_name = 'is_there_an_emotion_directed_at_a_brand_or_product'\n",
    "match = 'I can\\'t tell'\n",
    "sentiments_df.drop(sentiments_df[sentiments_df[column_name] == match].index, inplace=True)\n",
    "\n",
    "\n",
    "# Drop any rows where column 'company_name' says 'cannot tell'\n",
    "sentiments_df.drop(sentiments_df[sentiments_df['company_name'] == 'cannot tell'].index,\n",
    "                  inplace=True)\n",
    "\n",
    "sentiments_df['company_name'].value_counts()"
   ]
  },
  {
   "cell_type": "code",
   "execution_count": 45,
   "id": "1c4b9cc1-923e-4b35-98d1-f7621eedeb20",
   "metadata": {},
   "outputs": [],
   "source": [
    "# Create a function that returns 0 for negative sentiment, 1 for neutral sentiment\n",
    "# and 2 for positive sentiment\n",
    "\n",
    "def convert_emotion_tonumber(emotion):\n",
    "    if emotion == 'Negative emotion':\n",
    "        return 0\n",
    "    elif emotion == 'Positive emotion':\n",
    "        return 2\n",
    "    else:\n",
    "        return 1  # for neutral emotion"
   ]
  },
  {
   "cell_type": "code",
   "execution_count": 46,
   "id": "37798231-3e5a-4a42-b571-1a43d4ddeaca",
   "metadata": {},
   "outputs": [
    {
     "data": {
      "text/plain": [
       "1    4478\n",
       "2    2955\n",
       "0     566\n",
       "Name: sentiment, dtype: int64"
      ]
     },
     "execution_count": 46,
     "metadata": {},
     "output_type": "execute_result"
    }
   ],
   "source": [
    "# Create a column called 'sentiment' and pass value from \n",
    "# 'is_there_an_emotion_directed_at_a_brand_or_product' to function convert_emotion_tonumber.\n",
    "\n",
    "sentiments_df['sentiment'] = sentiments_df[\n",
    "    'is_there_an_emotion_directed_at_a_brand_or_product'].map(\n",
    "    lambda s: convert_emotion_tonumber(s))\n",
    "\n",
    "sentiments_df['sentiment'].value_counts()"
   ]
  },
  {
   "cell_type": "code",
   "execution_count": 47,
   "id": "62c848ec-9961-4588-a184-21172b2d28ea",
   "metadata": {},
   "outputs": [
    {
     "name": "stdout",
     "output_type": "stream",
     "text": [
      "<class 'pandas.core.frame.DataFrame'>\n",
      "Int64Index: 7999 entries, 0 to 9092\n",
      "Data columns (total 5 columns):\n",
      " #   Column                                              Non-Null Count  Dtype \n",
      "---  ------                                              --------------  ----- \n",
      " 0   tweet_text                                          7999 non-null   object\n",
      " 1   emotion_in_tweet_is_directed_at                     3282 non-null   object\n",
      " 2   is_there_an_emotion_directed_at_a_brand_or_product  7999 non-null   object\n",
      " 3   company_name                                        7999 non-null   object\n",
      " 4   sentiment                                           7999 non-null   int64 \n",
      "dtypes: int64(1), object(4)\n",
      "memory usage: 695.0+ KB\n"
     ]
    }
   ],
   "source": [
    "sentiments_df.info()"
   ]
  },
  {
   "cell_type": "code",
   "execution_count": 48,
   "id": "e12cc8cb-5d71-4e06-b45e-d0c014bd2f25",
   "metadata": {},
   "outputs": [],
   "source": [
    "# Create an intermediate dataframe that only contains columns 'tweet_text','company_name'\n",
    "# sentiment\n",
    "\n",
    "sentiments2_df = sentiments_df[['tweet_text','company_name','sentiment']].copy()\n"
   ]
  },
  {
   "cell_type": "code",
   "execution_count": 49,
   "id": "37612d5d-857b-427e-9599-dd319587ad7d",
   "metadata": {},
   "outputs": [
    {
     "name": "stdout",
     "output_type": "stream",
     "text": [
      "<class 'pandas.core.frame.DataFrame'>\n",
      "Int64Index: 7999 entries, 0 to 9092\n",
      "Data columns (total 3 columns):\n",
      " #   Column        Non-Null Count  Dtype \n",
      "---  ------        --------------  ----- \n",
      " 0   tweet_text    7999 non-null   object\n",
      " 1   company_name  7999 non-null   object\n",
      " 2   sentiment     7999 non-null   int64 \n",
      "dtypes: int64(1), object(2)\n",
      "memory usage: 570.0+ KB\n"
     ]
    }
   ],
   "source": [
    "sentiments2_df.info()"
   ]
  },
  {
   "cell_type": "code",
   "execution_count": 50,
   "id": "b6814a7d-2f9c-42ee-bb71-edfd9b54ba37",
   "metadata": {},
   "outputs": [],
   "source": [
    "# Split sentiments2_df into two data frames where apple_df contains all tweets about apple\n",
    "# google_df contains all tweets about google\n",
    "\n",
    "apple_df = sentiments2_df[sentiments2_df['company_name'] == 'apple'].copy()\n",
    "google_df = sentiments2_df[sentiments2_df['company_name'] == 'google'].copy()\n"
   ]
  },
  {
   "cell_type": "code",
   "execution_count": null,
   "id": "2b0f9639-a76a-40af-a14d-e0fc2d86673d",
   "metadata": {},
   "outputs": [],
   "source": []
  },
  {
   "cell_type": "code",
   "execution_count": 51,
   "id": "06ba6655-c8c7-4803-87fd-6a5870a2778e",
   "metadata": {},
   "outputs": [],
   "source": [
    "# Split apple_df and google_df into train and test samples using train_test_split\n",
    "\n",
    "X_train_app, X_test_app, y_train_app, y_test_app = train_test_split(apple_df['tweet_text'],\n",
    "                                                apple_df['sentiment'],test_size = 0.4, \n",
    "                                                stratify = apple_df['sentiment'],\n",
    "                                                random_state = 6781)\n",
    "\n",
    "X_train_goo, X_test_goo, y_train_goo, y_test_goo = train_test_split(google_df['tweet_text'],\n",
    "                                                google_df['sentiment'],test_size = 0.4, \n",
    "                                                stratify = google_df['sentiment'],\n",
    "                                                random_state = 6782)\n"
   ]
  },
  {
   "cell_type": "code",
   "execution_count": 52,
   "id": "98ced66f-17c6-4d82-bfe3-5fc7a74e809d",
   "metadata": {},
   "outputs": [
    {
     "data": {
      "text/plain": [
       "4798"
      ]
     },
     "execution_count": 52,
     "metadata": {},
     "output_type": "execute_result"
    }
   ],
   "source": [
    "a = len(X_train_app)\n",
    "g = len(X_train_goo)\n",
    "a+g"
   ]
  },
  {
   "cell_type": "code",
   "execution_count": 53,
   "id": "30d050cc-3880-45d7-b87e-b9f4382307ab",
   "metadata": {},
   "outputs": [],
   "source": [
    "def get_wordnet_pos(tag):\n",
    "    '''\n",
    "    Translate nltk POS to wordnet tags\n",
    "    '''\n",
    "    \n",
    "    if tag.startswith('J'):\n",
    "        return wordnet.ADJ\n",
    "    elif tag.startswith('V'):\n",
    "        return wordnet.VERB\n",
    "    elif tag.startswith('N'):\n",
    "        return wordnet.NOUN\n",
    "    elif tag.startswith('R'):\n",
    "        return wordnet.ADV\n",
    "    else:\n",
    "        return wordnet.NOUN"
   ]
  },
  {
   "cell_type": "code",
   "execution_count": 54,
   "id": "8d93936a-bc1b-42c9-9e89-5e7e07478e93",
   "metadata": {},
   "outputs": [],
   "source": [
    "def nlp_doc_preparer(doc):\n",
    "    '''\n",
    "     - Customize nltk stop_words to include all punction marks\n",
    "     - Split text into words containing letters\n",
    "     - Make all letters lower case\n",
    "     - Use pos_tag to mark up the words for a particular part of a speech\n",
    "     - Use get_wordnet_pos to convert pos_tag to wordnet_pos\n",
    "     - Convert word to root word with WordNetLemmatizer\n",
    "     - Return processed document as a string of words\n",
    "    '''\n",
    "    \n",
    "    custom_sw = stopwords.words('english')\n",
    "    custom_sw.extend(list(string.punctuation))\n",
    "\n",
    "    \n",
    "    regex_token = RegexpTokenizer(r\"([a-zA-Z]+(?:’[a-z]+)?)\")\n",
    "    doc = regex_token.tokenize(doc)\n",
    "    \n",
    "    doc = [word.lower() for word in doc]\n",
    "    doc = [word for word in doc if word not in custom_sw]\n",
    "    \n",
    "    doc = pos_tag(doc)\n",
    "    doc = [(word[0], get_wordnet_pos(word[1])) for word in doc]\n",
    "    \n",
    "    lemmatizer = WordNetLemmatizer() \n",
    "    doc = [lemmatizer.lemmatize(word[0], word[1]) for word in doc]\n",
    "    \n",
    "    return ' '.join(doc)\n"
   ]
  },
  {
   "cell_type": "code",
   "execution_count": 55,
   "id": "e11c515f-14e5-4535-963b-9bf8aa3f39dc",
   "metadata": {},
   "outputs": [],
   "source": [
    "# Combined X_train_app and X_train_goo into single series \n",
    "# and y_train_app and y_train_goo \n",
    "\n",
    "X_train_combined = pd.concat([X_train_app,X_train_goo])\n",
    "y_train_combined = pd.concat([y_train_app,y_train_goo])\n",
    "\n"
   ]
  },
  {
   "cell_type": "code",
   "execution_count": 56,
   "id": "1db10995-1cc0-4474-9734-a9ae3b21035e",
   "metadata": {},
   "outputs": [
    {
     "data": {
      "text/plain": [
       "True"
      ]
     },
     "execution_count": 56,
     "metadata": {},
     "output_type": "execute_result"
    }
   ],
   "source": [
    "len(X_train_combined) == len(y_train_combined)"
   ]
  },
  {
   "cell_type": "code",
   "execution_count": 57,
   "id": "de1db8f9-9250-4e7a-bd4b-7740695e8d02",
   "metadata": {},
   "outputs": [
    {
     "data": {
      "text/plain": [
       "4798"
      ]
     },
     "execution_count": 57,
     "metadata": {},
     "output_type": "execute_result"
    }
   ],
   "source": [
    "sum(X_train_combined.index == y_train_combined.index)"
   ]
  },
  {
   "cell_type": "code",
   "execution_count": 58,
   "id": "47aed5b9-10e9-46bf-a463-b61a0bb5c578",
   "metadata": {},
   "outputs": [
    {
     "data": {
      "text/plain": [
       "['uh oh rt mention leave white iphone cab austin sxsw internet please help',\n",
       " 'fit mention birthday sxsw apple release new product today happy birthday',\n",
       " 'ipad sxsw mention apple pop store link',\n",
       " 'pick ipad sxsw pop apple store minute wait']"
      ]
     },
     "execution_count": 58,
     "metadata": {},
     "output_type": "execute_result"
    }
   ],
   "source": [
    "# Process tweets with nlp_doc_preparer function\n",
    "\n",
    "X_train_combined_processed = [nlp_doc_preparer(tweet) for tweet in X_train_combined]\n",
    "\n",
    "X_train_combined_processed[:4]"
   ]
  },
  {
   "cell_type": "code",
   "execution_count": 107,
   "id": "c0c80af7-1679-443e-ac04-59a068e02079",
   "metadata": {},
   "outputs": [],
   "source": [
    "\n",
    "\n",
    "def display_cross_validation_results(cross_val,model_name):\n",
    "    '''\n",
    "    Incoporate cross validation results into a pandas dataframe and display validation scores\n",
    "    '''\n",
    "    \n",
    "    cross_val_results = pd.DataFrame(cross_val)\n",
    "    \n",
    "    accuracy = cross_val_results['mean_test_accuracy'][0]\n",
    "    recall = cross_val_results['mean_test_recall'][0]\n",
    "    precision = cross_val_results['mean_test_precision'][0]\n",
    "    \n",
    "    print('Validation','='*60)\n",
    "    print(f'Validation results for {model_name}:')\n",
    "    print(f'Accuracy: {accuracy}')\n",
    "    print(f'Recall: {recall} <--- Not sure!')\n",
    "    print(f'Precision: {precision} <--- Not sure!\\n')"
   ]
  },
  {
   "cell_type": "code",
   "execution_count": 110,
   "id": "4268c408-3b55-46d2-8c29-fb388c01175e",
   "metadata": {},
   "outputs": [],
   "source": [
    "\n",
    "def display_prediction_results(prediction, actuall, company_name, model_name):\n",
    "    '''\n",
    "    Get predictions for X_test samples and display scores\n",
    "    '''\n",
    "    \n",
    "    accuracy = accuracy_score(prediction, actuall)\n",
    "    recall = recall_score(prediction, actuall, average = 'micro')\n",
    "    precision = precision_score(prediction, actuall, average = 'micro')\n",
    "\n",
    "    print('='*60)\n",
    "    print(f'Predictions for {company_name}: {model_name}')\n",
    "    print(f'Accuracy: {accuracy}')\n",
    "    print(f'Recall: {recall}')\n",
    "    print(f'Precision: {precision}\\n')\n"
   ]
  },
  {
   "cell_type": "code",
   "execution_count": 113,
   "id": "3fdef66d-3c0a-4b6b-b9cc-500b08da1e82",
   "metadata": {},
   "outputs": [],
   "source": [
    "def display_confusion_matrix(model, X, y,company_name, model_name):\n",
    "    print(f'Confusion matrix for: {company_name}')\n",
    "    print(f'Model: {model_name}')\n",
    "    plot_confusion_matrix(model,X,y)\n",
    "    print('='*80)"
   ]
  },
  {
   "cell_type": "code",
   "execution_count": 121,
   "id": "387a0db1-95d4-41ee-a301-b03025e54226",
   "metadata": {},
   "outputs": [
    {
     "name": "stdout",
     "output_type": "stream",
     "text": [
      "Training time: 0.47979021072387695\n"
     ]
    }
   ],
   "source": [
    "# Use pipes to countVectorize X_train_combined_processed and then train MultinomialNB\n",
    "\n",
    "start = time.time()\n",
    "\n",
    "cv_mnb_pipe = Pipeline([('countvect',CountVectorizer()), \n",
    "                 ('mnb', MultinomialNB())])\n",
    "\n",
    "grid_accuracy = make_scorer(accuracy_score)\n",
    "grid_recall_micro = make_scorer(recall_score, average = 'micro')\n",
    "grid_precision_micro = make_scorer(precision_score, average = 'micro')\n",
    "\n",
    "cv_mnb_params = {'countvect__input' : ['content'],'mnb__alpha' : [1.0]}\n",
    "\n",
    "cv_mnb_model_grid = GridSearchCV(estimator = cv_mnb_pipe, param_grid = cv_mnb_params,\n",
    "                                scoring = {'accuracy' : grid_accuracy, \n",
    "                                           'recall' : grid_recall_micro,\n",
    "                                          'precision' : grid_precision_micro},\n",
    "                                refit = 'accuracy')\n",
    "\n",
    "cv_mnb_model_grid.fit(X_train_combined_processed,y_train_combined)\n",
    "end = time.time()\n",
    "print(f'Training time: {end-start}')"
   ]
  },
  {
   "cell_type": "code",
   "execution_count": 126,
   "id": "1a5c6a8b-1808-4752-b8e6-8c3965fab986",
   "metadata": {},
   "outputs": [
    {
     "name": "stdout",
     "output_type": "stream",
     "text": [
      "Validation ============================================================\n",
      "Validation results for MultinomialNB with Count Vectorize:\n",
      "Accuracy: 0.6181801790059089\n",
      "Recall: 0.6181801790059089 <--- Not sure!\n",
      "Precision: 0.6181801790059089 <--- Not sure!\n",
      "\n",
      "============================================================\n",
      "Predictions for Apple: MultinomialNB with Count Vectorize\n",
      "Accuracy: 0.605727923627685\n",
      "Recall: 0.605727923627685\n",
      "Precision: 0.605727923627685\n",
      "\n",
      "============================================================\n",
      "Predictions for Google: MultinomialNB with Count Vectorize\n",
      "Accuracy: 0.689873417721519\n",
      "Recall: 0.689873417721519\n",
      "Precision: 0.689873417721519\n",
      "\n"
     ]
    }
   ],
   "source": [
    "# Display recoss validation results, make prediction for X_test_app and X_test_goo\n",
    "# diplay results.  Use respective functions.\n",
    "\n",
    "model_name = 'MultinomialNB with Count Vectorize'\n",
    "\n",
    "display_cross_validation_results(cv_mnb_model_grid.cv_results_,model_name)\n",
    "\n",
    "y_test_app_hat = cv_mnb_model_grid.predict(X_test_app)\n",
    "y_test_goo_hat = cv_mnb_model_grid.predict(X_test_goo)\n",
    "\n",
    "display_prediction_results(y_test_app_hat, y_test_app,'Apple',model_name)\n",
    "\n",
    "display_prediction_results(y_test_goo_hat, y_test_goo, 'Google',model_name)\n"
   ]
  },
  {
   "cell_type": "code",
   "execution_count": 118,
   "id": "4795cd21-fec6-4305-81dc-4f4c4ebe3b73",
   "metadata": {},
   "outputs": [
    {
     "name": "stdout",
     "output_type": "stream",
     "text": [
      "Confusion matrix for: Apple\n",
      "Model: MultinomialNB with CountVectorize\n",
      "================================================================================\n"
     ]
    },
    {
     "data": {
      "image/png": "[encoded data removed]",
      "text/plain": [
       "<Figure size 432x288 with 2 Axes>"
      ]
     },
     "metadata": {
      "needs_background": "light"
     },
     "output_type": "display_data"
    }
   ],
   "source": [
    "# Diplay confusion matrix for X_test_app\n",
    "\n",
    "display_confusion_matrix(cv_mnb_model_grid, X_test_app, y_test_app, 'Apple',model_name)\n"
   ]
  },
  {
   "cell_type": "code",
   "execution_count": 119,
   "id": "3f0fb3bd-0780-4c7a-ab54-5dfa8c157a66",
   "metadata": {},
   "outputs": [
    {
     "name": "stdout",
     "output_type": "stream",
     "text": [
      "Confusion matrix for: Google\n",
      "Model: MultinomialNB with CountVectorize\n",
      "================================================================================\n"
     ]
    },
    {
     "data": {
      "image/png": "[encoded data removed]",
      "text/plain": [
       "<Figure size 432x288 with 2 Axes>"
      ]
     },
     "metadata": {
      "needs_background": "light"
     },
     "output_type": "display_data"
    }
   ],
   "source": [
    "# Diplay confusion matrix for X_test_goo\n",
    "\n",
    "display_confusion_matrix(cv_mnb_model_grid,X_test_goo,y_test_goo, 'Google',model_name)\n"
   ]
  },
  {
   "cell_type": "code",
   "execution_count": 122,
   "id": "519f8b94-166e-4d8c-85e4-6c1b37a4322c",
   "metadata": {},
   "outputs": [
    {
     "name": "stdout",
     "output_type": "stream",
     "text": [
      "Training time: 0.4973878860473633\n"
     ]
    }
   ],
   "source": [
    "# Use pipes to TfidfVectorize X_train_combined_processed and then train MultinomialNB()\n",
    "\n",
    "start = time.time()\n",
    "\n",
    "tf_mnb_pipe = Pipeline([('tfvect',TfidfVectorizer()), \n",
    "                 ('mnb', MultinomialNB())])\n",
    "\n",
    "tf_mnb_params = {'tfvect__input' : ['content'],'mnb__alpha' : [1.0]}\n",
    "\n",
    "tf_mnb_model_grid = GridSearchCV(estimator = tf_mnb_pipe, param_grid = tf_mnb_params,\n",
    "                                scoring = {'accuracy' : grid_accuracy, \n",
    "                                           'recall' : grid_recall_micro,\n",
    "                                          'precision' : grid_precision_micro},\n",
    "                                refit = 'accuracy')\n",
    "\n",
    "\n",
    "tf_mnb_model_grid.fit(X_train_combined_processed,y_train_combined)\n",
    "end = time.time()\n",
    "print(f'Training time: {end-start}')"
   ]
  },
  {
   "cell_type": "code",
   "execution_count": 123,
   "id": "fa2b4556-55f4-42f9-9859-e07672a514a7",
   "metadata": {},
   "outputs": [
    {
     "name": "stdout",
     "output_type": "stream",
     "text": [
      "Validation ============================================================\n",
      "Validation results for MultinomialNB with TF-IDF Vectorize:\n",
      "Accuracy: 0.621502650330205\n",
      "Recall: 0.621502650330205 <--- Not sure!\n",
      "Precision: 0.621502650330205 <--- Not sure!\n",
      "\n",
      "============================================================\n",
      "Predictions for Apple: MultinomialNB with TF-IDF Vectorize\n",
      "Accuracy: 0.5937947494033413\n",
      "Recall: 0.5937947494033413\n",
      "Precision: 0.5937947494033413\n",
      "\n",
      "============================================================\n",
      "Predictions for Google: MultinomialNB with TF-IDF Vectorize\n",
      "Accuracy: 0.6998191681735986\n",
      "Recall: 0.6998191681735986\n",
      "Precision: 0.6998191681735986\n",
      "\n"
     ]
    }
   ],
   "source": [
    "# Display cross validation results, make prediction for X_test_app and X_test_goo\n",
    "# diplay results.  Use respective functions.\n",
    "\n",
    "model_name = 'MultinomialNB with TF-IDF Vectorize'\n",
    "\n",
    "display_cross_validation_results(tf_mnb_model_grid.cv_results_,model_name)\n",
    "\n",
    "y_test_app_hat = tf_mnb_model_grid.predict(X_test_app)\n",
    "y_test_goo_hat = tf_mnb_model_grid.predict(X_test_goo)\n",
    "\n",
    "display_prediction_results(y_test_app_hat, y_test_app,'Apple',model_name)\n",
    "\n",
    "display_prediction_results(y_test_goo_hat, y_test_goo, 'Google',model_name)\n"
   ]
  },
  {
   "cell_type": "code",
   "execution_count": 124,
   "id": "451fb5cd-7487-4167-8e6e-88deb096a695",
   "metadata": {},
   "outputs": [
    {
     "name": "stdout",
     "output_type": "stream",
     "text": [
      "Confusion matrix for: Apple\n",
      "Model: MultinomialNB with TF-IDF Vectorize\n",
      "================================================================================\n"
     ]
    },
    {
     "data": {
      "image/png": "[encoded data removed]",
      "text/plain": [
       "<Figure size 432x288 with 2 Axes>"
      ]
     },
     "metadata": {
      "needs_background": "light"
     },
     "output_type": "display_data"
    }
   ],
   "source": [
    "# Diplay confusion matrix for X_test_app\n",
    "\n",
    "display_confusion_matrix(tf_mnb_model_grid, X_test_app, y_test_app, 'Apple',model_name)\n"
   ]
  },
  {
   "cell_type": "code",
   "execution_count": 125,
   "id": "6e4568c6-a6b9-44e7-a98d-5170874ee7d6",
   "metadata": {},
   "outputs": [
    {
     "name": "stdout",
     "output_type": "stream",
     "text": [
      "Confusion matrix for: Google\n",
      "Model: MultinomialNB with TF-IDF Vectorize\n",
      "================================================================================\n"
     ]
    },
    {
     "data": {
      "image/png": "[encoded data removed]",
      "text/plain": [
       "<Figure size 432x288 with 2 Axes>"
      ]
     },
     "metadata": {
      "needs_background": "light"
     },
     "output_type": "display_data"
    }
   ],
   "source": [
    "# Diplay confusion matrix for X_test_goo\n",
    "\n",
    "display_confusion_matrix(tf_mnb_model_grid,X_test_goo,y_test_goo, 'Google',model_name)\n"
   ]
  },
  {
   "cell_type": "code",
   "execution_count": null,
   "id": "7e86c92b-0c68-4f8e-bd9f-48c9362b581e",
   "metadata": {},
   "outputs": [],
   "source": [
    "\n"
   ]
  },
  {
   "cell_type": "code",
   "execution_count": null,
   "id": "38875556-7061-4aec-993e-acb21480f6dd",
   "metadata": {},
   "outputs": [],
   "source": []
  },
  {
   "cell_type": "code",
   "execution_count": 151,
   "id": "950e6fcd-8c50-4adc-a67c-aa67a74c62c7",
   "metadata": {},
   "outputs": [
    {
     "name": "stdout",
     "output_type": "stream",
     "text": [
      "Training time: 21.109069108963013\n"
     ]
    },
    {
     "data": {
      "text/plain": [
       "{'countvect__input': 'content',\n",
       " 'knn__leaf_size': 3,\n",
       " 'knn__n_neighbors': 7,\n",
       " 'knn__weights': 'distance'}"
      ]
     },
     "execution_count": 151,
     "metadata": {},
     "output_type": "execute_result"
    }
   ],
   "source": [
    "# Use pipes to CountVectorize X_train_combined_processed and then train KNeighborsClassifier\n",
    "\n",
    "start = time.time()\n",
    "\n",
    "cv_knn_pipe = Pipeline([('countvect',CountVectorizer()), \n",
    "                 ('knn', KNeighborsClassifier())])\n",
    "\n",
    "cv_knn_params = {'countvect__input' : ['content'],\n",
    "                 'knn__n_neighbors' : [5,7,21],  # tried 3,7,21\n",
    "                'knn__weights' : ['distance','uniform'], # tried 'uniform\n",
    "                'knn__leaf_size' : [3,7,15]}  #tried 30,45\n",
    "\n",
    "cv_knn_model_grid = GridSearchCV(estimator = cv_knn_pipe, param_grid = cv_knn_params,\n",
    "                                scoring = {'accuracy' : grid_accuracy, \n",
    "                                           'recall' : grid_recall_micro,\n",
    "                                          'precision' : grid_precision_micro},\n",
    "                                refit = 'accuracy')\n",
    "\n",
    "\n",
    "cv_knn_model_grid.fit(X_train_combined_processed,y_train_combined)\n",
    "end = time.time()\n",
    "print(f'Training time: {end-start}')\n",
    "cv_knn_model_grid.best_params_"
   ]
  },
  {
   "cell_type": "code",
   "execution_count": 154,
   "id": "e102e8aa-8f42-452f-9f6b-f58bce6a924f",
   "metadata": {},
   "outputs": [
    {
     "name": "stdout",
     "output_type": "stream",
     "text": [
      "Validation ============================================================\n",
      "Validation results for KNeighborsClassifier with Count Vectorize:\n",
      "Accuracy: 0.5837912756343414\n",
      "Recall: 0.5837912756343414 <--- Not sure!\n",
      "Precision: 0.5837912756343414 <--- Not sure!\n",
      "\n",
      "============================================================\n",
      "Predictions for Apple: KNeighborsClassifier with Count Vectorize\n",
      "Accuracy: 0.5608591885441527\n",
      "Recall: 0.5608591885441527\n",
      "Precision: 0.5608591885441527\n",
      "\n",
      "============================================================\n",
      "Predictions for Google: KNeighborsClassifier with Count Vectorize\n",
      "Accuracy: 0.6500904159132007\n",
      "Recall: 0.6500904159132007\n",
      "Precision: 0.6500904159132007\n",
      "\n"
     ]
    }
   ],
   "source": [
    "# Display cross validation results, make prediction for X_test_app and X_test_goo\n",
    "# diplay results.  Use respective functions.\n",
    "\n",
    "model_name = 'KNeighborsClassifier with Count Vectorize'\n",
    "\n",
    "display_cross_validation_results(cv_knn_model_grid.cv_results_,model_name)\n",
    "\n",
    "y_test_app_hat2 = cv_knn_model_grid.predict(X_test_app)\n",
    "y_test_goo_hat2 = cv_knn_model_grid.predict(X_test_goo)\n",
    "\n",
    "display_prediction_results(y_test_app_hat2, y_test_app,'Apple',model_name)\n",
    "\n",
    "display_prediction_results(y_test_goo_hat2, y_test_goo, 'Google',model_name)\n"
   ]
  },
  {
   "cell_type": "code",
   "execution_count": 155,
   "id": "6a94049e-20bf-41f9-b95d-4be453a4ba36",
   "metadata": {},
   "outputs": [
    {
     "name": "stdout",
     "output_type": "stream",
     "text": [
      "Confusion matrix for: Apple\n",
      "Model: KNeighborsClassifier with Count Vectorize\n",
      "================================================================================\n"
     ]
    },
    {
     "data": {
      "image/png": "[encoded data removed]",
      "text/plain": [
       "<Figure size 432x288 with 2 Axes>"
      ]
     },
     "metadata": {
      "needs_background": "light"
     },
     "output_type": "display_data"
    }
   ],
   "source": [
    "# Diplay confusion matrix for X_test_app\n",
    "\n",
    "display_confusion_matrix(cv_knn_model_grid, X_test_app, y_test_app, 'Apple',model_name)"
   ]
  },
  {
   "cell_type": "code",
   "execution_count": 156,
   "id": "a37b8865-e815-498d-8d08-579994b18846",
   "metadata": {},
   "outputs": [
    {
     "name": "stdout",
     "output_type": "stream",
     "text": [
      "Confusion matrix for: Google\n",
      "Model: KNeighborsClassifier with Count Vectorize\n",
      "================================================================================\n"
     ]
    },
    {
     "data": {
      "image/png": "[encoded data removed]",
      "text/plain": [
       "<Figure size 432x288 with 2 Axes>"
      ]
     },
     "metadata": {
      "needs_background": "light"
     },
     "output_type": "display_data"
    }
   ],
   "source": [
    "# Diplay confusion matrix for X_test_goo\n",
    "\n",
    "display_confusion_matrix(cv_knn_model_grid, X_test_goo, y_test_goo, 'Google',model_name)"
   ]
  },
  {
   "cell_type": "code",
   "execution_count": 157,
   "id": "5fa9f232-87de-4140-9aea-c51eb62c4b09",
   "metadata": {},
   "outputs": [
    {
     "name": "stdout",
     "output_type": "stream",
     "text": [
      "Training time: 21.155033111572266\n"
     ]
    },
    {
     "data": {
      "text/plain": [
       "{'countvect__input': 'content',\n",
       " 'knn__leaf_size': 3,\n",
       " 'knn__n_neighbors': 7,\n",
       " 'knn__weights': 'distance'}"
      ]
     },
     "execution_count": 157,
     "metadata": {},
     "output_type": "execute_result"
    }
   ],
   "source": [
    "# Use pipes to TfidfVectorize X_train_combined_processed and then train KNeighborsClassifier\n",
    "\n",
    "start = time.time()\n",
    "\n",
    "tf_knn_pipe = Pipeline([('tfvect',TfidfVectorizer()), \n",
    "                 ('knn', KNeighborsClassifier())])\n",
    "\n",
    "tf_knn_params = {'tfvect__input' : ['content'],\n",
    "                 'knn__n_neighbors' : [5,7,21],  # tried 3,7,21\n",
    "                'knn__weights' : ['distance','uniform'], # tried 'uniform\n",
    "                'knn__leaf_size' : [3,7,15]}  #tried 30,45\n",
    "\n",
    "tf_knn_model_grid = GridSearchCV(estimator = cv_knn_pipe, param_grid = cv_knn_params,\n",
    "                                scoring = {'accuracy' : grid_accuracy, \n",
    "                                           'recall' : grid_recall_micro,\n",
    "                                          'precision' : grid_precision_micro},\n",
    "                                refit = 'accuracy')\n",
    "\n",
    "\n",
    "tf_knn_model_grid.fit(X_train_combined_processed,y_train_combined)\n",
    "end = time.time()\n",
    "print(f'Training time: {end-start}')\n",
    "tf_knn_model_grid.best_params_"
   ]
  },
  {
   "cell_type": "code",
   "execution_count": 158,
   "id": "ae3e2549-d58e-440c-9109-49f223036ed0",
   "metadata": {},
   "outputs": [
    {
     "name": "stdout",
     "output_type": "stream",
     "text": [
      "Validation ============================================================\n",
      "Validation results for KNeighborsClassifier with TF-IDF Vectorize:\n",
      "Accuracy: 0.5837912756343414\n",
      "Recall: 0.5837912756343414 <--- Not sure!\n",
      "Precision: 0.5837912756343414 <--- Not sure!\n",
      "\n",
      "============================================================\n",
      "Predictions for Apple: KNeighborsClassifier with TF-IDF Vectorize\n",
      "Accuracy: 0.5608591885441527\n",
      "Recall: 0.5608591885441527\n",
      "Precision: 0.5608591885441527\n",
      "\n",
      "============================================================\n",
      "Predictions for Google: KNeighborsClassifier with TF-IDF Vectorize\n",
      "Accuracy: 0.6500904159132007\n",
      "Recall: 0.6500904159132007\n",
      "Precision: 0.6500904159132007\n",
      "\n"
     ]
    }
   ],
   "source": [
    "# Display cross validation results, make prediction for X_test_app and X_test_goo\n",
    "# diplay results.  Use respective functions.\n",
    "\n",
    "model_name = 'KNeighborsClassifier with TF-IDF Vectorize'\n",
    "\n",
    "display_cross_validation_results(tf_knn_model_grid.cv_results_,model_name)\n",
    "\n",
    "y_test_app_hat3 = tf_knn_model_grid.predict(X_test_app)\n",
    "y_test_goo_hat3 = tf_knn_model_grid.predict(X_test_goo)\n",
    "\n",
    "display_prediction_results(y_test_app_hat3, y_test_app,'Apple',model_name)\n",
    "\n",
    "display_prediction_results(y_test_goo_hat3, y_test_goo, 'Google',model_name)\n"
   ]
  },
  {
   "cell_type": "code",
   "execution_count": 159,
   "id": "8cc83011-98f6-4a7f-a7fb-2e78d7db1e23",
   "metadata": {},
   "outputs": [
    {
     "name": "stdout",
     "output_type": "stream",
     "text": [
      "Confusion matrix for: Apple\n",
      "Model: KNeighborsClassifier with TF-IDF Vectorize\n",
      "================================================================================\n"
     ]
    },
    {
     "data": {
      "image/png": "[encoded data removed]",
      "text/plain": [
       "<Figure size 432x288 with 2 Axes>"
      ]
     },
     "metadata": {
      "needs_background": "light"
     },
     "output_type": "display_data"
    }
   ],
   "source": [
    "# Diplay confusion matrix for X_test_app\n",
    "\n",
    "display_confusion_matrix(tf_knn_model_grid, X_test_app, y_test_app, 'Apple',model_name)"
   ]
  },
  {
   "cell_type": "code",
   "execution_count": 160,
   "id": "9f771eb3-d4c9-4a3e-8147-2786fbd0eeb4",
   "metadata": {},
   "outputs": [
    {
     "name": "stdout",
     "output_type": "stream",
     "text": [
      "Confusion matrix for: Google\n",
      "Model: KNeighborsClassifier with TF-IDF Vectorize\n",
      "================================================================================\n"
     ]
    },
    {
     "data": {
      "image/png": "[encoded data removed]",
      "text/plain": [
       "<Figure size 432x288 with 2 Axes>"
      ]
     },
     "metadata": {
      "needs_background": "light"
     },
     "output_type": "display_data"
    }
   ],
   "source": [
    "# Diplay confusion matrix for X_test_app\n",
    "\n",
    "display_confusion_matrix(tf_knn_model_grid, X_test_goo, y_test_goo, 'Google',model_name)"
   ]
  },
  {
   "cell_type": "code",
   "execution_count": null,
   "id": "1ac71bee-d05b-4468-9969-a1fe7ea15ca5",
   "metadata": {},
   "outputs": [],
   "source": []
  },
  {
   "cell_type": "code",
   "execution_count": 168,
   "id": "01261a2b-6be1-49f1-9cdc-71163023893a",
   "metadata": {},
   "outputs": [
    {
     "name": "stdout",
     "output_type": "stream",
     "text": [
      "Training time: 694.1920709609985\n"
     ]
    },
    {
     "data": {
      "text/plain": [
       "{'countvect__input': 'content',\n",
       " 'rf__criterion': 'gini',\n",
       " 'rf__max_depth': 87,\n",
       " 'rf__max_features': None,\n",
       " 'rf__random_state': 42}"
      ]
     },
     "execution_count": 168,
     "metadata": {},
     "output_type": "execute_result"
    }
   ],
   "source": [
    "# RandomForestClassifier\n",
    "# Use pipes to CountVectorize X_train_combined_processed and then train RandomForestClassifier\n",
    "\n",
    "start = time.time()\n",
    "\n",
    "cv_rf_pipe = Pipeline([('countvect',CountVectorizer()), \n",
    "                 ('rf', RandomForestClassifier())])\n",
    "\n",
    "cv_rf_params = {'countvect__input' : ['content'],\n",
    "                'rf__random_state' : [42],\n",
    "                'rf__max_depth' : [57,87,121],  # tried 3,11\n",
    "                'rf__criterion' : ['gini', 'entropy'],  #log_loss gives warning\n",
    "                'rf__max_features' : ['sqrt', 'log2', None]}\n",
    "\n",
    "cv_rf_model_grid = GridSearchCV(estimator = cv_rf_pipe, param_grid = cv_rf_params,\n",
    "                                scoring = {'accuracy' : grid_accuracy, \n",
    "                                           'recall' : grid_recall_micro,\n",
    "                                          'precision' : grid_precision_micro},\n",
    "                                refit = 'accuracy')\n",
    "\n",
    "\n",
    "cv_rf_model_grid.fit(X_train_combined_processed,y_train_combined)\n",
    "end = time.time()\n",
    "print(f'Training time: {end-start}')\n",
    "cv_rf_model_grid.best_params_\n"
   ]
  },
  {
   "cell_type": "code",
   "execution_count": 170,
   "id": "0eb2e42a-31fc-4c52-b5fb-e78f6ea41ac2",
   "metadata": {},
   "outputs": [
    {
     "name": "stdout",
     "output_type": "stream",
     "text": [
      "Validation ============================================================\n",
      "Validation results for RandomForestClassifier with Count Vectorize:\n",
      "Accuracy: 0.6377600364963503\n",
      "Recall: 0.6377600364963503 <--- Not sure!\n",
      "Precision: 0.6377600364963503 <--- Not sure!\n",
      "\n",
      "============================================================\n",
      "Predictions for Apple: RandomForestClassifier with Count Vectorize\n",
      "Accuracy: 0.5608591885441527\n",
      "Recall: 0.5608591885441527\n",
      "Precision: 0.5608591885441527\n",
      "\n",
      "============================================================\n",
      "Predictions for Google: RandomForestClassifier with Count Vectorize\n",
      "Accuracy: 0.6500904159132007\n",
      "Recall: 0.6500904159132007\n",
      "Precision: 0.6500904159132007\n",
      "\n"
     ]
    }
   ],
   "source": [
    "# Display cross validation results, make prediction for X_test_app and X_test_goo\n",
    "# diplay results.  Use respective functions.\n",
    "\n",
    "model_name = 'RandomForestClassifier with Count Vectorize'\n",
    "\n",
    "display_cross_validation_results(cv_rf_model_grid.cv_results_,model_name)\n",
    "\n",
    "y_test_app_hat3 = tf_knn_model_grid.predict(X_test_app)\n",
    "y_test_goo_hat3 = tf_knn_model_grid.predict(X_test_goo)\n",
    "\n",
    "display_prediction_results(y_test_app_hat3, y_test_app,'Apple',model_name)\n",
    "\n",
    "display_prediction_results(y_test_goo_hat3, y_test_goo, 'Google',model_name)\n"
   ]
  },
  {
   "cell_type": "code",
   "execution_count": 172,
   "id": "70eb6a5f-40e8-4bb5-8d93-1172c81cb546",
   "metadata": {},
   "outputs": [
    {
     "name": "stdout",
     "output_type": "stream",
     "text": [
      "Confusion matrix for: Apple\n",
      "Model: RandomForestClassifier with Count Vectorize\n",
      "================================================================================\n"
     ]
    },
    {
     "data": {
      "image/png": "[encoded data removed]",
      "text/plain": [
       "<Figure size 432x288 with 2 Axes>"
      ]
     },
     "metadata": {
      "needs_background": "light"
     },
     "output_type": "display_data"
    }
   ],
   "source": [
    "# Diplay confusion matrix for X_test_app\n",
    "\n",
    "display_confusion_matrix(cv_rf_model_grid, X_test_app, y_test_app, 'Apple',model_name)"
   ]
  },
  {
   "cell_type": "code",
   "execution_count": 173,
   "id": "609973d0-6a72-4c22-9655-32056b6d8b32",
   "metadata": {},
   "outputs": [
    {
     "name": "stdout",
     "output_type": "stream",
     "text": [
      "Confusion matrix for: Google\n",
      "Model: RandomForestClassifier with Count Vectorize\n",
      "================================================================================\n"
     ]
    },
    {
     "data": {
      "image/png": "[encoded data removed]",
      "text/plain": [
       "<Figure size 432x288 with 2 Axes>"
      ]
     },
     "metadata": {
      "needs_background": "light"
     },
     "output_type": "display_data"
    }
   ],
   "source": [
    "# Diplay confusion matrix for X_test_app\n",
    "\n",
    "display_confusion_matrix(cv_rf_model_grid, X_test_goo, y_test_goo, 'Google',model_name)"
   ]
  },
  {
   "cell_type": "code",
   "execution_count": null,
   "id": "18e2d15b-d69a-4355-8517-852e30c00fe6",
   "metadata": {},
   "outputs": [],
   "source": []
  }
 ],
 "metadata": {
  "kernelspec": {
   "display_name": "Python (learn-env)",
   "language": "python",
   "name": "learn-env"
  },
  "language_info": {
   "codemirror_mode": {
    "name": "ipython",
    "version": 3
   },
   "file_extension": ".py",
   "mimetype": "text/x-python",
   "name": "python",
   "nbconvert_exporter": "python",
   "pygments_lexer": "ipython3",
   "version": "3.8.5"
  }
 },
 "nbformat": 4,
 "nbformat_minor": 5
}
