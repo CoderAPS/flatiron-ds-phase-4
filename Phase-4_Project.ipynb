{
 "cells": [
  {
   "cell_type": "markdown",
   "id": "635273c7-5411-4f4d-927b-c8f6f4a7905b",
   "metadata": {},
   "source": [
    "### Phase 4 Project\n",
    "This project was a collaboration between<br>\n",
    "* Benito Ywani\n",
    "* Patrick Arnold\n",
    "* Ahmad Samiee"
   ]
  },
  {
   "cell_type": "markdown",
   "id": "640fb4d3-cbbd-48c8-b085-b3e34e291908",
   "metadata": {},
   "source": [
    "# Project Overview\n",
    "In this project we measured text content sentiment in Twitter for two technology firms.  Using natural langguage processing (NLP) methods, we generated models to make predictiions for ternary (negative, neutral and positive) classification output."
   ]
  },
  {
   "cell_type": "markdown",
   "id": "bde48563-5e93-4a45-a68d-5a8d1ac1c8f7",
   "metadata": {},
   "source": [
    "# Technical Summary\n",
    "Our best model for Twitter sentiment prediction was Support Vector Classification which gave an overal accuracy of about 67%. The model under-predicted for all three classifications relative to actual for both firms.  It missed predicting correctly negative sentiment the most followed by positive and then neutral.  This may be because the dataset contained the fewest negative sentiment tweets. There were a moderate number of positive tweets and the most were neutral tweets. However, our model was able to correctly predict the overall trend for classification ratios where tweets with neutral sentiment had the highest ratio followed by positive and then negative. In addition, our model was able to correctly predict which of the two firms had a higher positive sentiment (this was also the case for neutral and negative sentiments)."
   ]
  },
  {
   "cell_type": "markdown",
   "id": "a49c5b75-e57e-476a-937f-649c93a94832",
   "metadata": {},
   "source": [
    "# Business Problem\n",
    "Our stakeholder an equity investment firm is considering to purchase equity in a technology compnay and they have narrowed down their selection between two compnaies.  As an additional analysis tool they like to take look at (potential customer) sentiment toward these two final selections. Therefore, they want a machine learning model that can predict sentiment in social media paltform like Twitter and also want to know how acurrately it can predict sentiment.  "
   ]
  },
  {
   "cell_type": "markdown",
   "id": "11c9b4cf-ba7a-4517-88ed-da6dbee8543d",
   "metadata": {},
   "source": [
    "## Master Dataset\n",
    "The data comes from CrowdFlower via [data.world](https://data.world/crowdflower/brands-and-product-emotions) which are tweets from Twitter collected during 2011 at South by Southwest Conference. It consists of about 9000 tweets and the tweets are labelled as negative, neutral or positive. "
   ]
  },
  {
   "cell_type": "markdown",
   "id": "ae3ab863-ea72-4602-a652-d61d55701496",
   "metadata": {},
   "source": [
    "## EDA and Feature Engineering\n",
    "Created a column to identify whether the tweet was about Apple, Google or neither. Duplicated tweets, tweets for which there is no sentiment label and tweets that were neither about Apple or Google were dropped. Created another column to convert text sentiment into a numerical where 0 is for negative, 1 for neutral and 2 for positive sentiment. The cleaned data was then split into apple and google dataframes. These were then split into train (60% of data) and test (40%) dataframes where the three classification ratios for sentiment were split proportionally.  The trained datasets for apple and google were combined into a single dataframe to be used for model training. The tweet text was then processed for natural language processing(NLP) as described in nlp_doc_preparer function."
   ]
  },
  {
   "cell_type": "code",
   "execution_count": 1,
   "id": "a657128e-bfe9-4b1a-bea0-3c560f03c9ae",
   "metadata": {},
   "outputs": [],
   "source": [
    "# Load all the libraries\n",
    "\n",
    "import pandas as pd\n",
    "import numpy as np\n",
    "import string\n",
    "import re\n",
    "import time\n",
    "\n",
    "import matplotlib.pyplot as plt\n",
    "import seaborn as sns\n",
    "\n",
    "import nltk\n",
    "from nltk.tokenize import RegexpTokenizer\n",
    "from nltk.corpus import stopwords, wordnet\n",
    "from nltk import pos_tag\n",
    "from nltk.stem import WordNetLemmatizer\n",
    "from nltk.probability import FreqDist\n",
    "\n",
    "from sklearn.model_selection import train_test_split\n",
    "from sklearn.pipeline import Pipeline\n",
    "from sklearn.model_selection import GridSearchCV\n",
    "from sklearn.feature_extraction.text import TfidfVectorizer, CountVectorizer\n",
    "from sklearn.ensemble import RandomForestClassifier\n",
    "from sklearn.naive_bayes import MultinomialNB\n",
    "from sklearn.neighbors import KNeighborsClassifier\n",
    "from sklearn.linear_model import LogisticRegression\n",
    "from sklearn.svm import SVC\n",
    "from sklearn.metrics import accuracy_score, recall_score,precision_score, confusion_matrix\n",
    "from sklearn.metrics import make_scorer\n",
    "from sklearn.metrics import plot_confusion_matrix\n",
    "from sklearn.dummy import DummyClassifier\n",
    "from imblearn.over_sampling import SMOTE \n",
    "\n",
    "from nltk import word_tokenize\n",
    "from keras.preprocessing.sequence import pad_sequences\n",
    "from keras.layers import Input, Dense, LSTM, Embedding\n",
    "from keras.layers import Dropout, Activation, Bidirectional, GlobalMaxPool1D\n",
    "from keras.models import Sequential\n",
    "from keras import initializers, regularizers, constraints, optimizers, layers\n",
    "from keras.preprocessing import text, sequence\n",
    "from keras import metrics\n",
    "\n",
    "%matplotlib inline\n"
   ]
  },
  {
   "cell_type": "code",
   "execution_count": 2,
   "id": "25a8d602-d2fd-40c0-96b3-5ac6e15f4fbc",
   "metadata": {},
   "outputs": [],
   "source": [
    "# Read file\n",
    "filename = 'data/judge-1377884607_tweet_product_company.csv'\n",
    "\n",
    "sentiments_df = pd.read_csv(filename, encoding= 'unicode_escape') \n"
   ]
  },
  {
   "cell_type": "code",
   "execution_count": 3,
   "id": "dc74ace4-6854-49cf-a0bf-a96dd60f45ea",
   "metadata": {},
   "outputs": [
    {
     "data": {
      "text/html": [
       "<div>\n",
       "<style scoped>\n",
       "    .dataframe tbody tr th:only-of-type {\n",
       "        vertical-align: middle;\n",
       "    }\n",
       "\n",
       "    .dataframe tbody tr th {\n",
       "        vertical-align: top;\n",
       "    }\n",
       "\n",
       "    .dataframe thead th {\n",
       "        text-align: right;\n",
       "    }\n",
       "</style>\n",
       "<table border=\"1\" class=\"dataframe\">\n",
       "  <thead>\n",
       "    <tr style=\"text-align: right;\">\n",
       "      <th></th>\n",
       "      <th>tweet_text</th>\n",
       "      <th>emotion_in_tweet_is_directed_at</th>\n",
       "      <th>is_there_an_emotion_directed_at_a_brand_or_product</th>\n",
       "    </tr>\n",
       "  </thead>\n",
       "  <tbody>\n",
       "    <tr>\n",
       "      <th>0</th>\n",
       "      <td>.@wesley83 I have a 3G iPhone. After 3 hrs twe...</td>\n",
       "      <td>iPhone</td>\n",
       "      <td>Negative emotion</td>\n",
       "    </tr>\n",
       "    <tr>\n",
       "      <th>1</th>\n",
       "      <td>@jessedee Know about @fludapp ? Awesome iPad/i...</td>\n",
       "      <td>iPad or iPhone App</td>\n",
       "      <td>Positive emotion</td>\n",
       "    </tr>\n",
       "    <tr>\n",
       "      <th>2</th>\n",
       "      <td>@swonderlin Can not wait for #iPad 2 also. The...</td>\n",
       "      <td>iPad</td>\n",
       "      <td>Positive emotion</td>\n",
       "    </tr>\n",
       "    <tr>\n",
       "      <th>3</th>\n",
       "      <td>@sxsw I hope this year's festival isn't as cra...</td>\n",
       "      <td>iPad or iPhone App</td>\n",
       "      <td>Negative emotion</td>\n",
       "    </tr>\n",
       "    <tr>\n",
       "      <th>4</th>\n",
       "      <td>@sxtxstate great stuff on Fri #SXSW: Marissa M...</td>\n",
       "      <td>Google</td>\n",
       "      <td>Positive emotion</td>\n",
       "    </tr>\n",
       "  </tbody>\n",
       "</table>\n",
       "</div>"
      ],
      "text/plain": [
       "                                          tweet_text  \\\n",
       "0  .@wesley83 I have a 3G iPhone. After 3 hrs twe...   \n",
       "1  @jessedee Know about @fludapp ? Awesome iPad/i...   \n",
       "2  @swonderlin Can not wait for #iPad 2 also. The...   \n",
       "3  @sxsw I hope this year's festival isn't as cra...   \n",
       "4  @sxtxstate great stuff on Fri #SXSW: Marissa M...   \n",
       "\n",
       "  emotion_in_tweet_is_directed_at  \\\n",
       "0                          iPhone   \n",
       "1              iPad or iPhone App   \n",
       "2                            iPad   \n",
       "3              iPad or iPhone App   \n",
       "4                          Google   \n",
       "\n",
       "  is_there_an_emotion_directed_at_a_brand_or_product  \n",
       "0                                   Negative emotion  \n",
       "1                                   Positive emotion  \n",
       "2                                   Positive emotion  \n",
       "3                                   Negative emotion  \n",
       "4                                   Positive emotion  "
      ]
     },
     "execution_count": 3,
     "metadata": {},
     "output_type": "execute_result"
    }
   ],
   "source": [
    "# Data overview\n",
    "sentiments_df.head()"
   ]
  },
  {
   "cell_type": "code",
   "execution_count": 6,
   "id": "c7026901-1607-4652-8737-12902cc0b448",
   "metadata": {},
   "outputs": [
    {
     "data": {
      "text/plain": [
       "2998    It is never more apparent than at #sxsw how nice it would be if apple made stuff w/ removable batteries. #alwayshavingtoplugin #gsdm\n",
       "77                                                                                                           I worship @mention {link} #SXSW\n",
       "1885                                                                                           Win an iPad at SXSW via @mention #sxsw {link}\n",
       "2182                                                                     Austinjs autocorrects to Sisyphus on the iPhone. Just sayin'. #sxsw\n",
       "8237            #sxsw Just got a Samsung Focus (windows 7) phone at the android dev meetup. We're excited to try it out and build something.\n",
       "1770                                                         #SXSW 2011: Novelty of iPad news apps fades fast among digital delegates {link}\n",
       "Name: tweet_text, dtype: object"
      ]
     },
     "execution_count": 6,
     "metadata": {},
     "output_type": "execute_result"
    }
   ],
   "source": [
    "# Randomly check tweet text for a couple of rows\n",
    "\n",
    "pd.set_option('display.max_colwidth', None)\n",
    "indexes = np.random.randint(0,len(sentiments_df),6)\n",
    "sentiments_df['tweet_text'].loc[indexes]\n"
   ]
  },
  {
   "cell_type": "code",
   "execution_count": 7,
   "id": "41234323-fa84-49cd-b047-0df85fe7c0c0",
   "metadata": {},
   "outputs": [
    {
     "name": "stdout",
     "output_type": "stream",
     "text": [
      "<class 'pandas.core.frame.DataFrame'>\n",
      "RangeIndex: 9093 entries, 0 to 9092\n",
      "Data columns (total 3 columns):\n",
      " #   Column                                              Non-Null Count  Dtype \n",
      "---  ------                                              --------------  ----- \n",
      " 0   tweet_text                                          9092 non-null   object\n",
      " 1   emotion_in_tweet_is_directed_at                     3291 non-null   object\n",
      " 2   is_there_an_emotion_directed_at_a_brand_or_product  9093 non-null   object\n",
      "dtypes: object(3)\n",
      "memory usage: 213.2+ KB\n"
     ]
    }
   ],
   "source": [
    "# Check number of records, data types and which columns have nan\n",
    "\n",
    "sentiments_df.info()"
   ]
  },
  {
   "cell_type": "code",
   "execution_count": 8,
   "id": "53532e2e-ece8-469a-8a19-60b7afaa56f1",
   "metadata": {},
   "outputs": [
    {
     "data": {
      "text/plain": [
       "iPad                               946\n",
       "Apple                              661\n",
       "iPad or iPhone App                 470\n",
       "Google                             430\n",
       "iPhone                             297\n",
       "Other Google product or service    293\n",
       "Android App                         81\n",
       "Android                             78\n",
       "Other Apple product or service      35\n",
       "Name: emotion_in_tweet_is_directed_at, dtype: int64"
      ]
     },
     "execution_count": 8,
     "metadata": {},
     "output_type": "execute_result"
    }
   ],
   "source": [
    "# Check values for column 'emotion_in_tweet_is_directed_at'\n",
    "\n",
    "sentiments_df['emotion_in_tweet_is_directed_at'].value_counts()"
   ]
  },
  {
   "cell_type": "code",
   "execution_count": 9,
   "id": "7f9643d9-9154-449b-b4d0-904d43bc2e85",
   "metadata": {},
   "outputs": [
    {
     "data": {
      "text/plain": [
       "5802"
      ]
     },
     "execution_count": 9,
     "metadata": {},
     "output_type": "execute_result"
    }
   ],
   "source": [
    "# Confirm number of NaN in column 'emotion_in_tweet_is_directed_at'\n",
    "\n",
    "sentiments_df['emotion_in_tweet_is_directed_at'].isna().sum()"
   ]
  },
  {
   "cell_type": "code",
   "execution_count": 10,
   "id": "62bed5c8-fb42-4f15-9de1-3cfb7a71b1d0",
   "metadata": {},
   "outputs": [
    {
     "data": {
      "text/plain": [
       "No emotion toward brand or product    5389\n",
       "Positive emotion                      2978\n",
       "Negative emotion                       570\n",
       "I can't tell                           156\n",
       "Name: is_there_an_emotion_directed_at_a_brand_or_product, dtype: int64"
      ]
     },
     "execution_count": 10,
     "metadata": {},
     "output_type": "execute_result"
    }
   ],
   "source": [
    "# Check values for column 'is_there_an_emotion_directed_at_a_brand_or_product'\n",
    "\n",
    "sentiments_df['is_there_an_emotion_directed_at_a_brand_or_product'].value_counts()"
   ]
  },
  {
   "cell_type": "code",
   "execution_count": 11,
   "id": "0f4f5187-4c11-4cfc-88c5-af553b6a49dc",
   "metadata": {},
   "outputs": [],
   "source": [
    "\n",
    "def find_company_name(text,emotion_at):\n",
    "    \n",
    "    '''\n",
    "    Go through text ('tweet_text' column) and determine whether it is about apple or google and\n",
    "    return either 'apple' or 'google' according to search.\n",
    "    If cannot tell company id from text, check emotion_at ('emotion_in_tweet_is_directed_at'\n",
    "    column) for comapy id. If cannot find company id return 'cannot tell'.\n",
    "    '''\n",
    "    \n",
    "    revised_emotion_at = str(emotion_at).lower()\n",
    "    \n",
    "    \n",
    "    revised_text = str(text).lower()\n",
    "    \n",
    "    apple = ['apple','iphone','ipad']\n",
    "    google = ['google','android']\n",
    "    \n",
    "    apple_count = 0\n",
    "    google_count = 0\n",
    "    \n",
    "    for a in apple:\n",
    "        apple_count += sum(1 for _ in re.finditer(r'\\b%s\\b' % re.escape(a), revised_text))\n",
    "        \n",
    "    for g in google:\n",
    "        google_count += sum(1 for _ in re.finditer(r'\\b%s\\b' % re.escape(g), revised_text))\n",
    "    \n",
    "\n",
    "    if apple_count > google_count:\n",
    "        return 'apple'\n",
    "    elif google_count > apple_count:\n",
    "        return 'google'\n",
    "    elif revised_emotion_at != 'nan' and revised_emotion_at != 'default':\n",
    "        for idx, item in enumerate(revised_emotion_at.split()):\n",
    "            if item in apple:\n",
    "                return 'apple'\n",
    "            elif item in google:\n",
    "                return 'google'\n",
    "            else:\n",
    "                if idx == len(revised_emotion_at.split()): \n",
    "                    return 'cannot tell'\n",
    "    else:\n",
    "        return 'cannot tell'"
   ]
  },
  {
   "cell_type": "code",
   "execution_count": 12,
   "id": "ff03c881-e1ed-4b13-af15-eb93e0147453",
   "metadata": {},
   "outputs": [
    {
     "data": {
      "text/plain": [
       "apple          5331\n",
       "google         2814\n",
       "cannot tell     948\n",
       "Name: company_name, dtype: int64"
      ]
     },
     "execution_count": 12,
     "metadata": {},
     "output_type": "execute_result"
    }
   ],
   "source": [
    "# Create a new column called 'company_name' and find whether the tweet is about apple,\n",
    "# google or cannot tell using function find_company_name\n",
    " \n",
    "sentiments_df['company_name'] = sentiments_df.apply(\n",
    "    lambda s: find_company_name(s['tweet_text'],s['emotion_in_tweet_is_directed_at']),axis=1) \n",
    "\n",
    "sentiments_df['company_name'].value_counts()\n"
   ]
  },
  {
   "cell_type": "code",
   "execution_count": 13,
   "id": "1d085c8d-212e-411b-b2e6-d095504f0fb9",
   "metadata": {},
   "outputs": [
    {
     "data": {
      "text/plain": [
       "No emotion toward brand or product    911\n",
       "Positive emotion                       23\n",
       "I can't tell                           10\n",
       "Negative emotion                        4\n",
       "Name: is_there_an_emotion_directed_at_a_brand_or_product, dtype: int64"
      ]
     },
     "execution_count": 13,
     "metadata": {},
     "output_type": "execute_result"
    }
   ],
   "source": [
    "# Tweets for which cannot tell whether comment directed to apple or google the\n",
    "# sentiment is mostly neutral (over 95%)\n",
    "\n",
    "cannot_tell = sentiments_df[sentiments_df['company_name'] == 'cannot tell']\n",
    "cannot_tell['is_there_an_emotion_directed_at_a_brand_or_product'].value_counts()"
   ]
  },
  {
   "cell_type": "code",
   "execution_count": 14,
   "id": "053ceddf-b737-421c-a1f1-50ef53850913",
   "metadata": {},
   "outputs": [
    {
     "data": {
      "text/plain": [
       "apple     5231\n",
       "google    2748\n",
       "Name: company_name, dtype: int64"
      ]
     },
     "execution_count": 14,
     "metadata": {},
     "output_type": "execute_result"
    }
   ],
   "source": [
    "# Drop any row where 'tweet_text' is nan\n",
    "sentiments_df.drop(sentiments_df[sentiments_df['tweet_text'].isna()].index,inplace=True)\n",
    "\n",
    "# Drop any row where 'is_there_an_emotion_directed_at_a_brand_or_product' says 'I can't tell'\n",
    "column_name = 'is_there_an_emotion_directed_at_a_brand_or_product'\n",
    "match = 'I can\\'t tell'\n",
    "sentiments_df.drop(sentiments_df[sentiments_df[column_name] == match].index, inplace=True)\n",
    "\n",
    "\n",
    "# Drop any rows where column 'company_name' says 'cannot tell'\n",
    "sentiments_df.drop(sentiments_df[sentiments_df['company_name'] == 'cannot tell'].index,\n",
    "                  inplace=True)\n",
    "\n",
    "# Drop any duplicated rows\n",
    "sentiments_df.drop(sentiments_df[sentiments_df.duplicated()].index,inplace=True)\n",
    "\n",
    "sentiments_df['company_name'].value_counts()"
   ]
  },
  {
   "cell_type": "code",
   "execution_count": 15,
   "id": "1c4b9cc1-923e-4b35-98d1-f7621eedeb20",
   "metadata": {},
   "outputs": [],
   "source": [
    "# Create a function that returns 0 for negative sentiment, 1 for neutral sentiment\n",
    "# and 2 for positive sentiment\n",
    "\n",
    "def convert_emotion_tonumber(emotion):\n",
    "    if emotion == 'Negative emotion':\n",
    "        return 0\n",
    "    elif emotion == 'Positive emotion':\n",
    "        return 2\n",
    "    else:\n",
    "        return 1  # for neutral emotion"
   ]
  },
  {
   "cell_type": "code",
   "execution_count": 16,
   "id": "37798231-3e5a-4a42-b571-1a43d4ddeaca",
   "metadata": {},
   "outputs": [
    {
     "data": {
      "text/plain": [
       "1    0.559845\n",
       "2    0.369345\n",
       "0    0.070811\n",
       "Name: sentiment, dtype: float64"
      ]
     },
     "execution_count": 16,
     "metadata": {},
     "output_type": "execute_result"
    }
   ],
   "source": [
    "# Create a column called 'sentiment' and pass value from \n",
    "# 'is_there_an_emotion_directed_at_a_brand_or_product' to function convert_emotion_tonumber.\n",
    "\n",
    "sentiments_df['sentiment'] = sentiments_df[\n",
    "    'is_there_an_emotion_directed_at_a_brand_or_product'].map(\n",
    "    lambda s: convert_emotion_tonumber(s))\n",
    "\n",
    "sentiments_df['sentiment'].value_counts(normalize=True)"
   ]
  },
  {
   "cell_type": "code",
   "execution_count": 17,
   "id": "62c848ec-9961-4588-a184-21172b2d28ea",
   "metadata": {},
   "outputs": [
    {
     "name": "stdout",
     "output_type": "stream",
     "text": [
      "<class 'pandas.core.frame.DataFrame'>\n",
      "Int64Index: 7979 entries, 0 to 9092\n",
      "Data columns (total 5 columns):\n",
      " #   Column                                              Non-Null Count  Dtype \n",
      "---  ------                                              --------------  ----- \n",
      " 0   tweet_text                                          7979 non-null   object\n",
      " 1   emotion_in_tweet_is_directed_at                     3273 non-null   object\n",
      " 2   is_there_an_emotion_directed_at_a_brand_or_product  7979 non-null   object\n",
      " 3   company_name                                        7979 non-null   object\n",
      " 4   sentiment                                           7979 non-null   int64 \n",
      "dtypes: int64(1), object(4)\n",
      "memory usage: 374.0+ KB\n"
     ]
    }
   ],
   "source": [
    "sentiments_df.info()"
   ]
  },
  {
   "cell_type": "code",
   "execution_count": 18,
   "id": "e12cc8cb-5d71-4e06-b45e-d0c014bd2f25",
   "metadata": {},
   "outputs": [],
   "source": [
    "# Create an intermediate dataframe that only contains columns 'tweet_text','company_name'\n",
    "# sentiment\n",
    "\n",
    "sentiments2_df = sentiments_df[['tweet_text','company_name','sentiment']].copy()\n"
   ]
  },
  {
   "cell_type": "code",
   "execution_count": 19,
   "id": "37612d5d-857b-427e-9599-dd319587ad7d",
   "metadata": {},
   "outputs": [
    {
     "name": "stdout",
     "output_type": "stream",
     "text": [
      "<class 'pandas.core.frame.DataFrame'>\n",
      "Int64Index: 7979 entries, 0 to 9092\n",
      "Data columns (total 3 columns):\n",
      " #   Column        Non-Null Count  Dtype \n",
      "---  ------        --------------  ----- \n",
      " 0   tweet_text    7979 non-null   object\n",
      " 1   company_name  7979 non-null   object\n",
      " 2   sentiment     7979 non-null   int64 \n",
      "dtypes: int64(1), object(2)\n",
      "memory usage: 249.3+ KB\n"
     ]
    }
   ],
   "source": [
    "sentiments2_df.info()"
   ]
  },
  {
   "cell_type": "code",
   "execution_count": 20,
   "id": "8af1ce84-6634-42c2-81a2-0bda917cef41",
   "metadata": {},
   "outputs": [
    {
     "name": "stdout",
     "output_type": "stream",
     "text": [
      "Total number of unique words in tweet_words: 12131\n"
     ]
    }
   ],
   "source": [
    "# Determine approximate total number of unique words in sentiments['tweet_text']\n",
    "\n",
    "tweet_words = sentiments_df['tweet_text'].map(word_tokenize).values\n",
    "total_vocabulary = set(word for tweet in tweet_words for word in tweet)\n",
    "print (f'Total number of unique words in tweet_words: {len(total_vocabulary)}')\n"
   ]
  },
  {
   "cell_type": "code",
   "execution_count": 21,
   "id": "b6814a7d-2f9c-42ee-bb71-edfd9b54ba37",
   "metadata": {},
   "outputs": [],
   "source": [
    "# Split sentiments2_df into two data frames where apple_df contains all tweets about apple\n",
    "# google_df contains all tweets about google\n",
    "\n",
    "apple_df = sentiments2_df[sentiments2_df['company_name'] == 'apple'].copy()\n",
    "google_df = sentiments2_df[sentiments2_df['company_name'] == 'google'].copy()\n"
   ]
  },
  {
   "cell_type": "code",
   "execution_count": 22,
   "id": "5f5bf2b2-459e-4617-a647-14d399fd58c1",
   "metadata": {},
   "outputs": [
    {
     "data": {
      "text/plain": [
       "1    0.516536\n",
       "2    0.404512\n",
       "0    0.078952\n",
       "Name: sentiment, dtype: float64"
      ]
     },
     "execution_count": 22,
     "metadata": {},
     "output_type": "execute_result"
    }
   ],
   "source": [
    "apple_df['sentiment'].value_counts(normalize=True)"
   ]
  },
  {
   "cell_type": "code",
   "execution_count": 23,
   "id": "9dd64dea-92a3-465d-877d-fbf493dc62b4",
   "metadata": {},
   "outputs": [
    {
     "data": {
      "image/png": "[encoded data removed]",
      "text/plain": [
       "<Figure size 432x288 with 1 Axes>"
      ]
     },
     "metadata": {},
     "output_type": "display_data"
    }
   ],
   "source": [
    "def func(pct, allvals):\n",
    "    absolute = int(np.round(pct/100.*np.sum(allvals)))\n",
    "    return \"{:.0f}%\\n\".format(pct, absolute)\n",
    "\n",
    "a_size = list(apple_df['sentiment'].value_counts())\n",
    "a_labels = ['neutral','positive','negative']\n",
    "fig,axs = plt.subplots()\n",
    "axs.pie(a_size,labels=a_labels,autopct=lambda pct: func(pct,a_size),colors=['grey','green','red']);\n",
    "axs.set_title('2011 SWSX Twitter Sentiment for Apple');\n",
    "fig.savefig('apple_sentiment')"
   ]
  },
  {
   "cell_type": "code",
   "execution_count": 24,
   "id": "8dc99a44-aa3b-495a-8db5-5c1b0d7671ad",
   "metadata": {},
   "outputs": [
    {
     "data": {
      "image/png": "[encoded data removed]",
      "text/plain": [
       "<Figure size 432x288 with 1 Axes>"
      ]
     },
     "metadata": {},
     "output_type": "display_data"
    }
   ],
   "source": [
    "g_size = list(google_df['sentiment'].value_counts())\n",
    "g_labels = ['neutral','positive','negative']\n",
    "fig,axs = plt.subplots()\n",
    "axs.pie(g_size,labels=g_labels,autopct=lambda pct: func(pct,g_size),colors=['grey','green','red']);\n",
    "axs.set_title('2011 SWSX Twitter Sentiment for Google');\n",
    "fig.savefig('google_sentiment');"
   ]
  },
  {
   "cell_type": "code",
   "execution_count": 25,
   "id": "30d050cc-3880-45d7-b87e-b9f4382307ab",
   "metadata": {},
   "outputs": [],
   "source": [
    "def get_wordnet_pos(tag):\n",
    "    '''\n",
    "    Translate nltk POS to wordnet tags\n",
    "    '''\n",
    "    \n",
    "    if tag.startswith('J'):\n",
    "        return wordnet.ADJ\n",
    "    elif tag.startswith('V'):\n",
    "        return wordnet.VERB\n",
    "    elif tag.startswith('N'):\n",
    "        return wordnet.NOUN\n",
    "    elif tag.startswith('R'):\n",
    "        return wordnet.ADV\n",
    "    else:\n",
    "        return wordnet.NOUN"
   ]
  },
  {
   "cell_type": "code",
   "execution_count": 26,
   "id": "8d93936a-bc1b-42c9-9e89-5e7e07478e93",
   "metadata": {},
   "outputs": [],
   "source": [
    "def nlp_doc_preparer(doc,array='no'):\n",
    "    '''\n",
    "     - Customize nltk stop_words to include all punction marks, numbers and acronym 'sxsw'\n",
    "     - Split text into words containing letters\n",
    "     - Make all letters lower case\n",
    "     - Use pos_tag to mark up the words for a particular part of a speech\n",
    "     - Use get_wordnet_pos to convert pos_tag to wordnet_pos\n",
    "     - Convert word to root word with WordNetLemmatizer\n",
    "     - Return processed document as a string of words\n",
    "    '''\n",
    "    \n",
    "    custom_sw = stopwords.words('english')\n",
    "    punctuation = [c for c in list(string.punctuation)]\n",
    "    numbers = [n for n in range(0,10)]\n",
    "    custom_sw.extend(punctuation+numbers)\n",
    "    custom_sw.extend(['sxsw','SXSW','Sxsw'])\n",
    "\n",
    "    \n",
    "    regex_token = RegexpTokenizer(r\"([a-zA-Z]+(?:’[a-z]+)?)\")\n",
    "    doc = regex_token.tokenize(doc)\n",
    "    \n",
    "    doc = [word.lower() for word in doc]\n",
    "    doc = [word for word in doc if word not in custom_sw]\n",
    "    \n",
    "    doc = pos_tag(doc)\n",
    "    doc = [(word[0], get_wordnet_pos(word[1])) for word in doc]\n",
    "    \n",
    "    lemmatizer = WordNetLemmatizer() \n",
    "    doc = [lemmatizer.lemmatize(word[0], word[1]) for word in doc]\n",
    "    \n",
    "    if array == 'no':\n",
    "        return ' '.join(doc)  \n",
    "    else:\n",
    "        return doc\n"
   ]
  },
  {
   "cell_type": "code",
   "execution_count": 28,
   "id": "186dc64b-97b6-483f-81aa-b7ae9eb42d47",
   "metadata": {},
   "outputs": [
    {
     "data": {
      "image/png": "[encoded data removed]",
      "text/plain": [
       "<Figure size 720x432 with 1 Axes>"
      ]
     },
     "metadata": {
      "needs_background": "light"
     },
     "output_type": "display_data"
    }
   ],
   "source": [
    "# Show sentiment breakdown for Apple and Google \n",
    "\n",
    "apple_sentiment = apple_df['sentiment'].value_counts()\n",
    "google_sentiment = google_df['sentiment'].value_counts()\n",
    "\n",
    "sentiments = pd.DataFrame({'Sentiment': ['Negative','Neutral','Positive',\n",
    "                                         'Negative','Neutral','Positive'],\n",
    "                   'Counts': (list(apple_sentiment) + list(google_sentiment)),\n",
    "                   'Company': (['Apple']*3 + ['Google']*3)})\n",
    "\n",
    "fig,ax = plt.subplots(figsize=(10,6))\n",
    "sentiment_plot = sns.barplot(x='Sentiment', y='Counts', hue='Company', data=sentiments);\n",
    "sentiment_plot.set_title('Sentiment Breakdown');"
   ]
  },
  {
   "cell_type": "code",
   "execution_count": 29,
   "id": "5c576e1f-6202-4d2c-9f10-70a37a1fb4fb",
   "metadata": {},
   "outputs": [],
   "source": [
    "# Create data frames for each of the three sentiments for each company\n",
    "\n",
    "apple_neg_tw = apple_df[apple_df['sentiment'] == 0]\n",
    "apple_neu_tw = apple_df[apple_df['sentiment'] == 1]\n",
    "apple_pos_tw = apple_df[apple_df['sentiment'] == 2]\n",
    "\n",
    "google_neg_tw = google_df[google_df['sentiment'] == 0]\n",
    "google_neu_tw = google_df[google_df['sentiment'] == 1]\n",
    "google_pos_tw = google_df[google_df['sentiment'] == 2]\n",
    "\n",
    "app_neg_tw = [nlp_doc_preparer(tweet,'yes') for tweet in apple_neg_tw['tweet_text']]\n",
    "app_neu_tw = [nlp_doc_preparer(tweet,'yes') for tweet in apple_neu_tw['tweet_text']]\n",
    "app_pos_tw = [nlp_doc_preparer(tweet,'yes') for tweet in apple_pos_tw['tweet_text']]\n",
    "\n",
    "goo_neg_tw = [nlp_doc_preparer(tweet,'yes') for tweet in google_neg_tw['tweet_text']]\n",
    "goo_neu_tw = [nlp_doc_preparer(tweet,'yes') for tweet in google_neu_tw['tweet_text']]\n",
    "goo_pos_tw = [nlp_doc_preparer(tweet,'yes') for tweet in google_pos_tw['tweet_text']]"
   ]
  },
  {
   "cell_type": "code",
   "execution_count": 30,
   "id": "6c67aea0-420d-4458-9a1b-9a1eca10d254",
   "metadata": {},
   "outputs": [],
   "source": [
    "# A function to flatten array of arrays and return the flattened array\n",
    "\n",
    "def flatten_list(list_of_lists):\n",
    "    return [word for line in list_of_lists for word in line]"
   ]
  },
  {
   "cell_type": "code",
   "execution_count": 32,
   "id": "98a6bdc6-c223-4b92-a93c-4381bbf723e8",
   "metadata": {},
   "outputs": [
    {
     "data": {
      "image/png": "[encoded data removed]",
      "text/plain": [
       "<Figure size 432x288 with 1 Axes>"
      ]
     },
     "metadata": {
      "needs_background": "light"
     },
     "output_type": "display_data"
    },
    {
     "data": {
      "image/png": "[encoded data removed]",
      "text/plain": [
       "<Figure size 432x288 with 1 Axes>"
      ]
     },
     "metadata": {
      "needs_background": "light"
     },
     "output_type": "display_data"
    },
    {
     "data": {
      "image/png": "[encoded data removed]",
      "text/plain": [
       "<Figure size 432x288 with 1 Axes>"
      ]
     },
     "metadata": {
      "needs_background": "light"
     },
     "output_type": "display_data"
    }
   ],
   "source": [
    "# Show top 5 frequenly occuring words for Apple for each sentiment\n",
    "\n",
    "app_neg_tw_f = flatten_list(app_neg_tw)\n",
    "app_neu_tw_f = flatten_list(app_neu_tw)\n",
    "app_pos_tw_f = flatten_list(app_pos_tw)\n",
    "\n",
    "apple_tweets = [['Top 5 Words for Negative Tweet Sentiment for Apple',app_neg_tw_f],\n",
    "                ['Top 5 Words for Neutral Tweet Sentiment for Apple',app_neu_tw_f],\n",
    "                ['Top 5 Words for Positive Tweet Sentiment for Apple',app_pos_tw_f]]\n",
    "\n",
    "fig, axs = plt.subplots()\n",
    "for i in range(3):\n",
    "    t = FreqDist(apple_tweets[i][1])\n",
    "    t.plot(5,title=apple_tweets[i][0]);"
   ]
  },
  {
   "cell_type": "code",
   "execution_count": 33,
   "id": "1d67b7f0-0f13-418e-bd0d-c55d0858cb89",
   "metadata": {},
   "outputs": [
    {
     "data": {
      "image/png": "[encoded data removed]",
      "text/plain": [
       "<Figure size 432x288 with 1 Axes>"
      ]
     },
     "metadata": {
      "needs_background": "light"
     },
     "output_type": "display_data"
    },
    {
     "data": {
      "image/png": "[encoded data removed]",
      "text/plain": [
       "<Figure size 432x288 with 1 Axes>"
      ]
     },
     "metadata": {
      "needs_background": "light"
     },
     "output_type": "display_data"
    },
    {
     "data": {
      "image/png": "[encoded data removed]",
      "text/plain": [
       "<Figure size 432x288 with 1 Axes>"
      ]
     },
     "metadata": {
      "needs_background": "light"
     },
     "output_type": "display_data"
    }
   ],
   "source": [
    "# Show top 5 frequenly occuring words for Google for each sentiment\n",
    "\n",
    "goo_neg_tw_f = flatten_list(goo_neg_tw)\n",
    "goo_neu_tw_f = flatten_list(goo_neu_tw)\n",
    "goo_pos_tw_f = flatten_list(goo_pos_tw)\n",
    "\n",
    "apple_tweets = [['Top 5 Words for Negative Tweet Sentiment for Google',goo_neg_tw_f],\n",
    "                ['Top 5 Words for Neutral Tweet Sentiment for Google',goo_neu_tw_f],\n",
    "                ['Top 5 Words for Positive Tweet Sentiment for Google',goo_pos_tw_f]]\n",
    "\n",
    "fig, axs = plt.subplots()\n",
    "for i in range(3):\n",
    "    t = FreqDist(apple_tweets[i][1])\n",
    "    t.plot(5,title=apple_tweets[i][0]);"
   ]
  },
  {
   "cell_type": "code",
   "execution_count": null,
   "id": "2242e65d-7bc4-4adb-876a-b9fa61f1e73d",
   "metadata": {},
   "outputs": [],
   "source": []
  },
  {
   "cell_type": "code",
   "execution_count": 34,
   "id": "06ba6655-c8c7-4803-87fd-6a5870a2778e",
   "metadata": {},
   "outputs": [],
   "source": [
    "# Split apple_df and google_df into train and test samples using train_test_split\n",
    "\n",
    "X_train_app, X_test_app, y_train_app, y_test_app = train_test_split(apple_df['tweet_text'],\n",
    "                                                apple_df['sentiment'],test_size = 0.4, \n",
    "                                                stratify = apple_df['sentiment'],\n",
    "                                                random_state = 6781)\n",
    "\n",
    "X_train_goo, X_test_goo, y_train_goo, y_test_goo = train_test_split(google_df['tweet_text'],\n",
    "                                                google_df['sentiment'],test_size = 0.4, \n",
    "                                                stratify = google_df['sentiment'],\n",
    "                                                random_state = 6782)\n"
   ]
  },
  {
   "cell_type": "code",
   "execution_count": 35,
   "id": "98ced66f-17c6-4d82-bfe3-5fc7a74e809d",
   "metadata": {},
   "outputs": [
    {
     "data": {
      "text/plain": [
       "4786"
      ]
     },
     "execution_count": 35,
     "metadata": {},
     "output_type": "execute_result"
    }
   ],
   "source": [
    "a = len(X_train_app)\n",
    "g = len(X_train_goo)\n",
    "a+g"
   ]
  },
  {
   "cell_type": "code",
   "execution_count": null,
   "id": "33c736b3-699c-4961-b3e3-911bb26eec32",
   "metadata": {},
   "outputs": [],
   "source": []
  },
  {
   "cell_type": "code",
   "execution_count": 36,
   "id": "e11c515f-14e5-4535-963b-9bf8aa3f39dc",
   "metadata": {},
   "outputs": [],
   "source": [
    "# Combined X_train_app and X_train_goo into single series \n",
    "# and y_train_app and y_train_goo \n",
    "\n",
    "X_train_combined = pd.concat([X_train_app,X_train_goo])\n",
    "y_train_combined = pd.concat([y_train_app,y_train_goo])\n",
    "\n"
   ]
  },
  {
   "cell_type": "code",
   "execution_count": 37,
   "id": "1db10995-1cc0-4474-9734-a9ae3b21035e",
   "metadata": {},
   "outputs": [
    {
     "data": {
      "text/plain": [
       "True"
      ]
     },
     "execution_count": 37,
     "metadata": {},
     "output_type": "execute_result"
    }
   ],
   "source": [
    "len(X_train_combined) == len(y_train_combined)"
   ]
  },
  {
   "cell_type": "code",
   "execution_count": 38,
   "id": "de1db8f9-9250-4e7a-bd4b-7740695e8d02",
   "metadata": {},
   "outputs": [
    {
     "data": {
      "text/plain": [
       "4786"
      ]
     },
     "execution_count": 38,
     "metadata": {},
     "output_type": "execute_result"
    }
   ],
   "source": [
    "sum(X_train_combined.index == y_train_combined.index)"
   ]
  },
  {
   "cell_type": "code",
   "execution_count": 39,
   "id": "47aed5b9-10e9-46bf-a463-b61a0bb5c578",
   "metadata": {},
   "outputs": [],
   "source": [
    "# Process X_train_combined, X_test_app, X_test_goo with nlp_doc_preparer function\n",
    "\n",
    "X_train_combined_processed = [nlp_doc_preparer(tweet) for tweet in X_train_combined]\n",
    "\n",
    "X_test_app_processed = [nlp_doc_preparer(tweet) for tweet in X_test_app]\n",
    "X_test_goo_processed = [nlp_doc_preparer(tweet) for tweet in X_test_goo]\n"
   ]
  },
  {
   "cell_type": "code",
   "execution_count": 40,
   "id": "c0c80af7-1679-443e-ac04-59a068e02079",
   "metadata": {},
   "outputs": [],
   "source": [
    "\n",
    "def display_cross_validation_results(cross_val,model_name):\n",
    "    '''\n",
    "    Incoporate cross validation results into a pandas dataframe and display validation scores\n",
    "    '''\n",
    "    \n",
    "    cross_val_results = pd.DataFrame(cross_val)\n",
    "    \n",
    "    accuracy = cross_val_results['mean_test_accuracy'][0]\n",
    "    recall = cross_val_results['mean_test_recall'][0]\n",
    "    precision = cross_val_results['mean_test_precision'][0]\n",
    "    \n",
    "    print('Validation','='*60)\n",
    "    print(f'Validation results for {model_name}:')\n",
    "    print(f'Accuracy: {accuracy}')\n",
    "    print(f'Recall: {recall}')\n",
    "    print(f'Precision: {precision}\\n')"
   ]
  },
  {
   "cell_type": "code",
   "execution_count": 41,
   "id": "4268c408-3b55-46d2-8c29-fb388c01175e",
   "metadata": {},
   "outputs": [],
   "source": [
    "\n",
    "def display_prediction_results(prediction, actuall, company_name, model_name):\n",
    "    '''\n",
    "    Get predictions for X_test samples and display scores\n",
    "    '''\n",
    "    \n",
    "    accuracy = accuracy_score(actuall,prediction)\n",
    "    recall = recall_score(actuall, prediction, average = 'micro')\n",
    "    precision = precision_score(actuall, prediction, average = 'micro')\n",
    "\n",
    "    print('='*60)\n",
    "    print(f'Predictions for {company_name}: {model_name}')\n",
    "    print(f'Accuracy: {accuracy}')\n",
    "    print(f'Recall: {recall}')\n",
    "    print(f'Precision: {precision}\\n')\n"
   ]
  },
  {
   "cell_type": "code",
   "execution_count": 118,
   "id": "381e7775-cdc4-44ac-88dd-14708e125f6c",
   "metadata": {},
   "outputs": [],
   "source": [
    "def display_confusion_matrix_v2(actuall_y,predicted_y,model_name,company_name):\n",
    "    conf_matrix = confusion_matrix(y_true=actuall_y, y_pred=predicted_y)\n",
    "\n",
    "    fig, ax = plt.subplots(figsize=(6, 6))\n",
    "    ax.matshow(conf_matrix, cmap=plt.cm.Blues, alpha=0.3)\n",
    "    \n",
    "    for i in range(conf_matrix.shape[0]):\n",
    "        for j in range(conf_matrix.shape[1]):\n",
    "            ax.text(x=j, y=i,s=conf_matrix[i, j], va='center', ha='center', size='xx-large')\n",
    " \n",
    "    plt.xlabel('Predictions', fontsize=14)\n",
    "    plt.ylabel('Actuals', fontsize=14)\n",
    "    plt.title(f'Confusion Matrix for {model_name}: {company_name}', fontsize=18);\n",
    "    save_image_as = 'confusion_matrix_' + '_'.join(model_name.split()) + ': ' + company_name\n",
    "    fig.savefig(save_image_as)\n",
    "    "
   ]
  },
  {
   "cell_type": "code",
   "execution_count": 42,
   "id": "3fdef66d-3c0a-4b6b-b9cc-500b08da1e82",
   "metadata": {},
   "outputs": [],
   "source": [
    "def display_confusion_matrix(model, X, y,company_name, model_name):\n",
    "    print(f'Confusion matrix for: {company_name}')\n",
    "    print(f'Model: {model_name}')\n",
    "    plot_confusion_matrix(model,X,y)\n",
    "    print('='*80)\n",
    "    "
   ]
  },
  {
   "cell_type": "markdown",
   "id": "8a37a3e0-dd35-4e63-8b09-139903e8de36",
   "metadata": {},
   "source": [
    "## Model Training and Model Prediction\n",
    "Used CountVectorizer (and to lesser extent TfidfVectorizer) to convert text tweet into matrix of tokens.  The models were trained and validated with the combined train dataframe from apple and google tweets. Used pipes to minimize redundant code an gridsearchcv for model tuning and validation. Model predictions were made with apple and google test dataframes.   "
   ]
  },
  {
   "cell_type": "code",
   "execution_count": 115,
   "id": "c170fd73-c8fd-423c-805d-adf160b535ec",
   "metadata": {},
   "outputs": [
    {
     "name": "stdout",
     "output_type": "stream",
     "text": [
      "Training time: 0.4847831726074219\n"
     ]
    },
    {
     "data": {
      "text/plain": [
       "{'countvect__input': 'content',\n",
       " 'dm__random_state': 1234,\n",
       " 'dm__strategy': 'prior'}"
      ]
     },
     "execution_count": 115,
     "metadata": {},
     "output_type": "execute_result"
    }
   ],
   "source": [
    "# DummyClassifier\n",
    "# Use pipes to countVectorize X_train_combined_processed and then train DummyClassifier\n",
    "\n",
    "start = time.time()\n",
    "\n",
    "cv_dm_pipe = Pipeline([('countvect',CountVectorizer()), \n",
    "                 ('dm',DummyClassifier())])\n",
    "\n",
    "grid_accuracy = make_scorer(accuracy_score)\n",
    "grid_recall_micro = make_scorer(recall_score, average = 'micro')\n",
    "grid_precision_micro = make_scorer(precision_score, average = 'micro')\n",
    "\n",
    "cv_dm_params = {'countvect__input' : ['content'],\n",
    "                'dm__random_state' : [1234],\n",
    "                'dm__strategy' : ['prior']}\n",
    "\n",
    "cv_dm_model_grid = GridSearchCV(estimator = cv_dm_pipe, param_grid = cv_dm_params,\n",
    "                                scoring = {'accuracy' : grid_accuracy, \n",
    "                                           'recall' : grid_recall_micro,\n",
    "                                          'precision' : grid_precision_micro},\n",
    "                                refit = 'accuracy')\n",
    "\n",
    "cv_dm_model_grid.fit(X_train_combined_processed,y_train_combined)\n",
    "end = time.time()\n",
    "print(f'Training time: {end-start}')\n",
    "cv_dm_model_grid.best_params_"
   ]
  },
  {
   "cell_type": "code",
   "execution_count": 116,
   "id": "bcdf33c7-978f-46a9-a397-f3356940fe7f",
   "metadata": {},
   "outputs": [
    {
     "name": "stdout",
     "output_type": "stream",
     "text": [
      "Validation ============================================================\n",
      "Validation results for DummyClassifier with Count Vectorize:\n",
      "Accuracy: 0.5599666668848153\n",
      "Recall: 0.5599666668848153\n",
      "Precision: 0.5599666668848153\n",
      "\n",
      "============================================================\n",
      "Predictions for Apple: DummyClassifier with Count Vectorize\n",
      "Accuracy: 0.5164835164835165\n",
      "Recall: 0.5164835164835165\n",
      "Precision: 0.5164835164835165\n",
      "\n",
      "============================================================\n",
      "Predictions for Google: DummyClassifier with Count Vectorize\n",
      "Accuracy: 0.6418181818181818\n",
      "Recall: 0.6418181818181818\n",
      "Precision: 0.6418181818181818\n",
      "\n"
     ]
    }
   ],
   "source": [
    "# Display cross validation results, make prediction for X_test_app and X_test_goo\n",
    "# diplay results.  Use respective functions.\n",
    "\n",
    "model_name = 'DummyClassifier with Count Vectorize'\n",
    "\n",
    "display_cross_validation_results(cv_dm_model_grid.cv_results_,model_name)\n",
    "\n",
    "y_test_app_hat = cv_dm_model_grid.predict(X_test_app_processed)\n",
    "y_test_goo_hat = cv_dm_model_grid.predict(X_test_goo_processed)\n",
    "\n",
    "display_prediction_results(y_test_app_hat, y_test_app,'Apple',model_name)\n",
    "\n",
    "display_prediction_results(y_test_goo_hat, y_test_goo, 'Google',model_name)\n"
   ]
  },
  {
   "cell_type": "code",
   "execution_count": 121,
   "id": "de6811b6-59e4-4624-a746-24b4b5cc0903",
   "metadata": {},
   "outputs": [
    {
     "name": "stdout",
     "output_type": "stream",
     "text": [
      "Confusion matrix for: Apple\n",
      "Model: DummyClassifier with Count Vectorize\n",
      "================================================================================\n"
     ]
    },
    {
     "data": {
      "image/png": "[encoded data removed]",
      "text/plain": [
       "<Figure size 432x288 with 2 Axes>"
      ]
     },
     "metadata": {
      "needs_background": "light"
     },
     "output_type": "display_data"
    }
   ],
   "source": [
    "# Diplay confusion matrix for X_test_app\n",
    "\n",
    "#display_confusion_matrix_v2(y_test_app,y_test_app_hat,model_name,'Apple')\n",
    "display_confusion_matrix(cv_dm_model_grid, X_test_app_processed,\n",
    "                         y_test_app, 'Apple',model_name)\n"
   ]
  },
  {
   "cell_type": "code",
   "execution_count": 122,
   "id": "3cb76a33-9aad-4468-a5c3-23d3bf46dca5",
   "metadata": {},
   "outputs": [
    {
     "name": "stdout",
     "output_type": "stream",
     "text": [
      "Confusion matrix for: Google\n",
      "Model: DummyClassifier with Count Vectorize\n",
      "================================================================================\n"
     ]
    },
    {
     "data": {
      "image/png": "[encoded data removed]",
      "text/plain": [
       "<Figure size 432x288 with 2 Axes>"
      ]
     },
     "metadata": {
      "needs_background": "light"
     },
     "output_type": "display_data"
    }
   ],
   "source": [
    "# Diplay confusion matrix for X_test_goo\n",
    "#display_confusion_matrix_v2(y_test_goo,y_test_goo_hat,model_name,'Google')\n",
    "display_confusion_matrix(cv_dm_model_grid,X_test_goo_processed,\n",
    "                         y_test_goo, 'Google',model_name)\n"
   ]
  },
  {
   "cell_type": "code",
   "execution_count": 47,
   "id": "387a0db1-95d4-41ee-a301-b03025e54226",
   "metadata": {},
   "outputs": [
    {
     "name": "stdout",
     "output_type": "stream",
     "text": [
      "Training time: 0.5058467388153076\n"
     ]
    }
   ],
   "source": [
    "# MultinomialNB\n",
    "# Use pipes to countVectorize X_train_combined_processed and then train MultinomialNB\n",
    "\n",
    "start = time.time()\n",
    "\n",
    "cv_mnb_pipe = Pipeline([('countvect',CountVectorizer()), \n",
    "                 ('mnb', MultinomialNB())])\n",
    "\n",
    "cv_mnb_params = {'countvect__input' : ['content'],'mnb__alpha' : [1.0]}\n",
    "\n",
    "cv_mnb_model_grid = GridSearchCV(estimator = cv_mnb_pipe, param_grid = cv_mnb_params,\n",
    "                                scoring = {'accuracy' : grid_accuracy, \n",
    "                                           'recall' : grid_recall_micro,\n",
    "                                          'precision' : grid_precision_micro},\n",
    "                                refit = 'accuracy')\n",
    "\n",
    "cv_mnb_model_grid.fit(X_train_combined_processed,y_train_combined)\n",
    "end = time.time()\n",
    "print(f'Training time: {end-start}')"
   ]
  },
  {
   "cell_type": "code",
   "execution_count": 48,
   "id": "1a5c6a8b-1808-4752-b8e6-8c3965fab986",
   "metadata": {},
   "outputs": [
    {
     "name": "stdout",
     "output_type": "stream",
     "text": [
      "Validation ============================================================\n",
      "Validation results for MultinomialNB with Count Vectorize:\n",
      "Accuracy: 0.6276688852385346\n",
      "Recall: 0.6276688852385346\n",
      "Precision: 0.6276688852385346\n",
      "\n",
      "============================================================\n",
      "Predictions for Apple: MultinomialNB with Count Vectorize\n",
      "Accuracy: 0.6086956521739131\n",
      "Recall: 0.6086956521739131\n",
      "Precision: 0.6086956521739131\n",
      "\n",
      "============================================================\n",
      "Predictions for Google: MultinomialNB with Count Vectorize\n",
      "Accuracy: 0.6854545454545454\n",
      "Recall: 0.6854545454545454\n",
      "Precision: 0.6854545454545454\n",
      "\n"
     ]
    }
   ],
   "source": [
    "# Display cross validation results, make prediction for X_test_app and X_test_goo\n",
    "# diplay results.  Use respective functions.\n",
    "\n",
    "model_name = 'MultinomialNB with Count Vectorize'\n",
    "\n",
    "display_cross_validation_results(cv_mnb_model_grid.cv_results_,model_name)\n",
    "\n",
    "y_test_app_hat2 = cv_mnb_model_grid.predict(X_test_app_processed)\n",
    "y_test_goo_hat2 = cv_mnb_model_grid.predict(X_test_goo_processed)\n",
    "\n",
    "display_prediction_results(y_test_app_hat2, y_test_app,'Apple',model_name)\n",
    "\n",
    "display_prediction_results(y_test_goo_hat2, y_test_goo, 'Google',model_name)\n"
   ]
  },
  {
   "cell_type": "code",
   "execution_count": 49,
   "id": "4795cd21-fec6-4305-81dc-4f4c4ebe3b73",
   "metadata": {},
   "outputs": [
    {
     "name": "stdout",
     "output_type": "stream",
     "text": [
      "Confusion matrix for: Apple\n",
      "Model: MultinomialNB with Count Vectorize\n",
      "================================================================================\n"
     ]
    },
    {
     "data": {
      "image/png": "[encoded data removed]",
      "text/plain": [
       "<Figure size 432x288 with 2 Axes>"
      ]
     },
     "metadata": {
      "needs_background": "light"
     },
     "output_type": "display_data"
    }
   ],
   "source": [
    "# Diplay confusion matrix for X_test_app\n",
    "\n",
    "display_confusion_matrix(cv_mnb_model_grid, X_test_app_processed,\n",
    "                         y_test_app, 'Apple',model_name)\n"
   ]
  },
  {
   "cell_type": "code",
   "execution_count": 50,
   "id": "3f0fb3bd-0780-4c7a-ab54-5dfa8c157a66",
   "metadata": {},
   "outputs": [
    {
     "name": "stdout",
     "output_type": "stream",
     "text": [
      "Confusion matrix for: Google\n",
      "Model: MultinomialNB with Count Vectorize\n",
      "================================================================================\n"
     ]
    },
    {
     "data": {
      "image/png": "[encoded data removed]",
      "text/plain": [
       "<Figure size 432x288 with 2 Axes>"
      ]
     },
     "metadata": {
      "needs_background": "light"
     },
     "output_type": "display_data"
    }
   ],
   "source": [
    "# Diplay confusion matrix for X_test_goo\n",
    "\n",
    "display_confusion_matrix(cv_mnb_model_grid,X_test_goo_processed,\n",
    "                         y_test_goo, 'Google',model_name)\n"
   ]
  },
  {
   "cell_type": "code",
   "execution_count": 51,
   "id": "519f8b94-166e-4d8c-85e4-6c1b37a4322c",
   "metadata": {},
   "outputs": [
    {
     "name": "stdout",
     "output_type": "stream",
     "text": [
      "Training time: 0.4806020259857178\n"
     ]
    }
   ],
   "source": [
    "\n",
    "# Use pipes to TfidfVectorize X_train_combined_processed and then train MultinomialNB()\n",
    "\n",
    "start = time.time()\n",
    "\n",
    "tf_mnb_pipe = Pipeline([('tfvect',TfidfVectorizer()), \n",
    "                 ('mnb', MultinomialNB())])\n",
    "\n",
    "tf_mnb_params = {'tfvect__input' : ['content'],'mnb__alpha' : [1.0]}\n",
    "\n",
    "tf_mnb_model_grid = GridSearchCV(estimator = tf_mnb_pipe, param_grid = tf_mnb_params,\n",
    "                                scoring = {'accuracy' : grid_accuracy, \n",
    "                                           'recall' : grid_recall_micro,\n",
    "                                          'precision' : grid_precision_micro},\n",
    "                                refit = 'accuracy')\n",
    "\n",
    "\n",
    "tf_mnb_model_grid.fit(X_train_combined_processed,y_train_combined)\n",
    "end = time.time()\n",
    "print(f'Training time: {end-start}')"
   ]
  },
  {
   "cell_type": "code",
   "execution_count": 52,
   "id": "fa2b4556-55f4-42f9-9859-e07672a514a7",
   "metadata": {},
   "outputs": [
    {
     "name": "stdout",
     "output_type": "stream",
     "text": [
      "Validation ============================================================\n",
      "Validation results for MultinomialNB with TF-IDF Vectorize:\n",
      "Accuracy: 0.6305925135743002\n",
      "Recall: 0.6305925135743002\n",
      "Precision: 0.6305925135743002\n",
      "\n",
      "============================================================\n",
      "Predictions for Apple: MultinomialNB with TF-IDF Vectorize\n",
      "Accuracy: 0.6077400860009555\n",
      "Recall: 0.6077400860009555\n",
      "Precision: 0.6077400860009555\n",
      "\n",
      "============================================================\n",
      "Predictions for Google: MultinomialNB with TF-IDF Vectorize\n",
      "Accuracy: 0.6863636363636364\n",
      "Recall: 0.6863636363636364\n",
      "Precision: 0.6863636363636364\n",
      "\n"
     ]
    }
   ],
   "source": [
    "# Display cross validation results, make prediction for X_test_app and X_test_goo\n",
    "# diplay results.  Use respective functions.\n",
    "\n",
    "model_name = 'MultinomialNB with TF-IDF Vectorize'\n",
    "\n",
    "display_cross_validation_results(tf_mnb_model_grid.cv_results_,model_name)\n",
    "\n",
    "y_test_app_hat3 = tf_mnb_model_grid.predict(X_test_app_processed)\n",
    "y_test_goo_hat3 = tf_mnb_model_grid.predict(X_test_goo_processed)\n",
    "\n",
    "display_prediction_results(y_test_app_hat3, y_test_app,'Apple',model_name)\n",
    "\n",
    "display_prediction_results(y_test_goo_hat3, y_test_goo, 'Google',model_name)\n"
   ]
  },
  {
   "cell_type": "code",
   "execution_count": 53,
   "id": "451fb5cd-7487-4167-8e6e-88deb096a695",
   "metadata": {},
   "outputs": [
    {
     "name": "stdout",
     "output_type": "stream",
     "text": [
      "Confusion matrix for: Apple\n",
      "Model: MultinomialNB with TF-IDF Vectorize\n",
      "================================================================================\n"
     ]
    },
    {
     "data": {
      "image/png": "[encoded data removed]",
      "text/plain": [
       "<Figure size 432x288 with 2 Axes>"
      ]
     },
     "metadata": {
      "needs_background": "light"
     },
     "output_type": "display_data"
    }
   ],
   "source": [
    "# Diplay confusion matrix for X_test_app\n",
    "\n",
    "display_confusion_matrix(tf_mnb_model_grid, X_test_app_processed,\n",
    "                         y_test_app, 'Apple',model_name)\n"
   ]
  },
  {
   "cell_type": "code",
   "execution_count": 54,
   "id": "6e4568c6-a6b9-44e7-a98d-5170874ee7d6",
   "metadata": {},
   "outputs": [
    {
     "name": "stdout",
     "output_type": "stream",
     "text": [
      "Confusion matrix for: Google\n",
      "Model: MultinomialNB with TF-IDF Vectorize\n",
      "================================================================================\n"
     ]
    },
    {
     "data": {
      "image/png": "[encoded data removed]",
      "text/plain": [
       "<Figure size 432x288 with 2 Axes>"
      ]
     },
     "metadata": {
      "needs_background": "light"
     },
     "output_type": "display_data"
    }
   ],
   "source": [
    "# Diplay confusion matrix for X_test_goo\n",
    "\n",
    "display_confusion_matrix(tf_mnb_model_grid,X_test_goo_processed,\n",
    "                         y_test_goo, 'Google',model_name)\n"
   ]
  },
  {
   "cell_type": "code",
   "execution_count": 55,
   "id": "950e6fcd-8c50-4adc-a67c-aa67a74c62c7",
   "metadata": {},
   "outputs": [
    {
     "name": "stdout",
     "output_type": "stream",
     "text": [
      "Training time: 1.0253260135650635\n"
     ]
    },
    {
     "data": {
      "text/plain": [
       "{'countvect__input': 'content',\n",
       " 'knn__leaf_size': 7,\n",
       " 'knn__n_neighbors': 7,\n",
       " 'knn__weights': 'distance'}"
      ]
     },
     "execution_count": 55,
     "metadata": {},
     "output_type": "execute_result"
    }
   ],
   "source": [
    "# KNeighborsClassifier\n",
    "# Use pipes to CountVectorize X_train_combined_processed and then train KNeighborsClassifier\n",
    "\n",
    "start = time.time()\n",
    "\n",
    "cv_knn_pipe = Pipeline([('countvect',CountVectorizer()), \n",
    "                 ('knn', KNeighborsClassifier())])\n",
    "\n",
    "cv_knn_params = {'countvect__input' : ['content'],\n",
    "                 'knn__n_neighbors' : [7],  # tried 3,7,21\n",
    "                'knn__weights' : ['distance'], # tried 'uniform\n",
    "                'knn__leaf_size' : [7]}  #tried 3,15,30,45\n",
    "\n",
    "cv_knn_model_grid = GridSearchCV(estimator = cv_knn_pipe, param_grid = cv_knn_params,\n",
    "                                scoring = {'accuracy' : grid_accuracy, \n",
    "                                           'recall' : grid_recall_micro,\n",
    "                                          'precision' : grid_precision_micro},\n",
    "                                refit = 'accuracy')\n",
    "\n",
    "\n",
    "cv_knn_model_grid.fit(X_train_combined_processed,y_train_combined)\n",
    "end = time.time()\n",
    "print(f'Training time: {end-start}')\n",
    "cv_knn_model_grid.best_params_"
   ]
  },
  {
   "cell_type": "code",
   "execution_count": 56,
   "id": "e102e8aa-8f42-452f-9f6b-f58bce6a924f",
   "metadata": {},
   "outputs": [
    {
     "name": "stdout",
     "output_type": "stream",
     "text": [
      "Validation ============================================================\n",
      "Validation results for KNeighborsClassifier with Count Vectorize:\n",
      "Accuracy: 0.5927709897186537\n",
      "Recall: 0.5927709897186537\n",
      "Precision: 0.5927709897186537\n",
      "\n",
      "============================================================\n",
      "Predictions for Apple: KNeighborsClassifier with Count Vectorize\n",
      "Accuracy: 0.5656951743908266\n",
      "Recall: 0.5656951743908266\n",
      "Precision: 0.5656951743908266\n",
      "\n",
      "============================================================\n",
      "Predictions for Google: KNeighborsClassifier with Count Vectorize\n",
      "Accuracy: 0.6563636363636364\n",
      "Recall: 0.6563636363636364\n",
      "Precision: 0.6563636363636364\n",
      "\n"
     ]
    }
   ],
   "source": [
    "# Display cross validation results, make prediction for X_test_app and X_test_goo\n",
    "# diplay results.  Use respective functions.\n",
    "\n",
    "model_name = 'KNeighborsClassifier with Count Vectorize'\n",
    "\n",
    "display_cross_validation_results(cv_knn_model_grid.cv_results_,model_name)\n",
    "\n",
    "y_test_app_hat4 = cv_knn_model_grid.predict(X_test_app_processed)\n",
    "y_test_goo_hat4 = cv_knn_model_grid.predict(X_test_goo_processed)\n",
    "\n",
    "display_prediction_results(y_test_app_hat4, y_test_app,'Apple',model_name)\n",
    "\n",
    "display_prediction_results(y_test_goo_hat4, y_test_goo, 'Google',model_name)\n"
   ]
  },
  {
   "cell_type": "code",
   "execution_count": 57,
   "id": "6a94049e-20bf-41f9-b95d-4be453a4ba36",
   "metadata": {},
   "outputs": [
    {
     "name": "stdout",
     "output_type": "stream",
     "text": [
      "Confusion matrix for: Apple\n",
      "Model: KNeighborsClassifier with Count Vectorize\n",
      "================================================================================\n"
     ]
    },
    {
     "data": {
      "image/png": "[encoded data removed]",
      "text/plain": [
       "<Figure size 432x288 with 2 Axes>"
      ]
     },
     "metadata": {
      "needs_background": "light"
     },
     "output_type": "display_data"
    }
   ],
   "source": [
    "# Diplay confusion matrix for X_test_app\n",
    "\n",
    "display_confusion_matrix(cv_knn_model_grid, X_test_app_processed,\n",
    "                         y_test_app, 'Apple',model_name)"
   ]
  },
  {
   "cell_type": "code",
   "execution_count": 58,
   "id": "a37b8865-e815-498d-8d08-579994b18846",
   "metadata": {},
   "outputs": [
    {
     "name": "stdout",
     "output_type": "stream",
     "text": [
      "Confusion matrix for: Google\n",
      "Model: KNeighborsClassifier with Count Vectorize\n",
      "================================================================================\n"
     ]
    },
    {
     "data": {
      "image/png": "[encoded data removed]",
      "text/plain": [
       "<Figure size 432x288 with 2 Axes>"
      ]
     },
     "metadata": {
      "needs_background": "light"
     },
     "output_type": "display_data"
    }
   ],
   "source": [
    "# Diplay confusion matrix for X_test_goo\n",
    "\n",
    "display_confusion_matrix(cv_knn_model_grid, X_test_goo_processed,\n",
    "                         y_test_goo, 'Google',model_name)"
   ]
  },
  {
   "cell_type": "code",
   "execution_count": 59,
   "id": "5fa9f232-87de-4140-9aea-c51eb62c4b09",
   "metadata": {},
   "outputs": [
    {
     "name": "stdout",
     "output_type": "stream",
     "text": [
      "Training time: 1.0332210063934326\n"
     ]
    },
    {
     "data": {
      "text/plain": [
       "{'countvect__input': 'content',\n",
       " 'knn__leaf_size': 7,\n",
       " 'knn__n_neighbors': 7,\n",
       " 'knn__weights': 'distance'}"
      ]
     },
     "execution_count": 59,
     "metadata": {},
     "output_type": "execute_result"
    }
   ],
   "source": [
    "# Use pipes to TfidfVectorize X_train_combined_processed and then train KNeighborsClassifier\n",
    "\n",
    "start = time.time()\n",
    "\n",
    "tf_knn_pipe = Pipeline([('tfvect',TfidfVectorizer()), \n",
    "                 ('knn', KNeighborsClassifier())])\n",
    "\n",
    "tf_knn_params = {'tfvect__input' : ['content'],\n",
    "                 'knn__n_neighbors' : [7],  # tried 3,7,21\n",
    "                'knn__weights' : ['distance'], # tried 'uniform\n",
    "                'knn__leaf_size' : [3]}  #tried 30,45\n",
    "\n",
    "tf_knn_model_grid = GridSearchCV(estimator = cv_knn_pipe, param_grid = cv_knn_params,\n",
    "                                scoring = {'accuracy' : grid_accuracy, \n",
    "                                           'recall' : grid_recall_micro,\n",
    "                                          'precision' : grid_precision_micro},\n",
    "                                refit = 'accuracy')\n",
    "\n",
    "\n",
    "tf_knn_model_grid.fit(X_train_combined_processed,y_train_combined)\n",
    "end = time.time()\n",
    "print(f'Training time: {end-start}')\n",
    "tf_knn_model_grid.best_params_"
   ]
  },
  {
   "cell_type": "code",
   "execution_count": 60,
   "id": "ae3e2549-d58e-440c-9109-49f223036ed0",
   "metadata": {},
   "outputs": [
    {
     "name": "stdout",
     "output_type": "stream",
     "text": [
      "Validation ============================================================\n",
      "Validation results for KNeighborsClassifier with TF-IDF Vectorize:\n",
      "Accuracy: 0.5927709897186537\n",
      "Recall: 0.5927709897186537\n",
      "Precision: 0.5927709897186537\n",
      "\n",
      "============================================================\n",
      "Predictions for Apple: KNeighborsClassifier with TF-IDF Vectorize\n",
      "Accuracy: 0.5642618251313903\n",
      "Recall: 0.5642618251313903\n",
      "Precision: 0.5642618251313903\n",
      "\n",
      "============================================================\n",
      "Predictions for Google: KNeighborsClassifier with TF-IDF Vectorize\n",
      "Accuracy: 0.6327272727272727\n",
      "Recall: 0.6327272727272727\n",
      "Precision: 0.6327272727272727\n",
      "\n"
     ]
    }
   ],
   "source": [
    "# Display cross validation results, make prediction for X_test_app and X_test_goo\n",
    "# diplay results.  Use respective functions.\n",
    "\n",
    "model_name = 'KNeighborsClassifier with TF-IDF Vectorize'\n",
    "\n",
    "display_cross_validation_results(tf_knn_model_grid.cv_results_,model_name)\n",
    "\n",
    "y_test_app_hat5 = tf_knn_model_grid.predict(X_test_app)\n",
    "y_test_goo_hat5 = tf_knn_model_grid.predict(X_test_goo)\n",
    "\n",
    "display_prediction_results(y_test_app_hat5, y_test_app,'Apple',model_name)\n",
    "\n",
    "display_prediction_results(y_test_goo_hat5, y_test_goo, 'Google',model_name)\n"
   ]
  },
  {
   "cell_type": "code",
   "execution_count": 61,
   "id": "8cc83011-98f6-4a7f-a7fb-2e78d7db1e23",
   "metadata": {},
   "outputs": [
    {
     "name": "stdout",
     "output_type": "stream",
     "text": [
      "Confusion matrix for: Apple\n",
      "Model: KNeighborsClassifier with TF-IDF Vectorize\n",
      "================================================================================\n"
     ]
    },
    {
     "data": {
      "image/png": "[encoded data removed]",
      "text/plain": [
       "<Figure size 432x288 with 2 Axes>"
      ]
     },
     "metadata": {
      "needs_background": "light"
     },
     "output_type": "display_data"
    }
   ],
   "source": [
    "# Diplay confusion matrix for X_test_app\n",
    "\n",
    "display_confusion_matrix(tf_knn_model_grid, X_test_app_processed,\n",
    "                         y_test_app, 'Apple',model_name)"
   ]
  },
  {
   "cell_type": "code",
   "execution_count": 62,
   "id": "9f771eb3-d4c9-4a3e-8147-2786fbd0eeb4",
   "metadata": {},
   "outputs": [
    {
     "name": "stdout",
     "output_type": "stream",
     "text": [
      "Confusion matrix for: Google\n",
      "Model: KNeighborsClassifier with TF-IDF Vectorize\n",
      "================================================================================\n"
     ]
    },
    {
     "data": {
      "image/png": "[encoded data removed]",
      "text/plain": [
       "<Figure size 432x288 with 2 Axes>"
      ]
     },
     "metadata": {
      "needs_background": "light"
     },
     "output_type": "display_data"
    }
   ],
   "source": [
    "# Diplay confusion matrix for X_test_app\n",
    "\n",
    "display_confusion_matrix(tf_knn_model_grid, X_test_goo_processed,\n",
    "                         y_test_goo, 'Google',model_name)"
   ]
  },
  {
   "cell_type": "code",
   "execution_count": null,
   "id": "1ac71bee-d05b-4468-9969-a1fe7ea15ca5",
   "metadata": {},
   "outputs": [],
   "source": []
  },
  {
   "cell_type": "code",
   "execution_count": 63,
   "id": "01261a2b-6be1-49f1-9cdc-71163023893a",
   "metadata": {},
   "outputs": [
    {
     "name": "stdout",
     "output_type": "stream",
     "text": [
      "Training time: 105.48740887641907\n"
     ]
    },
    {
     "data": {
      "text/plain": [
       "{'countvect__input': 'content',\n",
       " 'rf__criterion': 'gini',\n",
       " 'rf__max_depth': 87,\n",
       " 'rf__max_features': None,\n",
       " 'rf__random_state': 42}"
      ]
     },
     "execution_count": 63,
     "metadata": {},
     "output_type": "execute_result"
    }
   ],
   "source": [
    "# RandomForestClassifier\n",
    "# Use pipes to CountVectorize X_train_combined_processed and then train RandomForestClassifier\n",
    "\n",
    "start = time.time()\n",
    "\n",
    "cv_rf_pipe = Pipeline([('countvect',CountVectorizer()), \n",
    "                 ('rf', RandomForestClassifier())])\n",
    "\n",
    "cv_rf_params = {'countvect__input' : ['content'],\n",
    "                'rf__random_state' : [42],\n",
    "                'rf__max_depth' : [87],  # tried 3,11,57,121\n",
    "                'rf__criterion' : ['gini'],  #log_loss gives warning\n",
    "                'rf__max_features' : [None]} # tried 'sqrt' and 'log2'\n",
    "\n",
    "cv_rf_model_grid = GridSearchCV(estimator = cv_rf_pipe, param_grid = cv_rf_params,\n",
    "                                scoring = {'accuracy' : grid_accuracy, \n",
    "                                           'recall' : grid_recall_micro,\n",
    "                                          'precision' : grid_precision_micro},\n",
    "                                refit = 'accuracy')\n",
    "\n",
    "\n",
    "cv_rf_model_grid.fit(X_train_combined_processed,y_train_combined)\n",
    "end = time.time()\n",
    "print(f'Training time: {end-start}')\n",
    "cv_rf_model_grid.best_params_\n"
   ]
  },
  {
   "cell_type": "code",
   "execution_count": 64,
   "id": "0eb2e42a-31fc-4c52-b5fb-e78f6ea41ac2",
   "metadata": {},
   "outputs": [
    {
     "name": "stdout",
     "output_type": "stream",
     "text": [
      "Validation ============================================================\n",
      "Validation results for RandomForestClassifier with Count Vectorize:\n",
      "Accuracy: 0.6385335610805339\n",
      "Recall: 0.6385335610805339\n",
      "Precision: 0.6385335610805339\n",
      "\n",
      "============================================================\n",
      "Predictions for Apple: RandomForestClassifier with Count Vectorize\n",
      "Accuracy: 0.6144290492116579\n",
      "Recall: 0.6144290492116579\n",
      "Precision: 0.6144290492116579\n",
      "\n",
      "============================================================\n",
      "Predictions for Google: RandomForestClassifier with Count Vectorize\n",
      "Accuracy: 0.7054545454545454\n",
      "Recall: 0.7054545454545454\n",
      "Precision: 0.7054545454545454\n",
      "\n"
     ]
    }
   ],
   "source": [
    "# Display cross validation results, make prediction for X_test_app and X_test_goo\n",
    "# diplay results.  Use respective functions.\n",
    "\n",
    "model_name = 'RandomForestClassifier with Count Vectorize'\n",
    "\n",
    "display_cross_validation_results(cv_rf_model_grid.cv_results_,model_name)\n",
    "\n",
    "y_test_app_hat6 = cv_rf_model_grid.predict(X_test_app_processed)\n",
    "y_test_goo_hat6 = cv_rf_model_grid.predict(X_test_goo_processed)\n",
    "\n",
    "display_prediction_results(y_test_app_hat6, y_test_app,'Apple',model_name)\n",
    "\n",
    "display_prediction_results(y_test_goo_hat6, y_test_goo, 'Google',model_name)\n"
   ]
  },
  {
   "cell_type": "code",
   "execution_count": 65,
   "id": "70eb6a5f-40e8-4bb5-8d93-1172c81cb546",
   "metadata": {},
   "outputs": [
    {
     "name": "stdout",
     "output_type": "stream",
     "text": [
      "Confusion matrix for: Apple\n",
      "Model: RandomForestClassifier with Count Vectorize\n",
      "================================================================================\n"
     ]
    },
    {
     "data": {
      "image/png": "[encoded data removed]",
      "text/plain": [
       "<Figure size 432x288 with 2 Axes>"
      ]
     },
     "metadata": {
      "needs_background": "light"
     },
     "output_type": "display_data"
    }
   ],
   "source": [
    "# Diplay confusion matrix for X_test_app\n",
    "\n",
    "display_confusion_matrix(cv_rf_model_grid, X_test_app_processed,\n",
    "                         y_test_app, 'Apple',model_name)"
   ]
  },
  {
   "cell_type": "code",
   "execution_count": 66,
   "id": "609973d0-6a72-4c22-9655-32056b6d8b32",
   "metadata": {},
   "outputs": [
    {
     "name": "stdout",
     "output_type": "stream",
     "text": [
      "Confusion matrix for: Google\n",
      "Model: RandomForestClassifier with Count Vectorize\n",
      "================================================================================\n"
     ]
    },
    {
     "data": {
      "image/png": "[encoded data removed]",
      "text/plain": [
       "<Figure size 432x288 with 2 Axes>"
      ]
     },
     "metadata": {
      "needs_background": "light"
     },
     "output_type": "display_data"
    }
   ],
   "source": [
    "# Diplay confusion matrix for X_test_app\n",
    "\n",
    "display_confusion_matrix(cv_rf_model_grid, X_test_goo_processed,\n",
    "                         y_test_goo, 'Google',model_name)"
   ]
  },
  {
   "cell_type": "code",
   "execution_count": null,
   "id": "18e2d15b-d69a-4355-8517-852e30c00fe6",
   "metadata": {},
   "outputs": [],
   "source": []
  },
  {
   "cell_type": "code",
   "execution_count": 67,
   "id": "bdb935c8-6fcc-42e6-bd24-662312e0dfd6",
   "metadata": {},
   "outputs": [
    {
     "name": "stdout",
     "output_type": "stream",
     "text": [
      "Training time: 0.8365418910980225\n"
     ]
    },
    {
     "data": {
      "text/plain": [
       "{'countvect__input': 'content',\n",
       " 'lr__C': 1.0,\n",
       " 'lr__class_weight': None,\n",
       " 'lr__max_iter': 1000,\n",
       " 'lr__penalty': 'l2',\n",
       " 'lr__random_state': 321,\n",
       " 'lr__solver': 'liblinear'}"
      ]
     },
     "execution_count": 67,
     "metadata": {},
     "output_type": "execute_result"
    }
   ],
   "source": [
    "# LogisticRegression\n",
    "# Use pipes to CountVectorize X_train_combined_processed and then train LogisticRegression\n",
    "\n",
    "start = time.time()\n",
    "\n",
    "cv_lr_pipe = Pipeline([('countvect',CountVectorizer()), \n",
    "                 ('lr', LogisticRegression())])\n",
    "\n",
    "cv_lr_params = {'countvect__input' : ['content'],\n",
    "                'lr__random_state' : [321],\n",
    "                'lr__penalty' : ['l2'],\n",
    "                'lr__C' : [1.0],  # tried 1 and 1000\n",
    "                'lr__class_weight' : [None],  # tried None and 'balanced'\n",
    "                'lr__solver' : ['liblinear'], # tried 'newton-cg', 'lbfgs', 'liblinear', 'sag', 'saga'\n",
    "                'lr__max_iter' : [1000]} # treid 100,1000 and 10000\n",
    "\n",
    "cv_lr_model_grid = GridSearchCV(estimator = cv_lr_pipe, param_grid = cv_lr_params,\n",
    "                                scoring = {'accuracy' : grid_accuracy, \n",
    "                                           'recall' : grid_recall_micro,\n",
    "                                          'precision' : grid_precision_micro},\n",
    "                                refit = 'accuracy')\n",
    "\n",
    "\n",
    "cv_lr_model_grid.fit(X_train_combined_processed,y_train_combined)\n",
    "end = time.time()\n",
    "print(f'Training time: {end-start}')\n",
    "cv_lr_model_grid.best_params_\n"
   ]
  },
  {
   "cell_type": "code",
   "execution_count": 68,
   "id": "e52ae73b-b204-49dc-ab85-9cabc5f3a87b",
   "metadata": {},
   "outputs": [
    {
     "name": "stdout",
     "output_type": "stream",
     "text": [
      "Validation ============================================================\n",
      "Validation results for LogisticRegression with Count Vectorize:\n",
      "Accuracy: 0.6519049831698309\n",
      "Recall: 0.6519049831698309\n",
      "Precision: 0.6519049831698309\n",
      "\n",
      "============================================================\n",
      "Predictions for Apple: LogisticRegression with Count Vectorize\n",
      "Accuracy: 0.630673674151935\n",
      "Recall: 0.630673674151935\n",
      "Precision: 0.630673674151935\n",
      "\n",
      "============================================================\n",
      "Predictions for Google: LogisticRegression with Count Vectorize\n",
      "Accuracy: 0.7027272727272728\n",
      "Recall: 0.7027272727272728\n",
      "Precision: 0.7027272727272728\n",
      "\n"
     ]
    }
   ],
   "source": [
    "# Display cross validation results, make prediction for X_test_app and X_test_goo\n",
    "# diplay results.  Use respective functions.\n",
    "\n",
    "model_name = 'LogisticRegression with Count Vectorize'\n",
    "\n",
    "display_cross_validation_results(cv_lr_model_grid.cv_results_,model_name)\n",
    "\n",
    "y_test_app_hat7 = cv_lr_model_grid.predict(X_test_app_processed)\n",
    "y_test_goo_hat7 = cv_lr_model_grid.predict(X_test_goo_processed)\n",
    "\n",
    "display_prediction_results(y_test_app_hat7, y_test_app,'Apple',model_name)\n",
    "\n",
    "display_prediction_results(y_test_goo_hat7, y_test_goo, 'Google',model_name)\n"
   ]
  },
  {
   "cell_type": "code",
   "execution_count": 69,
   "id": "6fa9b903-50f0-49f7-a03b-d677e854d6e3",
   "metadata": {},
   "outputs": [
    {
     "name": "stdout",
     "output_type": "stream",
     "text": [
      "Confusion matrix for: Apple\n",
      "Model: LogisticRegression with Count Vectorize\n",
      "================================================================================\n"
     ]
    },
    {
     "data": {
      "image/png": "[encoded data removed]",
      "text/plain": [
       "<Figure size 432x288 with 2 Axes>"
      ]
     },
     "metadata": {
      "needs_background": "light"
     },
     "output_type": "display_data"
    }
   ],
   "source": [
    "# Diplay confusion matrix for X_test_app\n",
    "\n",
    "display_confusion_matrix(cv_lr_model_grid, X_test_app_processed,\n",
    "                         y_test_app, 'Apple',model_name)"
   ]
  },
  {
   "cell_type": "code",
   "execution_count": 70,
   "id": "1bb8e8de-0cf4-47a3-b900-49479b71989c",
   "metadata": {},
   "outputs": [
    {
     "name": "stdout",
     "output_type": "stream",
     "text": [
      "Confusion matrix for: Google\n",
      "Model: LogisticRegression with Count Vectorize\n",
      "================================================================================\n"
     ]
    },
    {
     "data": {
      "image/png": "[encoded data removed]",
      "text/plain": [
       "<Figure size 432x288 with 2 Axes>"
      ]
     },
     "metadata": {
      "needs_background": "light"
     },
     "output_type": "display_data"
    }
   ],
   "source": [
    "# Diplay confusion matrix for X_test_app\n",
    "\n",
    "display_confusion_matrix(cv_lr_model_grid, X_test_goo_processed,\n",
    "                         y_test_goo, 'Google',model_name)"
   ]
  },
  {
   "cell_type": "code",
   "execution_count": null,
   "id": "da4766df-21b2-48da-bd04-1c9ca43e8a02",
   "metadata": {},
   "outputs": [],
   "source": []
  },
  {
   "cell_type": "code",
   "execution_count": 123,
   "id": "0acd6b8f-e823-45a0-b23d-9171273c7051",
   "metadata": {},
   "outputs": [
    {
     "name": "stdout",
     "output_type": "stream",
     "text": [
      "Training time: 15.133240222930908\n"
     ]
    },
    {
     "data": {
      "text/plain": [
       "{'countvect__input': 'content',\n",
       " 'svc__C': 1.0,\n",
       " 'svc__class_weight': None,\n",
       " 'svc__degree': 3,\n",
       " 'svc__kernel': 'rbf',\n",
       " 'svc__random_state': 234}"
      ]
     },
     "execution_count": 123,
     "metadata": {},
     "output_type": "execute_result"
    }
   ],
   "source": [
    "# SVC\n",
    "# Use pipes to CountVectorize X_train_combined_processed and then train SVC\n",
    "\n",
    "start = time.time()\n",
    "\n",
    "cv_svc_pipe = Pipeline([('countvect',CountVectorizer()), \n",
    "                 ('svc', SVC())])\n",
    "\n",
    "cv_svc_params = {'countvect__input' : ['content'],\n",
    "                'svc__random_state': [234],\n",
    "                'svc__kernel' : ['rbf'], # tried 'poly','rbf', 'sigmoid'\n",
    "                'svc__degree' : [3], # tried 3,4,5\n",
    "                'svc__C' : [1.0],  # tried 1 and 1000\n",
    "                'svc__class_weight' : [None]} # tried None and 'balanced\n",
    "\n",
    "cv_svc_model_grid = GridSearchCV(estimator = cv_svc_pipe, param_grid = cv_svc_params,\n",
    "                                scoring = {'accuracy' : grid_accuracy, \n",
    "                                           'recall' : grid_recall_micro,\n",
    "                                          'precision' : grid_precision_micro},\n",
    "                                refit = 'accuracy')\n",
    "\n",
    "\n",
    "cv_svc_model_grid.fit(X_train_combined_processed,y_train_combined)\n",
    "end = time.time()\n",
    "print(f'Training time: {end-start}')\n",
    "cv_svc_model_grid.best_params_\n"
   ]
  },
  {
   "cell_type": "code",
   "execution_count": 124,
   "id": "f5317723-edcc-4459-b770-86b41e0a46a5",
   "metadata": {},
   "outputs": [
    {
     "name": "stdout",
     "output_type": "stream",
     "text": [
      "Validation ============================================================\n",
      "Validation results for SVC with Count Vectorize:\n",
      "Accuracy: 0.6487671328503521\n",
      "Recall: 0.6487671328503521\n",
      "Precision: 0.6487671328503521\n",
      "\n",
      "============================================================\n",
      "Predictions for Apple: SVC with Count Vectorize\n",
      "Accuracy: 0.6316292403248925\n",
      "Recall: 0.6316292403248925\n",
      "Precision: 0.6316292403248925\n",
      "\n",
      "============================================================\n",
      "Predictions for Google: SVC with Count Vectorize\n",
      "Accuracy: 0.7127272727272728\n",
      "Recall: 0.7127272727272728\n",
      "Precision: 0.7127272727272728\n",
      "\n"
     ]
    }
   ],
   "source": [
    "# Display cross validation results, make prediction for X_test_app and X_test_goo\n",
    "# diplay results.  Use respective functions.\n",
    "\n",
    "model_name = 'SVC with Count Vectorize'\n",
    "\n",
    "display_cross_validation_results(cv_svc_model_grid.cv_results_,model_name)\n",
    "\n",
    "y_test_app_hat8 = cv_svc_model_grid.predict(X_test_app_processed)\n",
    "y_test_goo_hat8 = cv_svc_model_grid.predict(X_test_goo_processed)\n",
    "\n",
    "display_prediction_results(y_test_app_hat8, y_test_app,'Apple',model_name)\n",
    "\n",
    "display_prediction_results(y_test_goo_hat8, y_test_goo, 'Google',model_name)\n"
   ]
  },
  {
   "cell_type": "code",
   "execution_count": 128,
   "id": "5008468e-3d91-47d0-b923-e6801e550334",
   "metadata": {},
   "outputs": [
    {
     "name": "stdout",
     "output_type": "stream",
     "text": [
      "Confusion matrix for: Apple\n",
      "Model: SVC with Count Vectorize\n",
      "================================================================================\n"
     ]
    },
    {
     "data": {
      "image/png": "[encoded data removed]",
      "text/plain": [
       "<Figure size 432x288 with 2 Axes>"
      ]
     },
     "metadata": {
      "needs_background": "light"
     },
     "output_type": "display_data"
    }
   ],
   "source": [
    "# Diplay confusion matrix for X_test_app\n",
    "#display_confusion_matrix_v2(y_test_app,y_test_app_hat8,model_name,'Apple')\n",
    "display_confusion_matrix(cv_svc_model_grid, X_test_app_processed,\n",
    "                         y_test_app, 'Apple',model_name)\n"
   ]
  },
  {
   "cell_type": "code",
   "execution_count": 129,
   "id": "0394fb64-0b79-4130-8b73-ef8779706925",
   "metadata": {},
   "outputs": [
    {
     "name": "stdout",
     "output_type": "stream",
     "text": [
      "Confusion matrix for: Google\n",
      "Model: SVC with Count Vectorize\n",
      "================================================================================\n"
     ]
    },
    {
     "data": {
      "image/png": "[encoded data removed]",
      "text/plain": [
       "<Figure size 432x288 with 2 Axes>"
      ]
     },
     "metadata": {
      "needs_background": "light"
     },
     "output_type": "display_data"
    }
   ],
   "source": [
    "# Diplay confusion matrix for X_test_app\n",
    "#display_confusion_matrix_v2(y_test_goo,y_test_goo_hat8,model_name,'Google')\n",
    "display_confusion_matrix(cv_svc_model_grid, X_test_goo_processed,\n",
    "                         y_test_goo, 'Google',model_name)"
   ]
  },
  {
   "cell_type": "code",
   "execution_count": null,
   "id": "7f6a2c92-92e6-4c3f-bf74-8c9f6a2a2e81",
   "metadata": {},
   "outputs": [],
   "source": []
  },
  {
   "cell_type": "code",
   "execution_count": 84,
   "id": "57be3094-30c8-4150-a449-5f97e314db21",
   "metadata": {},
   "outputs": [],
   "source": [
    "# Balance classification ratio with SMOTE for X_train_combined_processed\n",
    "\n",
    "cvect = CountVectorizer()\n",
    "X_train_combined_vected = cvect.fit_transform(X_train_combined_processed)\n",
    "\n",
    "sm = SMOTE(random_state=3211)\n",
    "X_train_combined_vec_sm, y_train_combined_sm = sm.fit_resample(\n",
    "    X_train_combined_vected,y_train_combined)"
   ]
  },
  {
   "cell_type": "code",
   "execution_count": 78,
   "id": "5f13b68f-d1de-4aef-9c9b-43b3348f242e",
   "metadata": {},
   "outputs": [
    {
     "data": {
      "text/plain": [
       "1    2680\n",
       "2    1767\n",
       "0     339\n",
       "Name: sentiment, dtype: int64"
      ]
     },
     "execution_count": 78,
     "metadata": {},
     "output_type": "execute_result"
    }
   ],
   "source": [
    "# Classification ratio without SMOTE\n",
    "\n",
    "y_train_combined.value_counts()"
   ]
  },
  {
   "cell_type": "code",
   "execution_count": 79,
   "id": "a4186f8e-35ab-495d-8cd6-326faffd52d7",
   "metadata": {},
   "outputs": [
    {
     "data": {
      "text/plain": [
       "2    2680\n",
       "1    2680\n",
       "0    2680\n",
       "Name: sentiment, dtype: int64"
      ]
     },
     "execution_count": 79,
     "metadata": {},
     "output_type": "execute_result"
    }
   ],
   "source": [
    "# Classification ratio with SMOTE\n",
    "\n",
    "y_train_combined_sm.value_counts()"
   ]
  },
  {
   "cell_type": "code",
   "execution_count": 80,
   "id": "0b456409-c461-47db-9f53-4a8c87fa1c1e",
   "metadata": {},
   "outputs": [
    {
     "name": "stdout",
     "output_type": "stream",
     "text": [
      "Training time: 28.189348220825195\n"
     ]
    },
    {
     "data": {
      "text/plain": [
       "{'C': 1.0,\n",
       " 'class_weight': None,\n",
       " 'degree': 3,\n",
       " 'kernel': 'rbf',\n",
       " 'random_state': 234}"
      ]
     },
     "execution_count": 80,
     "metadata": {},
     "output_type": "execute_result"
    }
   ],
   "source": [
    "# Train SVC model with SMOTED data\n",
    "\n",
    "start = time.time()\n",
    "\n",
    "sm_svc = SVC()\n",
    "\n",
    "sm_svc_params = {'random_state' : [234],'kernel' : ['rbf'],'degree' : [3],'C' : [1.0],'class_weight' : [None]}\n",
    "\n",
    "sm_svc_model_grid = GridSearchCV(estimator = sm_svc, param_grid = sm_svc_params,\n",
    "                                scoring = {'accuracy' : grid_accuracy, \n",
    "                                           'recall' : grid_recall_micro,\n",
    "                                          'precision' : grid_precision_micro},\n",
    "                                refit = 'accuracy')\n",
    "\n",
    "\n",
    "sm_svc_model_grid.fit(X_train_combined_vec_sm,y_train_combined_sm)\n",
    "end = time.time()\n",
    "print(f'Training time: {end-start}')\n",
    "sm_svc_model_grid.best_params_\n"
   ]
  },
  {
   "cell_type": "code",
   "execution_count": 81,
   "id": "481a7d02-1981-46c7-aec9-49ac658107c2",
   "metadata": {},
   "outputs": [
    {
     "name": "stdout",
     "output_type": "stream",
     "text": [
      "Validation ============================================================\n",
      "Validation results for SVC with CountVectorizer and SMOTE:\n",
      "Accuracy: 0.6662935323383085\n",
      "Recall: 0.6662935323383085\n",
      "Precision: 0.6662935323383085\n",
      "\n",
      "============================================================\n",
      "Predictions for Apple: SVC with CountVectorizer and SMOTE\n",
      "Accuracy: 0.5862398471094123\n",
      "Recall: 0.5862398471094123\n",
      "Precision: 0.5862398471094123\n",
      "\n",
      "============================================================\n",
      "Predictions for Google: SVC with CountVectorizer and SMOTE\n",
      "Accuracy: 0.6581818181818182\n",
      "Recall: 0.6581818181818182\n",
      "Precision: 0.6581818181818182\n",
      "\n"
     ]
    }
   ],
   "source": [
    "# Display cross validation results, make prediction for X_test_app and X_test_goo\n",
    "# diplay results.  Use respective functions.\n",
    "\n",
    "model_name = 'SVC with CountVectorizer and SMOTE'\n",
    "\n",
    "X_test_app_vec = cvect.transform(X_test_app_processed)\n",
    "X_test_goo_vec = cvect.transform(X_test_goo_processed)\n",
    "\n",
    "display_cross_validation_results(sm_svc_model_grid.cv_results_,model_name)\n",
    "\n",
    "y_test_app_hat9 = sm_svc_model_grid.predict(X_test_app_vec)\n",
    "y_test_goo_hat9 = sm_svc_model_grid.predict(X_test_goo_vec)\n",
    "\n",
    "display_prediction_results(y_test_app_hat9, y_test_app,'Apple',model_name)\n",
    "\n",
    "display_prediction_results(y_test_goo_hat9, y_test_goo, 'Google',model_name)\n"
   ]
  },
  {
   "cell_type": "code",
   "execution_count": 82,
   "id": "745bd050-0516-426b-92a2-a2274121e8bb",
   "metadata": {},
   "outputs": [
    {
     "name": "stdout",
     "output_type": "stream",
     "text": [
      "Confusion matrix for: Apple\n",
      "Model: SVC with CountVectorizer and SMOTE\n",
      "================================================================================\n"
     ]
    },
    {
     "data": {
      "image/png": "[encoded data removed]",
      "text/plain": [
       "<Figure size 432x288 with 2 Axes>"
      ]
     },
     "metadata": {
      "needs_background": "light"
     },
     "output_type": "display_data"
    }
   ],
   "source": [
    "# Diplay confusion matrix for X_test_app\n",
    "\n",
    "display_confusion_matrix(sm_svc_model_grid, X_test_app_vec,\n",
    "                         y_test_app, 'Apple',model_name)"
   ]
  },
  {
   "cell_type": "code",
   "execution_count": 85,
   "id": "a1d37929-9a76-4c5e-adef-1d429d30f2b9",
   "metadata": {},
   "outputs": [
    {
     "name": "stdout",
     "output_type": "stream",
     "text": [
      "Confusion matrix for: Google\n",
      "Model: SVC with CountVectorizer and SMOTE\n",
      "================================================================================\n"
     ]
    },
    {
     "data": {
      "image/png": "[encoded data removed]",
      "text/plain": [
       "<Figure size 432x288 with 2 Axes>"
      ]
     },
     "metadata": {
      "needs_background": "light"
     },
     "output_type": "display_data"
    }
   ],
   "source": [
    "# Diplay confusion matrix for X_test_app\n",
    "\n",
    "display_confusion_matrix(sm_svc_model_grid, X_test_goo_vec,\n",
    "                         y_test_goo, 'Google',model_name)"
   ]
  },
  {
   "cell_type": "code",
   "execution_count": null,
   "id": "4a12f467-c1d6-42d2-be0a-e982a8348d6d",
   "metadata": {},
   "outputs": [],
   "source": []
  },
  {
   "cell_type": "code",
   "execution_count": 90,
   "id": "c895097c-2b4d-4144-9e71-0949aaa1765a",
   "metadata": {},
   "outputs": [],
   "source": [
    "# Process target variable into one-hot encoded using pandas get_dummies \n",
    "\n",
    "y_train_comb_dum = pd.get_dummies(y_train_combined).values\n",
    "\n",
    "y_test_app_dum = pd.get_dummies(y_test_app).values\n",
    "y_test_goo_dum = pd.get_dummies(y_test_goo).values"
   ]
  },
  {
   "cell_type": "code",
   "execution_count": 86,
   "id": "1d8fabc8-ebfe-4533-856c-99e730dace2f",
   "metadata": {},
   "outputs": [],
   "source": [
    "# Tokenize and format X_train_combined and X_test_app & X_test_goo features\n",
    "\n",
    "tokenizer = text.Tokenizer(num_words=10000)\n",
    "tokenizer.fit_on_texts(list(X_train_combined))\n",
    "\n",
    "X_train_comb_tokens = tokenizer.texts_to_sequences(X_train_combined)\n",
    "X_train_comb_tok = sequence.pad_sequences(X_train_comb_tokens, maxlen=200)\n",
    "\n",
    "X_test_app_tokens = tokenizer.texts_to_sequences(X_test_app)\n",
    "X_test_app_tok = sequence.pad_sequences(X_test_app_tokens)\n",
    "\n",
    "X_test_goo_tokens = tokenizer.texts_to_sequences(X_test_goo)\n",
    "X_test_goo_tok = sequence.pad_sequences(X_test_goo_tokens)"
   ]
  },
  {
   "cell_type": "code",
   "execution_count": 87,
   "id": "f7c5ce5b-6928-4dcf-8c2d-f12adebe4a8f",
   "metadata": {},
   "outputs": [],
   "source": [
    "# Instaniate Sequential model and add layers\n",
    "\n",
    "sq_model = Sequential()\n",
    "embedding_size = 4\n",
    "sq_model.add(Embedding(10000, embedding_size))\n",
    "sq_model.add(LSTM(25, return_sequences=True))\n",
    "sq_model.add(GlobalMaxPool1D())\n",
    "sq_model.add(Dropout(0.6))\n",
    "sq_model.add(Dense(50, activation='relu'))\n",
    "sq_model.add(Dropout(0.6))\n",
    "sq_model.add(Dense(3, activation='softmax'))"
   ]
  },
  {
   "cell_type": "code",
   "execution_count": 88,
   "id": "4c763e76-3e1b-41fb-891e-4d6135076e0e",
   "metadata": {},
   "outputs": [],
   "source": [
    "# Specify compiler parameters\n",
    "\n",
    "sq_model.compile(loss='categorical_crossentropy', \n",
    "              optimizer='adam', \n",
    "              metrics=['accuracy','Recall','Precision'])"
   ]
  },
  {
   "cell_type": "code",
   "execution_count": 419,
   "id": "9fc898e7-d2eb-4117-be90-9547a57b5bea",
   "metadata": {},
   "outputs": [
    {
     "name": "stdout",
     "output_type": "stream",
     "text": [
      "Model: \"sequential_1\"\n",
      "_________________________________________________________________\n",
      "Layer (type)                 Output Shape              Param #   \n",
      "=================================================================\n",
      "embedding_1 (Embedding)      (None, None, 4)           40000     \n",
      "_________________________________________________________________\n",
      "lstm_1 (LSTM)                (None, None, 25)          3000      \n",
      "_________________________________________________________________\n",
      "global_max_pooling1d_1 (Glob (None, 25)                0         \n",
      "_________________________________________________________________\n",
      "dropout_2 (Dropout)          (None, 25)                0         \n",
      "_________________________________________________________________\n",
      "dense_2 (Dense)              (None, 50)                1300      \n",
      "_________________________________________________________________\n",
      "dropout_3 (Dropout)          (None, 50)                0         \n",
      "_________________________________________________________________\n",
      "dense_3 (Dense)              (None, 3)                 153       \n",
      "=================================================================\n",
      "Total params: 44,453\n",
      "Trainable params: 44,453\n",
      "Non-trainable params: 0\n",
      "_________________________________________________________________\n"
     ]
    }
   ],
   "source": [
    "sq_model.summary()"
   ]
  },
  {
   "cell_type": "code",
   "execution_count": 91,
   "id": "f6d51181-5784-41c2-b759-4b9de5038d7e",
   "metadata": {},
   "outputs": [
    {
     "name": "stdout",
     "output_type": "stream",
     "text": [
      "Epoch 1/5\n",
      "270/270 [==============================] - 21s 77ms/step - loss: 0.9424 - accuracy: 0.5289 - recall: 0.2540 - precision: 0.5368 - val_loss: 0.7991 - val_accuracy: 0.6660 - val_recall: 0.6660 - val_precision: 0.6660\n",
      "Epoch 2/5\n",
      "270/270 [==============================] - 20s 75ms/step - loss: 0.9017 - accuracy: 0.5447 - recall: 0.3894 - precision: 0.5571 - val_loss: 0.7620 - val_accuracy: 0.6660 - val_recall: 0.6660 - val_precision: 0.6660\n",
      "Epoch 3/5\n",
      "270/270 [==============================] - 20s 74ms/step - loss: 0.8606 - accuracy: 0.5519 - recall: 0.4202 - precision: 0.6056 - val_loss: 0.7038 - val_accuracy: 0.6660 - val_recall: 0.6159 - val_precision: 0.7024\n",
      "Epoch 4/5\n",
      "270/270 [==============================] - 21s 77ms/step - loss: 0.7985 - accuracy: 0.5925 - recall: 0.4091 - precision: 0.7012 - val_loss: 0.7350 - val_accuracy: 0.6889 - val_recall: 0.5908 - val_precision: 0.7128\n",
      "Epoch 5/5\n",
      "270/270 [==============================] - 20s 74ms/step - loss: 0.7219 - accuracy: 0.6752 - recall: 0.4876 - precision: 0.7468 - val_loss: 0.7489 - val_accuracy: 0.6931 - val_recall: 0.6075 - val_precision: 0.7239\n"
     ]
    },
    {
     "data": {
      "text/plain": [
       "<tensorflow.python.keras.callbacks.History at 0x7f8d8c5eb430>"
      ]
     },
     "execution_count": 91,
     "metadata": {},
     "output_type": "execute_result"
    }
   ],
   "source": [
    "# Train model with X_train_comb and y_train_comb_dum\n",
    "\n",
    "sq_model.fit(X_train_comb_tok, y_train_comb_dum, epochs=5,\n",
    "          batch_size=16, validation_split=0.1)"
   ]
  },
  {
   "cell_type": "code",
   "execution_count": 92,
   "id": "81e471be-4c9d-479c-b12b-2dc7057498d7",
   "metadata": {},
   "outputs": [],
   "source": [
    "# Obtain model predictions for X_test_app and X_test_goo\n",
    "\n",
    "y_test_app_pp = sq_model.predict(X_test_app_tok)\n",
    "y_test_goo_pp = sq_model.predict(X_test_goo_tok)\n",
    "\n"
   ]
  },
  {
   "cell_type": "code",
   "execution_count": 93,
   "id": "fd7e1903-147b-4c84-a5a1-5f98aa13f20e",
   "metadata": {},
   "outputs": [],
   "source": [
    "# Convert probabilites to predicted sample target value \n",
    "\n",
    "y_test_app_hat10 = np.argmax(y_test_app_pp, axis=-1)\n",
    "y_test_goo_hat10 = np.argmax(y_test_goo_pp, axis=-1)"
   ]
  },
  {
   "cell_type": "code",
   "execution_count": 94,
   "id": "e9c47fc8-6d41-4e5f-b4ae-41e95a9cfccf",
   "metadata": {},
   "outputs": [
    {
     "name": "stdout",
     "output_type": "stream",
     "text": [
      "============================================================\n",
      "Predictions for Apple: Sequential\n",
      "Accuracy: 0.5590062111801242\n",
      "Recall: 0.5590062111801242\n",
      "Precision: 0.5590062111801242\n",
      "\n",
      "============================================================\n",
      "Predictions for Google: Sequential\n",
      "Accuracy: 0.6463636363636364\n",
      "Recall: 0.6463636363636364\n",
      "Precision: 0.6463636363636364\n",
      "\n"
     ]
    }
   ],
   "source": [
    "# Display prediction results for X_test_app and X_test_goo\n",
    "\n",
    "display_prediction_results(y_test_app_hat10, y_test_app,'Apple','Sequential')\n",
    "\n",
    "display_prediction_results(y_test_goo_hat10, y_test_goo, 'Google','Sequential')"
   ]
  },
  {
   "cell_type": "markdown",
   "id": "aab6074c-7af9-429b-b762-d5731c604914",
   "metadata": {},
   "source": [
    "## Conclusion\n",
    "The base model, DummyClassifier, had a validation accuracy of about 56% on the combined apple and google tweet dataframe (train dataframe). Predictions for apple and google tweet test samples were performed separately to be able to compare the two between one another for sentiment.  The base model gave a prediction of 52% accuracy for apple and 64% for google with an overal average accuracy of 58%.  Five additioanl models (Multinomial NB, KNeighbor, Random Forest, Logistic Regression and SupportVectorClassifier(SVC))were then evaluated for their prediction performance and they all gave similar accuracy within 5% of each other.  SVC model was selected as our best model as it gave overall better performance relative to the other four. Validation accuracy for SVC model was about 65%. For test samples, accuracy for apple was about 63% and for google 71% with an overall accuracy of 67% for our best model. Utilized gridsearchcv to adjust hyperparamters(tunning) for these models. Following NLP processing the tweet text was converted into matrix of tokens using mostly CountVectorizer for TfidfVectorizer diminished model performance a little bit. To correct for data classification imbalance (7% negative, 56% neutral and 37% positive sentiment) the combined trained data was synthetically balanced using SMOTE.  However, this did not improve model performance. We also tried neural network Sequential model but were unable to increase accuracy.\n",
    "\n",
    "Our best model for Twitter sentiment prediction was therefore SVC which gave an overal accuracy of about 67%. The model under-predicted for all three classifications relative to actual for both firms. Also, it missed predicting correctly negative sentiment the most followed by positive and then neutral.  This may be because the dataset contained the fewest mumber of negative sentiment tweets. The dataset has a moderate number of positive tweets and the most for neutral tweets. However, our model was able to correctly predict the overall trend for classification ratios where tweets with neutral sentiment had the highest ratio followed by positive and then negative. In addition, our model was able to correctly predict which of the two firms had a higher positive sentiment. "
   ]
  },
  {
   "cell_type": "markdown",
   "id": "f0e695f0-ff67-4ac2-8197-d520692c8d48",
   "metadata": {},
   "source": [
    "## Next Steps:\n",
    "To potentially improve models performance\n",
    "* Take a closer look at tweets that had negative sentiment.  Our best model missed these more than positive and neutral sentiments\n",
    "* Setup a model based on scoring words or phrases for negative, neutral or positive sentiment\n",
    "* Consider data from other social media platforms like review sites for products and services"
   ]
  },
  {
   "cell_type": "code",
   "execution_count": null,
   "id": "aed8230c-3d46-48c7-a559-fd106b6b63f2",
   "metadata": {},
   "outputs": [],
   "source": []
  }
 ],
 "metadata": {
  "kernelspec": {
   "display_name": "Python (learn-env)",
   "language": "python",
   "name": "learn-env"
  },
  "language_info": {
   "codemirror_mode": {
    "name": "ipython",
    "version": 3
   },
   "file_extension": ".py",
   "mimetype": "text/x-python",
   "name": "python",
   "nbconvert_exporter": "python",
   "pygments_lexer": "ipython3",
   "version": "3.8.5"
  }
 },
 "nbformat": 4,
 "nbformat_minor": 5
}
